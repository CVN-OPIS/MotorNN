{
 "cells": [
  {
   "cell_type": "code",
   "execution_count": 1,
   "metadata": {},
   "outputs": [],
   "source": [
    "import torch\n",
    "import torch.autograd as autograd\n",
    "import torch.nn as nn\n",
    "import torch.nn.functional as F\n",
    "import torch.optim as optim\n",
    "from torch.autograd import Variable\n",
    "\n",
    "import scipy.io as sio\n",
    "from scipy.signal import resample\n",
    "import os\n",
    "\n",
    "import numpy as np\n",
    "import random\n",
    "import pickle \n",
    "from sklearn import preprocessing\n",
    "\n",
    "%matplotlib inline\n",
    "import matplotlib.pyplot as plt\n",
    "\n",
    "import sys\n",
    "sys.path.append('..')\n"
   ]
  },
  {
   "cell_type": "code",
   "execution_count": 129,
   "metadata": {},
   "outputs": [],
   "source": [
    "def normalize(quant, minn, maxx):\n",
    "    a = -1\n",
    "    b = 1\n",
    "    t = a + ( quant - minn) * ((b - a) / (maxx - minn))\n",
    "    return t.astype(np.float32)"
   ]
  },
  {
   "cell_type": "code",
   "execution_count": 152,
   "metadata": {},
   "outputs": [],
   "source": [
    "class FFIntNet(nn.Module):\n",
    "    def __init__(self, input_dim=30, output_dim=1, act='tanh'):\n",
    "        super(FFIntNet, self).__init__()\n",
    "        self.linear1 = nn.Linear(input_dim, 32, bias=False)\n",
    "        self.linear2 = nn.Linear(32, 64, bias=False)\n",
    "        self.linear3 = nn.Linear(64, 32, bias=False)\n",
    "        self.linear4 = nn.Linear(32, 16, bias=False)\n",
    "        self.linear5 = nn.Linear(16, output_dim, bias=False)\n",
    "        self.dropout = nn.Dropout(0.5)\n",
    "        if act == 'relu':\n",
    "            self.act = nn.ReLU()\n",
    "        if act == 'tanh':\n",
    "            self.act = nn.Tanh()\n",
    "\n",
    "    def forward(self, x):\n",
    "        out = self.act(self.linear1(x))\n",
    "        out = self.act(self.linear2(out))\n",
    "        out = self.act(self.linear3(out))\n",
    "        out = self.act(self.linear4(out))\n",
    "        out = self.linear5(out)\n",
    "        return out\n"
   ]
  },
  {
   "cell_type": "code",
   "execution_count": 160,
   "metadata": {},
   "outputs": [],
   "source": [
    "class RNNNet(nn.Module):\n",
    "\n",
    "    def __init__(self, input_dim, output_dim, hidden_dim=5, act='relu'):\n",
    "        super(RNNNet, self).__init__()\n",
    "\n",
    "        self.rnn = nn.RNN(input_dim, hidden_dim, 1, batch_first=True, nonlinearity=act)\n",
    "        self.linear1 = nn.Linear(hidden_dim, 10)\n",
    "        self.linear2 = nn.Linear(10, output_dim)\n",
    "        if act == 'relu':\n",
    "            self.act = nn.ReLU()\n",
    "        if act == 'tanh':\n",
    "            self.act = nn.Tanh()\n",
    "\n",
    "    def forward(self, seq):\n",
    "        out = self.rnn(seq)[0]\n",
    "        out = self.act(self.linear1(out))\n",
    "        out = self.linear2(out)\n",
    "        out = torch.mean(out, dim=1)\n",
    "        return out"
   ]
  },
  {
   "cell_type": "code",
   "execution_count": 30,
   "metadata": {},
   "outputs": [
    {
     "name": "stdout",
     "output_type": "stream",
     "text": [
      "117\n"
     ]
    }
   ],
   "source": []
  },
  {
   "cell_type": "code",
   "execution_count": 5,
   "metadata": {},
   "outputs": [],
   "source": [
    "fin = open('../../datasets/raw_data_integer.pkl','rb')\n",
    "dataset = pickle.load(fin)\n",
    "fin.close()"
   ]
  },
  {
   "cell_type": "code",
   "execution_count": 147,
   "metadata": {},
   "outputs": [],
   "source": [
    "def get_train_val_samples(dataset, window, stride):\n",
    "    train_samples = []\n",
    "    for k in list(dataset.keys())[:8]:\n",
    "        for i in range(0,dataset[k].shape[1],stride):\n",
    "            if i + window < dataset[k].shape[1]:\n",
    "                train_samples.append([k,i,i+window])\n",
    "    \n",
    "    val_samples = []\n",
    "    for k in list(dataset.keys())[8:]:\n",
    "        for i in range(0,dataset[k].shape[1],stride):\n",
    "            if i + window < dataset[k].shape[1]:\n",
    "                val_samples.append([k,i,i+window])\n",
    "    \n",
    "    return train_samples, val_samples"
   ]
  },
  {
   "cell_type": "code",
   "execution_count": 153,
   "metadata": {},
   "outputs": [
    {
     "name": "stdout",
     "output_type": "stream",
     "text": [
      "train samples :  194663\n",
      "val samples :  102569\n"
     ]
    }
   ],
   "source": [
    "train_samples, val_samples = get_train_val_samples(dataset, 10, 1)\n",
    "print ('train samples : ',len(train_samples))\n",
    "print ('val samples : ',len(val_samples))"
   ]
  },
  {
   "cell_type": "code",
   "execution_count": 161,
   "metadata": {},
   "outputs": [
    {
     "name": "stdout",
     "output_type": "stream",
     "text": [
      "121\n"
     ]
    }
   ],
   "source": [
    "# net =  FFIntNet(act='relu').cuda()\n",
    "net = RNNNet(3, 1, act='tanh').cuda()\n",
    "print (sum(p.numel() for p in net.parameters()))\n",
    "# inp = torch.randn(1024,15).cuda()\n",
    "# net(inp).size()\n",
    "\n",
    "criterion = nn.MSELoss()\n",
    "optimizer = optim.Adam(net.parameters(), lr=0.0001)"
   ]
  },
  {
   "cell_type": "code",
   "execution_count": 172,
   "metadata": {},
   "outputs": [
    {
     "name": "stdout",
     "output_type": "stream",
     "text": [
      "epoch :  0 train loss :  1.5690022906707843  val loss :  2.135553885089916\n",
      "epoch :  1 train loss :  1.5718193428678662  val loss :  2.3597779654219715\n",
      "epoch :  2 train loss :  1.5552249990832743  val loss :  2.0652490363705276\n",
      "epoch :  3 train loss :  1.5705146901894613  val loss :  2.0945972546884364\n",
      "epoch :  4 train loss :  1.5749958263641877  val loss :  2.2315658693958826\n",
      "epoch :  5 train loss :  1.5700783236488622  val loss :  1.973316286372408\n",
      "epoch :  6 train loss :  1.5726119136310996  val loss :  2.172945091619743\n",
      "epoch :  7 train loss :  1.5720556031971078  val loss :  2.1294874801660084\n",
      "epoch :  8 train loss :  1.5684498723264764  val loss :  1.906238110422498\n"
     ]
    },
    {
     "ename": "KeyboardInterrupt",
     "evalue": "",
     "output_type": "error",
     "traceback": [
      "\u001b[0;31m---------------------------------------------------------------------------\u001b[0m",
      "\u001b[0;31mKeyboardInterrupt\u001b[0m                         Traceback (most recent call last)",
      "\u001b[0;32m<ipython-input-172-eb3a964216b1>\u001b[0m in \u001b[0;36m<module>\u001b[0;34m()\u001b[0m\n\u001b[1;32m     17\u001b[0m \u001b[0;34m\u001b[0m\u001b[0m\n\u001b[1;32m     18\u001b[0m                 \u001b[0mv1\u001b[0m \u001b[0;34m=\u001b[0m \u001b[0mnormalize\u001b[0m\u001b[0;34m(\u001b[0m\u001b[0mv1\u001b[0m\u001b[0;34m,\u001b[0m \u001b[0;34m-\u001b[0m\u001b[0;36m2\u001b[0m\u001b[0;34m**\u001b[0m\u001b[0;36m15\u001b[0m\u001b[0;34m,\u001b[0m \u001b[0;36m2\u001b[0m\u001b[0;34m**\u001b[0m\u001b[0;36m15\u001b[0m\u001b[0;34m)\u001b[0m\u001b[0;34m\u001b[0m\u001b[0;34m\u001b[0m\u001b[0m\n\u001b[0;32m---> 19\u001b[0;31m                 \u001b[0mv2\u001b[0m \u001b[0;34m=\u001b[0m \u001b[0mnormalize\u001b[0m\u001b[0;34m(\u001b[0m\u001b[0mv2\u001b[0m\u001b[0;34m,\u001b[0m \u001b[0;34m-\u001b[0m\u001b[0;36m2\u001b[0m\u001b[0;34m**\u001b[0m\u001b[0;36m15\u001b[0m\u001b[0;34m,\u001b[0m \u001b[0;36m2\u001b[0m\u001b[0;34m**\u001b[0m\u001b[0;36m15\u001b[0m\u001b[0;34m)\u001b[0m\u001b[0;34m\u001b[0m\u001b[0;34m\u001b[0m\u001b[0m\n\u001b[0m\u001b[1;32m     20\u001b[0m                 \u001b[0ms\u001b[0m \u001b[0;34m=\u001b[0m \u001b[0mnormalize\u001b[0m\u001b[0;34m(\u001b[0m\u001b[0ms\u001b[0m\u001b[0;34m,\u001b[0m \u001b[0;34m-\u001b[0m\u001b[0;36m2\u001b[0m\u001b[0;34m**\u001b[0m\u001b[0;36m15\u001b[0m\u001b[0;34m,\u001b[0m \u001b[0;36m2\u001b[0m\u001b[0;34m**\u001b[0m\u001b[0;36m15\u001b[0m\u001b[0;34m)\u001b[0m\u001b[0;34m\u001b[0m\u001b[0;34m\u001b[0m\u001b[0m\n\u001b[1;32m     21\u001b[0m \u001b[0;34m\u001b[0m\u001b[0m\n",
      "\u001b[0;32m<ipython-input-129-897609516c8c>\u001b[0m in \u001b[0;36mnormalize\u001b[0;34m(quant, minn, maxx)\u001b[0m\n\u001b[1;32m      2\u001b[0m     \u001b[0ma\u001b[0m \u001b[0;34m=\u001b[0m \u001b[0;34m-\u001b[0m\u001b[0;36m1\u001b[0m\u001b[0;34m\u001b[0m\u001b[0;34m\u001b[0m\u001b[0m\n\u001b[1;32m      3\u001b[0m     \u001b[0mb\u001b[0m \u001b[0;34m=\u001b[0m \u001b[0;36m1\u001b[0m\u001b[0;34m\u001b[0m\u001b[0;34m\u001b[0m\u001b[0m\n\u001b[0;32m----> 4\u001b[0;31m     \u001b[0mt\u001b[0m \u001b[0;34m=\u001b[0m \u001b[0ma\u001b[0m \u001b[0;34m+\u001b[0m \u001b[0;34m(\u001b[0m \u001b[0mquant\u001b[0m \u001b[0;34m-\u001b[0m \u001b[0mminn\u001b[0m\u001b[0;34m)\u001b[0m \u001b[0;34m*\u001b[0m \u001b[0;34m(\u001b[0m\u001b[0;34m(\u001b[0m\u001b[0mb\u001b[0m \u001b[0;34m-\u001b[0m \u001b[0ma\u001b[0m\u001b[0;34m)\u001b[0m \u001b[0;34m/\u001b[0m \u001b[0;34m(\u001b[0m\u001b[0mmaxx\u001b[0m \u001b[0;34m-\u001b[0m \u001b[0mminn\u001b[0m\u001b[0;34m)\u001b[0m\u001b[0;34m)\u001b[0m\u001b[0;34m\u001b[0m\u001b[0;34m\u001b[0m\u001b[0m\n\u001b[0m\u001b[1;32m      5\u001b[0m     \u001b[0;32mreturn\u001b[0m \u001b[0mt\u001b[0m\u001b[0;34m.\u001b[0m\u001b[0mastype\u001b[0m\u001b[0;34m(\u001b[0m\u001b[0mnp\u001b[0m\u001b[0;34m.\u001b[0m\u001b[0mfloat32\u001b[0m\u001b[0;34m)\u001b[0m\u001b[0;34m\u001b[0m\u001b[0;34m\u001b[0m\u001b[0m\n",
      "\u001b[0;31mKeyboardInterrupt\u001b[0m: "
     ]
    }
   ],
   "source": [
    "for epoch in range(100):\n",
    "    random.shuffle(train_samples)\n",
    "    \n",
    "    train_losses = []\n",
    "    val_losses = []\n",
    "    \n",
    "    net.train()\n",
    "    \n",
    "    for i in range(0,len(train_samples),1024):\n",
    "        inp = []\n",
    "        out = []\n",
    "        for j in range(i,i+256):\n",
    "            if j < len(train_samples):\n",
    "                v1 = dataset[train_samples[j][0]][0,train_samples[j][1]:train_samples[j][2]]\n",
    "                v2 = dataset[train_samples[j][0]][1,train_samples[j][1]:train_samples[j][2]]\n",
    "                s = dataset[train_samples[j][0]][2,train_samples[j][1]:train_samples[j][2]]\n",
    "                \n",
    "                v1 = normalize(v1, -2**15, 2**15)\n",
    "                v2 = normalize(v2, -2**15, 2**15)\n",
    "                s = normalize(s, -2**15, 2**15)\n",
    "                \n",
    "                c1 = dataset[train_samples[j][0]][3,train_samples[j][1]+5]\n",
    "                c2 = dataset[train_samples[j][0]][4,train_samples[j][1]+5]\n",
    "                t = dataset[train_samples[j][0]][5,train_samples[j][1]+5]\n",
    "                \n",
    "                c1 = normalize(c1, -2**12, 2**12)\n",
    "                c2 = normalize(c2, -2**12, 2**12)\n",
    "                t = normalize(t, -2**10, 2**10)\n",
    "                \n",
    "                inp.append([v1,v2,s])\n",
    "                out.append([t])\n",
    "        inp = torch.from_numpy(np.asarray(inp)).cuda().float()\n",
    "        out = torch.from_numpy(np.asarray(out)).cuda().float()\n",
    "        \n",
    "#         inp = inp.view(inp.size()[0], -1)\n",
    "        inp = inp.permute(0,2,1)\n",
    "#         print (inp.size())\n",
    "        pred = net(inp)\n",
    "        \n",
    "        out = out.view(out.size()[0], -1)\n",
    "        \n",
    "#         print (pred.size(),out.size())\n",
    "        loss = criterion(pred, out)\n",
    "        loss.backward()\n",
    "        optimizer.step()\n",
    "        \n",
    "        train_losses.append(loss.item())\n",
    "        \n",
    "    train_loss = np.mean(train_losses)\n",
    "    \n",
    "    net.eval()\n",
    "    \n",
    "    for i in range(0,len(val_samples),1024):\n",
    "        inp = []\n",
    "        out = []\n",
    "        for j in range(i,i+256):\n",
    "            if j < len(val_samples):\n",
    "                v1 = dataset[val_samples[j][0]][0,val_samples[j][1]:val_samples[j][2]]\n",
    "                v2 = dataset[val_samples[j][0]][1,val_samples[j][1]:val_samples[j][2]]\n",
    "                s = dataset[val_samples[j][0]][2,val_samples[j][1]:val_samples[j][2]]\n",
    "                \n",
    "                v1 = normalize(v1, -2**15, 2**15)\n",
    "                v2 = normalize(v2, -2**15, 2**15)\n",
    "                s = normalize(s, -2**15, 2**15)\n",
    "                \n",
    "                c1 = dataset[val_samples[j][0]][3,val_samples[j][1]+5]\n",
    "                c2 = dataset[val_samples[j][0]][4,val_samples[j][1]+5]\n",
    "                t = dataset[val_samples[j][0]][5,val_samples[j][1]+5]\n",
    "                \n",
    "                c1 = normalize(c1, -2**12, 2**12)\n",
    "                c2 = normalize(c2, -2**12, 2**12)\n",
    "                t = normalize(t, -2**10, 2**10)\n",
    "                \n",
    "                inp.append([v1,v2,s])\n",
    "                out.append([t])\n",
    "                \n",
    "        inp = torch.from_numpy(np.asarray(inp)).cuda().float()\n",
    "        out = torch.from_numpy(np.asarray(out)).cuda().float()\n",
    "        \n",
    "#         inp = inp.view(inp.size()[0], -1)\n",
    "        inp = inp.permute(0,2,1)\n",
    "        pred = net(inp)\n",
    "        \n",
    "        out = out.view(out.size()[0], -1)\n",
    "        \n",
    "#         print (out.size(), pred.size())\n",
    "        loss = criterion(pred, out)\n",
    "        \n",
    "        val_losses.append(loss.item())\n",
    "        \n",
    "    val_loss = np.mean(val_losses)\n",
    "    \n",
    "    print ('epoch : ', epoch, 'train loss : ', train_loss, ' val loss : ', val_loss)"
   ]
  },
  {
   "cell_type": "code",
   "execution_count": 182,
   "metadata": {},
   "outputs": [],
   "source": [
    "c1_true = []\n",
    "c2_true = []\n",
    "t_true = []\n",
    "\n",
    "c1_pred = []\n",
    "c2_pred = []\n",
    "t_pred = []\n",
    "\n",
    "val_data = dataset['LM60_TroqueSteps.mat']\n",
    "for i in range(0,val_data.shape[1],1):\n",
    "    if i + 5< val_data.shape[1]:\n",
    "        v1 = val_data[0,i:i+10]\n",
    "        v2 = val_data[1,i:i+10]\n",
    "        s = val_data[2,i:i+10]\n",
    "\n",
    "        v1 = normalize(v1, -2**15, 2**15)\n",
    "        v2 = normalize(v2, -2**15, 2**15)\n",
    "        s = normalize(s, -2**15, 2**15)\n",
    "\n",
    "        c1 = val_data[3,i+5]\n",
    "        c2 = val_data[4,i+5]\n",
    "        t = val_data[5,i+5]\n",
    "\n",
    "        c1 = normalize(c1, -2**12, 2**12)\n",
    "        c2 = normalize(c2, -2**12, 2**12)\n",
    "        t = normalize(t, -2**10, 2**10)\n",
    "        \n",
    "        c1_true.append(c1)\n",
    "        c2_true.append(c2)\n",
    "        t_true.append(t)\n",
    "        \n",
    "        inp = [v1,v2,s]\n",
    "        \n",
    "        inp = torch.from_numpy(np.asarray([inp])).cuda().float().permute(0,2,1)\n",
    "        \n",
    "#         print (inp.size())\n",
    "        pred = net(inp).data.cpu().numpy()\n",
    "        \n",
    "#         c1_pred.append(pred[0,0])\n",
    "#         c2_pred.append(pred[1,0])\n",
    "        t_pred.append(pred[0,0])"
   ]
  },
  {
   "cell_type": "code",
   "execution_count": 181,
   "metadata": {},
   "outputs": [
    {
     "data": {
      "text/plain": [
       "[<matplotlib.lines.Line2D at 0x7f255647aac8>]"
      ]
     },
     "execution_count": 181,
     "metadata": {},
     "output_type": "execute_result"
    },
    {
     "data": {
      "image/png": "[encoded data removed]",
      "text/plain": [
       "<Figure size 432x288 with 1 Axes>"
      ]
     },
     "metadata": {},
     "output_type": "display_data"
    }
   ],
   "source": [
    "plt.plot(t_true)\n",
    "plt.plot(t_pred)"
   ]
  },
  {
   "cell_type": "code",
   "execution_count": 34,
   "metadata": {},
   "outputs": [
    {
     "data": {
      "text/plain": [
       "dict_keys(['LM10.mat', 'LM30.mat', 'LM60_TroqueSteps.mat', 'LM50.mat', 'NoLM.mat', 'NoLM_SpeedVariations.mat', 'LM68.mat', 'NoLM_SpeedVariations2.mat', 'LM20_TorqueSteps.mat', 'LM45_TorqueSteps.mat'])"
      ]
     },
     "execution_count": 34,
     "metadata": {},
     "output_type": "execute_result"
    }
   ],
   "source": [
    "dataset.keys()"
   ]
  },
  {
   "cell_type": "code",
   "execution_count": null,
   "metadata": {},
   "outputs": [],
   "source": []
  }
 ],
 "metadata": {
  "kernelspec": {
   "display_name": "Python 3",
   "language": "python",
   "name": "python3"
  },
  "language_info": {
   "codemirror_mode": {
    "name": "ipython",
    "version": 3
   },
   "file_extension": ".py",
   "mimetype": "text/x-python",
   "name": "python",
   "nbconvert_exporter": "python",
   "pygments_lexer": "ipython3",
   "version": "3.6.7"
  }
 },
 "nbformat": 4,
 "nbformat_minor": 2
}
