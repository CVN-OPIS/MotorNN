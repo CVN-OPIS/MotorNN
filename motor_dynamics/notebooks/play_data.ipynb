{
 "cells": [
  {
   "cell_type": "code",
   "execution_count": 33,
   "metadata": {},
   "outputs": [],
   "source": [
    "import os\n",
    "import scipy.io as sio\n",
    "import numpy as np\n",
    "from scipy.signal import resample\n",
    "from scipy.interpolate import interp1d"
   ]
  },
  {
   "cell_type": "code",
   "execution_count": 43,
   "metadata": {},
   "outputs": [],
   "source": [
    "dirs = os.listdir('../../datasets/data_bak_bak/')"
   ]
  },
  {
   "cell_type": "code",
   "execution_count": 79,
   "metadata": {},
   "outputs": [
    {
     "name": "stdout",
     "output_type": "stream",
     "text": [
      "LM20_TorqueSteps.mat -323.04676654879177 385.1250515585388\n",
      "-323.04676654879177 385.1250515585388\n",
      "LM30.mat 182.97514585498413 206.84772186645444\n",
      "182.97514585498413 206.84772186645444\n",
      "LM60_TroqueSteps.mat 0.047936899621426284 420.4066096799085\n",
      "0.047936899623129345 420.40660967990436\n",
      "LM68.mat 422.56377016287274 443.8956904944074\n",
      "422.56377016287274 443.8956904944074\n",
      "NoLM.mat -0.14381069886427886 630.6578514194842\n",
      "-0.14381069886427886 630.6578514194842\n",
      "NoLM_SpeedVariations2.mat -630.3222931221343 664.7409870503183\n",
      "-630.3222931221343 664.7409870503183\n"
     ]
    }
   ],
   "source": [
    "dirr = 'test_raw'\n",
    "mats = os.listdir('../../datasets/data_bak_bak/' + dirr)\n",
    "for mat in mats:\n",
    "    data = sio.loadmat('../../datasets/data_bak_bak/' + dirr + '/' + mat)\n",
    "    voltage_d = data['vd'][:, 0]\n",
    "    voltage_q = data['vq'][:, 0]\n",
    "    current_d = data['id'][:, 0]\n",
    "    current_q = data['iq'][:, 0]\n",
    "    speed = data['spd'][:, 0] * 2 * np.pi\n",
    "    torque = data['trq'][:, 0]\n",
    "\n",
    "    current_time = data['it'][:, 0]\n",
    "    voltage_time = data['vt'][:, 0]\n",
    "\n",
    "    print (mat, speed.min(), speed.max())\n",
    "    v1f = interp1d(voltage_time, voltage_d)\n",
    "    v2f = interp1d(voltage_time, voltage_q)\n",
    "    spdf = interp1d(voltage_time, speed)\n",
    "    trqf = interp1d(voltage_time, torque)\n",
    "    c1f = interp1d(current_time, current_d)\n",
    "    c2f = interp1d(current_time, current_q)\n",
    "\n",
    "    current_time = current_time[:voltage_d.shape[0]]\n",
    "    nvoltage_d = v1f(current_time[1:])\n",
    "    nvoltage_q = v2f(current_time[1:])\n",
    "    nspeed = spdf(current_time[1:])\n",
    "    ntorque = trqf(current_time[1:])\n",
    "    ncurrent_d = c1f(current_time[1:])\n",
    "    ncurrent_q = c2f(current_time[1:])\n",
    "    time = current_time[1:]\n",
    "\n",
    "    ndata = {'voltage_d': nvoltage_d,\n",
    "               'voltage_q': nvoltage_q,\n",
    "               'speed': nspeed,\n",
    "               'current_d': ncurrent_d,\n",
    "               'current_q': ncurrent_q,\n",
    "               'torque': ntorque,\n",
    "               'time': time}\n",
    "    sio.savemat('../../datasets/data/' + dirr + '/' + mat, ndata)\n",
    "    print (nspeed.min(), nspeed.max())"
   ]
  },
  {
   "cell_type": "code",
   "execution_count": null,
   "metadata": {},
   "outputs": [],
   "source": []
  }
 ],
 "metadata": {
  "kernelspec": {
   "display_name": "Python 3",
   "language": "python",
   "name": "python3"
  },
  "language_info": {
   "codemirror_mode": {
    "name": "ipython",
    "version": 3
   },
   "file_extension": ".py",
   "mimetype": "text/x-python",
   "name": "python",
   "nbconvert_exporter": "python",
   "pygments_lexer": "ipython3",
   "version": "3.6.7"
  }
 },
 "nbformat": 4,
 "nbformat_minor": 2
}
