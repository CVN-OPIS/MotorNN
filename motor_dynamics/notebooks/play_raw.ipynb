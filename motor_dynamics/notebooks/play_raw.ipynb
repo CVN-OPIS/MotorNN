{
 "cells": [
  {
   "cell_type": "code",
   "execution_count": 1,
   "metadata": {},
   "outputs": [],
   "source": [
    "import numpy as np\n",
    "import random\n",
    "from math import floor, ceil\n",
    "\n",
    "from sklearn import preprocessing\n",
    "import scipy.io as sio\n",
    "from scipy.signal import resample\n",
    "from scipy.interpolate import interp1d\n",
    "\n",
    "%matplotlib inline\n",
    "import matplotlib.pyplot as plt\n",
    "import os\n",
    "import math"
   ]
  },
  {
   "cell_type": "code",
   "execution_count": 2,
   "metadata": {},
   "outputs": [],
   "source": [
    "def normalize(quant, minn, maxx):\n",
    "    a = 0\n",
    "    b = 1\n",
    "    t = a + ( quant - minn) * ((b - a) / (maxx - minn))\n",
    "    return t.astype(np.float32)"
   ]
  },
  {
   "cell_type": "code",
   "execution_count": 8,
   "metadata": {},
   "outputs": [
    {
     "name": "stdout",
     "output_type": "stream",
     "text": [
      "dict_keys(['__header__', '__version__', '__globals__', 'id', 'iq', 'it', 'spd', 'trq', 'vd', 'vq', 'vt'])\n"
     ]
    }
   ],
   "source": [
    "data = sio.loadmat('../../../datasets/RawDataMats/LM20_TorqueSteps.mat')\n",
    "print (data.keys())\n",
    "\n",
    "voltage1 = normalize(data['vd'][:, 0], -300, 300)\n",
    "voltage2 = normalize(data['vq'][: ,0], -300, 300)\n",
    "speed = normalize(data['spd'][:, 0], -350, 350)\n",
    "current1 = normalize(data['id'][:, 0], -30, 30)\n",
    "current2 = normalize(data['iq'][:, 0], -30, 30)\n",
    "torque = normalize(data['trq'][:, 0], -50, 50)\n",
    "it = data['it'][:, 0]\n",
    "vt = data['vt'][:, 0]"
   ]
  },
  {
   "cell_type": "code",
   "execution_count": 13,
   "metadata": {},
   "outputs": [
    {
     "data": {
      "text/plain": [
       "((51225,), (51175,), (51175,), (51175,))"
      ]
     },
     "execution_count": 13,
     "metadata": {},
     "output_type": "execute_result"
    }
   ],
   "source": [
    "it.shape, vt.shape, voltage1.shape, torque.shape"
   ]
  },
  {
   "cell_type": "code",
   "execution_count": 11,
   "metadata": {},
   "outputs": [
    {
     "data": {
      "text/plain": [
       "(array([205.213, 205.217, 205.221, 205.225, 205.229, 205.233, 205.237,\n",
       "        205.241, 205.245, 205.249, 205.253, 205.257, 205.261, 205.265,\n",
       "        205.269, 205.273, 205.277, 205.281, 205.285, 205.289, 205.293,\n",
       "        205.297, 205.301, 205.305, 205.309, 205.313, 205.317, 205.321,\n",
       "        205.325, 205.329, 205.333, 205.337, 205.341, 205.345, 205.349,\n",
       "        205.353, 205.357, 205.361, 205.365, 205.369, 205.373, 205.377,\n",
       "        205.381, 205.385, 205.389, 205.393, 205.397, 205.401, 205.405,\n",
       "        205.409, 205.413, 205.417, 205.421, 205.425, 205.429, 205.433,\n",
       "        205.437, 205.441, 205.445, 205.449, 205.453, 205.457, 205.461,\n",
       "        205.465, 205.469, 205.473, 205.477, 205.481, 205.485, 205.489,\n",
       "        205.493, 205.497, 205.501, 205.505, 205.509, 205.513, 205.517,\n",
       "        205.521, 205.525, 205.529, 205.533, 205.537, 205.541, 205.545,\n",
       "        205.549, 205.553, 205.559, 205.563, 205.567, 205.571, 205.575,\n",
       "        205.579, 205.583, 205.587, 205.591, 205.595, 205.599, 205.603,\n",
       "        205.607, 205.611]),\n",
       " array([205.221, 205.225, 205.229, 205.233, 205.237, 205.241, 205.245,\n",
       "        205.249, 205.253, 205.257, 205.261, 205.265, 205.269, 205.273,\n",
       "        205.277, 205.281, 205.285, 205.289, 205.293, 205.297, 205.301,\n",
       "        205.305, 205.309, 205.313, 205.317, 205.321, 205.325, 205.329,\n",
       "        205.333, 205.337, 205.341, 205.345, 205.349, 205.353, 205.357,\n",
       "        205.361, 205.365, 205.369, 205.373, 205.377, 205.381, 205.385,\n",
       "        205.389, 205.393, 205.397, 205.401, 205.405, 205.409, 205.413,\n",
       "        205.417, 205.421, 205.425, 205.429, 205.433, 205.437, 205.441,\n",
       "        205.445, 205.449, 205.453, 205.457, 205.461, 205.465, 205.469,\n",
       "        205.473, 205.477, 205.481, 205.485, 205.489, 205.493, 205.497,\n",
       "        205.501, 205.505, 205.509, 205.513, 205.517, 205.521, 205.525,\n",
       "        205.529, 205.533, 205.537, 205.541, 205.545, 205.549, 205.553,\n",
       "        205.557, 205.559, 205.563, 205.567, 205.571, 205.575, 205.579,\n",
       "        205.583, 205.587, 205.591, 205.595, 205.599, 205.603, 205.607,\n",
       "        205.611, 205.615]))"
      ]
     },
     "execution_count": 11,
     "metadata": {},
     "output_type": "execute_result"
    }
   ],
   "source": [
    "it[-100:], vt[-100:]"
   ]
  },
  {
   "cell_type": "code",
   "execution_count": 39,
   "metadata": {},
   "outputs": [
    {
     "data": {
      "text/plain": [
       "((10238,), (10242,))"
      ]
     },
     "execution_count": 39,
     "metadata": {},
     "output_type": "execute_result"
    }
   ],
   "source": [
    "speed.shape, current1.shape"
   ]
  },
  {
   "cell_type": "code",
   "execution_count": null,
   "metadata": {},
   "outputs": [],
   "source": []
  },
  {
   "cell_type": "code",
   "execution_count": null,
   "metadata": {},
   "outputs": [],
   "source": []
  },
  {
   "cell_type": "code",
   "execution_count": 65,
   "metadata": {},
   "outputs": [
    {
     "data": {
      "text/plain": [
       "[<matplotlib.lines.Line2D at 0x7f5c7778be48>]"
      ]
     },
     "execution_count": 65,
     "metadata": {},
     "output_type": "execute_result"
    },
    {
     "data": {
      "image/png": "[encoded data removed]",
      "text/plain": [
       "<Figure size 432x288 with 1 Axes>"
      ]
     },
     "metadata": {},
     "output_type": "display_data"
    }
   ],
   "source": [
    "plt.plot(it[1:], nv1)"
   ]
  },
  {
   "cell_type": "code",
   "execution_count": 75,
   "metadata": {},
   "outputs": [],
   "source": [
    "raws = os.listdir('../../datasets/RawDataMats/') "
   ]
  },
  {
   "cell_type": "code",
   "execution_count": 76,
   "metadata": {},
   "outputs": [],
   "source": [
    "vqs = []\n",
    "vds = []\n",
    "spds = []\n",
    "iqs = []\n",
    "ids = []\n",
    "trqs = []\n",
    "for raw in raws:\n",
    "    data = sio.loadmat('../../datasets/RawDataMats/' + raw)\n",
    "    vqs.append(data['vq'].min())\n",
    "    vqs.append(data['vq'].max())\n",
    "    vds.append(data['vd'].min())\n",
    "    vds.append(data['vd'].max())\n",
    "    iqs.append(data['iq'].min())\n",
    "    iqs.append(data['iq'].max())\n",
    "    ids.append(data['id'].min())\n",
    "    ids.append(data['id'].max())\n",
    "    trqs.append(data['trq'].min())\n",
    "    trqs.append(data['trq'].max())\n",
    "    spds.append(data['spd'].min())\n",
    "    spds.append(data['spd'].max())\n",
    "    "
   ]
  },
  {
   "cell_type": "code",
   "execution_count": 77,
   "metadata": {},
   "outputs": [
    {
     "name": "stdout",
     "output_type": "stream",
     "text": [
      "-445.7720947265625 459.1227722167969\n",
      "-172.74371337890625 189.83258056640625\n",
      "-23.712890625 24.44091796875\n",
      "-7.93896484375 17.663330078125\n",
      "-39.31884765625 39.404296875\n",
      "-630.3222931221343 664.7409870503183\n"
     ]
    }
   ],
   "source": [
    "print (min(vqs),max(vqs))\n",
    "print (min(vds),max(vds))\n",
    "print (min(iqs),max(iqs))\n",
    "print (min(ids),max(ids))\n",
    "print (min(trqs) / 100 * 25,max(trqs) / 100 * 25)\n",
    "print (min(spds) * 2 * math.pi,max(spds) * 2 * math.pi)"
   ]
  },
  {
   "cell_type": "code",
   "execution_count": 85,
   "metadata": {},
   "outputs": [],
   "source": [
    "sims = os.listdir('../../datasets/SimSynthData/')\n",
    "\n",
    "for sim in sims:\n",
    "    v = sio.loadmat('../../datasets/SimSynthData/' + sim + '/Voltage.mat')['voltage']\n",
    "    c = sio.loadmat('../../datasets/SimSynthData/' + sim + '/Current.mat')['current']\n",
    "    s = sio.loadmat('../../datasets/SimSynthData/' + sim + '/Speed.mat')['speed']\n",
    "    t = sio.loadmat('../../datasets/SimSynthData/' + sim + '/Torque.mat')['torque']\n",
    "    time = sio.loadmat('../../datasets/SimSynthData/' + sim + '/Time.mat')['time']\n",
    "    data = {'vd':v[:,0:1], 'vq':v[:,1:2], 'id':c[:,0:1], 'iq':c[:,1:2], \n",
    "            'spd':s[:,0:1], 'trq':t[:,0:1], 'it':time[:,0:1],'vt':time[:,0:1]}\n",
    "    sio.savemat('../../datasets/data/' + sim, data)"
   ]
  },
  {
   "cell_type": "code",
   "execution_count": 81,
   "metadata": {},
   "outputs": [
    {
     "data": {
      "text/plain": [
       "(71901, 2)"
      ]
     },
     "execution_count": 81,
     "metadata": {},
     "output_type": "execute_result"
    }
   ],
   "source": [
    "v.shape"
   ]
  },
  {
   "cell_type": "code",
   "execution_count": null,
   "metadata": {},
   "outputs": [],
   "source": []
  }
 ],
 "metadata": {
  "kernelspec": {
   "display_name": "Python 3",
   "language": "python",
   "name": "python3"
  },
  "language_info": {
   "codemirror_mode": {
    "name": "ipython",
    "version": 3
   },
   "file_extension": ".py",
   "mimetype": "text/x-python",
   "name": "python",
   "nbconvert_exporter": "python",
   "pygments_lexer": "ipython3",
   "version": "3.6.7"
  }
 },
 "nbformat": 4,
 "nbformat_minor": 2
}
