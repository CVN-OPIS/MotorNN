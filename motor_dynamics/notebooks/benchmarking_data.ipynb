{
 "cells": [
  {
   "cell_type": "code",
   "execution_count": 75,
   "metadata": {},
   "outputs": [],
   "source": [
    "import os \n",
    "\n",
    "import random\n",
    "import scipy.io as sio\n",
    "import numpy as np\n",
    "\n",
    "%matplotlib inline\n",
    "\n",
    "import matplotlib.pyplot as plt"
   ]
  },
  {
   "cell_type": "code",
   "execution_count": 5,
   "metadata": {},
   "outputs": [],
   "source": [
    "pos_torque_zones = [x for x in range(0, 120, 5)]\n",
    "pos_speed_zones = [x for x in range(0, 80, 2)]\n",
    "neg_torque_zones = [x for x in range(-120, 0, 5)]\n",
    "neg_speed_zones = [x for x in range(-80, 0, 2)]\n",
    "time = [x for x in range(0, 25, 1)]"
   ]
  },
  {
   "cell_type": "code",
   "execution_count": null,
   "metadata": {},
   "outputs": [],
   "source": []
  },
  {
   "cell_type": "code",
   "execution_count": 6,
   "metadata": {},
   "outputs": [],
   "source": [
    "# reference_torque.sort()\n",
    "# reference_speed.sort()"
   ]
  },
  {
   "cell_type": "code",
   "execution_count": 7,
   "metadata": {},
   "outputs": [],
   "source": [
    "for i in range(250):\n",
    "    reference_torque = [0] + random.choices(pos_torque_zones, k=len(time)-1)\n",
    "    reference_speed = [0] + random.choices(pos_speed_zones, k=len(time)-1)\n",
    "    reference_torque_act = np.asarray(reference_torque) * 25 / 100.\n",
    "    reference_speed_rad = np.asarray(reference_speed) * 2 * np.pi\n",
    "    sio.savemat('../../../datasets/benchmark/sim_random/Exp_' + str(i) + '.mat', {'Speed': reference_speed_rad, 'Kvalv': reference_torque_act, 't': time})\n",
    "    \n",
    "for i in range(250,500):\n",
    "    reference_torque = [0] + random.choices(pos_torque_zones, k=len(time)-1)\n",
    "    reference_speed = [0] + random.choices(neg_speed_zones, k=len(time)-1)\n",
    "    reference_torque_act = np.asarray(reference_torque) * 25 / 100.\n",
    "    reference_speed_rad = np.asarray(reference_speed) * 2 * np.pi\n",
    "    sio.savemat('../../../datasets/benchmark/sim_random/Exp_' + str(i) + '.mat', {'Speed': reference_speed_rad, 'Kvalv': reference_torque_act, 't': time})\n",
    "    \n",
    "for i in range(500,750):\n",
    "    reference_torque = [0] + random.choices(neg_torque_zones, k=len(time)-1)\n",
    "    reference_speed = [0] + random.choices(neg_speed_zones, k=len(time)-1)\n",
    "    reference_torque_act = np.asarray(reference_torque) * 25 / 100.\n",
    "    reference_speed_rad = np.asarray(reference_speed) * 2 * np.pi\n",
    "    sio.savemat('../../../datasets/benchmark/sim_random/Exp_' + str(i) + '.mat', {'Speed': reference_speed_rad, 'Kvalv': reference_torque_act, 't': time})\n",
    "    \n",
    "for i in range(750,1000):\n",
    "    reference_torque = [0] + random.choices(neg_torque_zones, k=len(time)-1)\n",
    "    reference_speed = [0] + random.choices(pos_speed_zones, k=len(time)-1)\n",
    "    reference_torque_act = np.asarray(reference_torque) * 25 / 100.\n",
    "    reference_speed_rad = np.asarray(reference_speed) * 2 * np.pi\n",
    "    sio.savemat('../../../datasets/benchmark/sim_random/Exp_' + str(i) + '.mat', {'Speed': reference_speed_rad, 'Kvalv': reference_torque_act, 't': time})"
   ]
  },
  {
   "cell_type": "code",
   "execution_count": 52,
   "metadata": {},
   "outputs": [],
   "source": []
  },
  {
   "cell_type": "code",
   "execution_count": 2,
   "metadata": {},
   "outputs": [],
   "source": [
    "#Static benchmark"
   ]
  },
  {
   "cell_type": "code",
   "execution_count": 54,
   "metadata": {},
   "outputs": [],
   "source": [
    "constant_speeds = [10, 20, 30, 50, 75, 100, -10, -20, -30, -50, -75, -100] #Hz\n",
    "constant_loads = [10, 20, 30, 50, 75, 100, 120, 150] #Per unit of nominal torque"
   ]
  },
  {
   "cell_type": "code",
   "execution_count": 55,
   "metadata": {},
   "outputs": [],
   "source": [
    "#constant speeds under no load"
   ]
  },
  {
   "cell_type": "code",
   "execution_count": 56,
   "metadata": {},
   "outputs": [],
   "source": [
    "for speed in constant_speeds:\n",
    "    ref_speed = [0] + [speed, speed]\n",
    "    ref_torque = [0] + [0, 0]\n",
    "    time = [0] + [1, 24]\n",
    "    reference_torque_act = np.asarray(ref_torque) * 25 / 100.\n",
    "    reference_speed_rad = np.asarray(ref_speed) * 2 * np.pi\n",
    "    sio.savemat('../../../datasets/benchmark/sim_static/Exp_constant_speed_' + str(speed) + '_zero_load.mat', {'Speed': reference_speed_rad, 'Kvalv': reference_torque_act, 't': time})\n",
    "    \n",
    "#     plt.plot(ref_speed, ref_torque)\n",
    "#     plt.xlabel('Speed (rad/s)')\n",
    "#     plt.ylabel('Torque Load p.u.')\n",
    "#     plt.show()"
   ]
  },
  {
   "cell_type": "code",
   "execution_count": 57,
   "metadata": {},
   "outputs": [],
   "source": [
    "#constant load under zero speed"
   ]
  },
  {
   "cell_type": "code",
   "execution_count": 58,
   "metadata": {},
   "outputs": [],
   "source": [
    "for load in constant_loads:\n",
    "    ref_speed = [0] + [0, 0]\n",
    "    ref_torque = [0] + [load, load]\n",
    "    time = [0] + [1, 25]\n",
    "    reference_torque_act = np.asarray(ref_torque) * 25 / 100.\n",
    "    reference_speed_rad = np.asarray(ref_speed) * 2 * np.pi\n",
    "    sio.savemat('../../../datasets/benchmark/sim_static/Exp_constant_load_' + str(load) + '_zero_speed.mat', {'Speed': reference_speed_rad, 'Kvalv': reference_torque_act, 't': time})\n",
    "#     plt.plot(ref_speed, ref_torque)\n",
    "#     plt.xlabel('Speed (rad/s)')\n",
    "#     plt.ylabel('Torque Load p.u.')\n",
    "#     plt.show()"
   ]
  },
  {
   "cell_type": "code",
   "execution_count": 59,
   "metadata": {},
   "outputs": [],
   "source": [
    "#constant load under constant speed"
   ]
  },
  {
   "cell_type": "code",
   "execution_count": 60,
   "metadata": {},
   "outputs": [],
   "source": [
    "for speed in constant_speeds:\n",
    "    for load in constant_loads:\n",
    "        ref_speed = [0] + [speed, speed]\n",
    "        ref_torque = [0] + [load, load]\n",
    "        time = [0] + [1, 25]\n",
    "        reference_torque_act = np.asarray(ref_torque) * 25 / 100.\n",
    "        reference_speed_rad = np.asarray(ref_speed) * 2 * np.pi\n",
    "        sio.savemat('../../../datasets/benchmark/sim_static/Exp_constant_load_' + str(load) + '_constant_speed_' + str(speed) + '.mat', {'Speed': reference_speed_rad, 'Kvalv': reference_torque_act, 't': time})\n",
    "#         plt.plot(ref_speed, ref_torque)\n",
    "#         plt.xlabel('Speed (rad/s)')\n",
    "#         plt.ylabel('Torque Load p.u.')\n",
    "#         plt.show()"
   ]
  },
  {
   "cell_type": "code",
   "execution_count": 17,
   "metadata": {},
   "outputs": [],
   "source": [
    "#Dynamic benchmark"
   ]
  },
  {
   "cell_type": "code",
   "execution_count": 104,
   "metadata": {},
   "outputs": [],
   "source": [
    "np.set_printoptions(precision=2, suppress=True)\n",
    "acc_deltas = np.arange(0.5,3,0.5)#acceleration deltas\n",
    "constant_speeds = [10, 20, 30, 50, 75, 100, -10, -20, -30, -50, -75, -100] #Hz\n",
    "constant_loads = [0, 10, 20, 30, 50, 75, 100, 120, 150] #Per unit of nominal torque"
   ]
  },
  {
   "cell_type": "code",
   "execution_count": 105,
   "metadata": {},
   "outputs": [],
   "source": [
    "#Accelerations\n",
    "for acc_delta in acc_deltas:\n",
    "    for speed in constant_speeds:\n",
    "        for load in constant_loads:\n",
    "            ref_speed = [0, speed, speed]\n",
    "            ref_torque = [load, load, load]\n",
    "            time = [0, acc_delta, 25]\n",
    "            reference_torque_act = np.asarray(ref_torque) * 25 / 100.\n",
    "            reference_speed_rad = np.asarray(ref_speed) * 2 * np.pi\n",
    "            sio.savemat('../../../datasets/benchmark/sim_dynamic/Exp_acc_' + str(acc_delta).split('00')[0] + '_load_' + str(load) + '_speed_' + str(speed) + '.mat', {'Speed': reference_speed_rad, 'Kvalv': reference_torque_act, 't': time})\n",
    "#             os.mkdir('../../../datasets/benchmark/sim_dynamic_output/Exp_acc_' + str(acc_delta).split('00')[0] + '_load_' + str(load) + '_speed_' + str(speed))\n",
    "    break"
   ]
  },
  {
   "cell_type": "code",
   "execution_count": 87,
   "metadata": {},
   "outputs": [],
   "source": [
    "#Decelerations\n",
    "for acc_delta in acc_deltas:\n",
    "    for speed in constant_speeds:\n",
    "        for load in constant_loads:\n",
    "            ref_speed = [speed, speed, 0, 0]\n",
    "            ref_torque = [load, load, 0, 0]\n",
    "            time = [0, 5, acc_delta + 5, 25]\n",
    "            reference_torque_act = np.asarray(ref_torque) * 25 / 100.\n",
    "            reference_speed_rad = np.asarray(ref_speed) * 2 * np.pi\n",
    "            sio.savemat('../../../datasets/benchmark/sim_dynamic/Exp_dec_' + str(acc_delta).split('00')[0] + '_load_' + str(load) + '_speed_' + str(speed) + '.mat', {'Speed': reference_speed_rad, 'Kvalv': reference_torque_act, 't': time})\n",
    "#             os.mkdir('../../../datasets/benchmark/sim_dynamic_output/Exp_dec_' + str(acc_delta).split('00')[0] + '_load_' + str(load) + '_speed_' + str(speed))"
   ]
  },
  {
   "cell_type": "code",
   "execution_count": null,
   "metadata": {},
   "outputs": [],
   "source": []
  },
  {
   "cell_type": "code",
   "execution_count": null,
   "metadata": {},
   "outputs": [],
   "source": []
  }
 ],
 "metadata": {
  "kernelspec": {
   "display_name": "Python 3",
   "language": "python",
   "name": "python3"
  },
  "language_info": {
   "codemirror_mode": {
    "name": "ipython",
    "version": 3
   },
   "file_extension": ".py",
   "mimetype": "text/x-python",
   "name": "python",
   "nbconvert_exporter": "python",
   "pygments_lexer": "ipython3",
   "version": "3.6.9"
  }
 },
 "nbformat": 4,
 "nbformat_minor": 2
}
