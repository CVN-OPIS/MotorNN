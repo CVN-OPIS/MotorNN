{
 "cells": [
  {
   "cell_type": "code",
   "execution_count": 106,
   "metadata": {},
   "outputs": [],
   "source": [
    "import os \n",
    "\n",
    "import random\n",
    "import scipy.io as sio\n",
    "import numpy as np\n",
    "\n",
    "%matplotlib inline\n",
    "\n",
    "import matplotlib.pyplot as plt"
   ]
  },
  {
   "cell_type": "code",
   "execution_count": 241,
   "metadata": {},
   "outputs": [],
   "source": [
    "pos_torque_zones = [x for x in range(0, 150, 1)]\n",
    "pos_speed_zones = [x for x in range(0, 100, 1)]\n",
    "neg_speed_zones = [x for x in range(-100, 0, 1)]\n",
    "time = [x for x in range(0, 25, 1)]"
   ]
  },
  {
   "cell_type": "code",
   "execution_count": 235,
   "metadata": {},
   "outputs": [],
   "source": [
    "# reference_torque.sort()\n",
    "# reference_speed.sort()"
   ]
  },
  {
   "cell_type": "code",
   "execution_count": 246,
   "metadata": {},
   "outputs": [
    {
     "name": "stdout",
     "output_type": "stream",
     "text": [
      "-622.0353454107791\n",
      "-622.0353454107791\n",
      "-596.9026041820607\n",
      "-622.0353454107791\n",
      "-534.0707511102648\n",
      "-458.6725274241098\n",
      "-628.3185307179587\n",
      "-615.7521601035994\n",
      "-622.0353454107791\n",
      "-596.9026041820607\n"
     ]
    }
   ],
   "source": [
    "for i in range(10):\n",
    "    torque_points = [0] + random.choices(pos_torque_zones, k=len(time)//2)\n",
    "    speed_points = [0] + random.choices(pos_speed_zones, k=len(time)//2)\n",
    "    reference_torque = []\n",
    "    for tp in torque_points:\n",
    "        reference_torque.append(tp)\n",
    "        reference_torque.append(tp)\n",
    "    \n",
    "    reference_speed = []\n",
    "    for sp in speed_points:\n",
    "        reference_speed.append(sp)\n",
    "        reference_speed.append(sp)\n",
    "        \n",
    "    reference_torque_act = np.asarray(reference_torque[:-1]) * 25 / 100.\n",
    "    reference_speed_rad = np.asarray(reference_speed[:-1]) * 2 * np.pi\n",
    "    \n",
    "    sio.savemat('../../../datasets/benchmark/sim_random/Exp_' + str(i) + '.mat', {'Speed': reference_speed_rad, 'Kvalv': reference_torque_act, 't': time})\n",
    "    \n",
    "for i in range(10,20):\n",
    "    torque_points = [0] + random.choices(pos_torque_zones, k=len(time)//2)\n",
    "    speed_points = [0] + random.choices(neg_speed_zones, k=len(time)//2)\n",
    "    reference_torque = []\n",
    "    for tp in torque_points:\n",
    "        reference_torque.append(tp)\n",
    "        reference_torque.append(tp)\n",
    "    \n",
    "    reference_speed = []\n",
    "    for sp in speed_points:\n",
    "        reference_speed.append(sp)\n",
    "        reference_speed.append(sp)\n",
    "        \n",
    "    reference_torque_act = np.asarray(reference_torque[:-1]) * 25 / 100.\n",
    "    reference_speed_rad = np.asarray(reference_speed[:-1]) * 2 * np.pi\n",
    "    print (reference_speed_rad.min())\n",
    "    sio.savemat('../../../datasets/benchmark/sim_random/Exp_' + str(i) + '.mat', {'Speed': reference_speed_rad, 'Kvalv': reference_torque_act, 't': time})\n",
    "    \n",
    "# for i in range(500,750):\n",
    "#     reference_torque = [0] + random.choices(neg_torque_zones, k=len(time)-1)\n",
    "#     reference_speed = [0] + random.choices(neg_speed_zones, k=len(time)-1)\n",
    "#     reference_torque_act = np.asarray(reference_torque) * 25 / 100.\n",
    "#     reference_speed_rad = np.asarray(reference_speed) * 2 * np.pi\n",
    "#     sio.savemat('../../../datasets/benchmark/sim_random/Exp_' + str(i) + '.mat', {'Speed': reference_speed_rad, 'Kvalv': reference_torque_act, 't': time})\n",
    "    \n",
    "# for i in range(750,1000):\n",
    "#     reference_torque = [0] + random.choices(neg_torque_zones, k=len(time)-1)\n",
    "#     reference_speed = [0] + random.choices(pos_speed_zones, k=len(time)-1)\n",
    "#     reference_torque_act = np.asarray(reference_torque) * 25 / 100.\n",
    "#     reference_speed_rad = np.asarray(reference_speed) * 2 * np.pi\n",
    "#     sio.savemat('../../../datasets/benchmark/sim_random/Exp_' + str(i) + '.mat', {'Speed': reference_speed_rad, 'Kvalv': reference_torque_act, 't': time})"
   ]
  },
  {
   "cell_type": "code",
   "execution_count": 52,
   "metadata": {},
   "outputs": [],
   "source": []
  },
  {
   "cell_type": "code",
   "execution_count": 2,
   "metadata": {},
   "outputs": [],
   "source": [
    "#Static benchmark"
   ]
  },
  {
   "cell_type": "code",
   "execution_count": 54,
   "metadata": {},
   "outputs": [],
   "source": [
    "constant_speeds = [10, 20, 30, 50, 75, 100, -10, -20, -30, -50, -75, -100] #Hz\n",
    "constant_loads = [10, 20, 30, 50, 75, 100, 120, 150] #Per unit of nominal torque"
   ]
  },
  {
   "cell_type": "code",
   "execution_count": 55,
   "metadata": {},
   "outputs": [],
   "source": [
    "#constant speeds under no load"
   ]
  },
  {
   "cell_type": "code",
   "execution_count": 56,
   "metadata": {},
   "outputs": [],
   "source": [
    "for speed in constant_speeds:\n",
    "    ref_speed = [0] + [speed, speed]\n",
    "    ref_torque = [0] + [0, 0]\n",
    "    time = [0] + [1, 24]\n",
    "    reference_torque_act = np.asarray(ref_torque) * 25 / 100.\n",
    "    reference_speed_rad = np.asarray(ref_speed) * 2 * np.pi\n",
    "    sio.savemat('../../../datasets/benchmark/sim_static/Exp_constant_speed_' + str(speed) + '_zero_load.mat', {'Speed': reference_speed_rad, 'Kvalv': reference_torque_act, 't': time})\n",
    "    \n",
    "#     plt.plot(ref_speed, ref_torque)\n",
    "#     plt.xlabel('Speed (rad/s)')\n",
    "#     plt.ylabel('Torque Load p.u.')\n",
    "#     plt.show()"
   ]
  },
  {
   "cell_type": "code",
   "execution_count": 57,
   "metadata": {},
   "outputs": [],
   "source": [
    "#constant load under zero speed"
   ]
  },
  {
   "cell_type": "code",
   "execution_count": 58,
   "metadata": {},
   "outputs": [],
   "source": [
    "for load in constant_loads:\n",
    "    ref_speed = [0] + [0, 0]\n",
    "    ref_torque = [0] + [load, load]\n",
    "    time = [0] + [1, 25]\n",
    "    reference_torque_act = np.asarray(ref_torque) * 25 / 100.\n",
    "    reference_speed_rad = np.asarray(ref_speed) * 2 * np.pi\n",
    "    sio.savemat('../../../datasets/benchmark/sim_static/Exp_constant_load_' + str(load) + '_zero_speed.mat', {'Speed': reference_speed_rad, 'Kvalv': reference_torque_act, 't': time})\n",
    "#     plt.plot(ref_speed, ref_torque)\n",
    "#     plt.xlabel('Speed (rad/s)')\n",
    "#     plt.ylabel('Torque Load p.u.')\n",
    "#     plt.show()"
   ]
  },
  {
   "cell_type": "code",
   "execution_count": 59,
   "metadata": {},
   "outputs": [],
   "source": [
    "#constant load under constant speed"
   ]
  },
  {
   "cell_type": "code",
   "execution_count": 60,
   "metadata": {},
   "outputs": [],
   "source": [
    "for speed in constant_speeds:\n",
    "    for load in constant_loads:\n",
    "        ref_speed = [0] + [speed, speed]\n",
    "        ref_torque = [0] + [load, load]\n",
    "        time = [0] + [1, 25]\n",
    "        reference_torque_act = np.asarray(ref_torque) * 25 / 100.\n",
    "        reference_speed_rad = np.asarray(ref_speed) * 2 * np.pi\n",
    "        sio.savemat('../../../datasets/benchmark/sim_static/Exp_constant_load_' + str(load) + '_constant_speed_' + str(speed) + '.mat', {'Speed': reference_speed_rad, 'Kvalv': reference_torque_act, 't': time})\n",
    "#         plt.plot(ref_speed, ref_torque)\n",
    "#         plt.xlabel('Speed (rad/s)')\n",
    "#         plt.ylabel('Torque Load p.u.')\n",
    "#         plt.show()"
   ]
  },
  {
   "cell_type": "code",
   "execution_count": 17,
   "metadata": {},
   "outputs": [],
   "source": [
    "#Dynamic benchmark"
   ]
  },
  {
   "cell_type": "code",
   "execution_count": 211,
   "metadata": {},
   "outputs": [],
   "source": [
    "np.set_printoptions(precision=2, suppress=True)\n",
    "acc_deltas = [0.001, 0.01, 0.05, 0.1, 0.25, 0.5, 1]#acceleration deltas\n",
    "constant_speeds = [10, 20, 30, 50, 75, 100, -10, -20, -30, -50, -75, -100] #Hz\n",
    "constant_loads = [10, 20, 30, 50, 75, 100, 120, 150] #Per unit of nominal torque"
   ]
  },
  {
   "cell_type": "code",
   "execution_count": 212,
   "metadata": {},
   "outputs": [],
   "source": [
    "#Speed step zero load"
   ]
  },
  {
   "cell_type": "code",
   "execution_count": 213,
   "metadata": {},
   "outputs": [],
   "source": [
    "for constant_speed in constant_speeds:\n",
    "    time = [0, 5, 5.0001, 10]\n",
    "    ref_speed = [0, 0, constant_speed, constant_speed]\n",
    "    ref_torque = [0, 0, 0, 0]\n",
    "    reference_torque_act = np.asarray(ref_torque) * 25 / 100.\n",
    "    reference_speed_rad = np.asarray(ref_speed) * 2 * np.pi\n",
    "    sio.savemat('../../../datasets/benchmark/sim_dynamic/Exp_step_speed_' + str(constant_speed) + '_load_0.mat', {'Speed': reference_speed_rad, 'Kvalv': reference_torque_act, 't': time})\n",
    "    os.mkdir('../../../datasets/benchmark/sim_dynamic_output/Exp_step_speed_' + str(constant_speed) + '_load_0')"
   ]
  },
  {
   "cell_type": "code",
   "execution_count": 214,
   "metadata": {},
   "outputs": [],
   "source": [
    "#Speed step nominal load"
   ]
  },
  {
   "cell_type": "code",
   "execution_count": 215,
   "metadata": {},
   "outputs": [],
   "source": [
    "for constant_speed in constant_speeds:\n",
    "    for constant_load in constant_loads:\n",
    "        time = [0, 5, 5.0001, 10]\n",
    "        ref_speed = [0, 0, constant_speed, constant_speed]\n",
    "        ref_torque = [constant_load, constant_load, constant_load, constant_load]\n",
    "        reference_torque_act = np.asarray(ref_torque) * 25 / 100.\n",
    "        reference_speed_rad = np.asarray(ref_speed) * 2 * np.pi\n",
    "        sio.savemat('../../../datasets/benchmark/sim_dynamic/Exp_step_speed_' + str(constant_speed) + '_nominal_load_' + str(constant_load) + '.mat', {'Speed': reference_speed_rad, 'Kvalv': reference_torque_act, 't': time})\n",
    "        os.mkdir('../../../datasets/benchmark/sim_dynamic_output/Exp_step_speed_' + str(constant_speed) + '_nominal_load_' + str(constant_load) )"
   ]
  },
  {
   "cell_type": "code",
   "execution_count": 216,
   "metadata": {},
   "outputs": [],
   "source": [
    "#Ramp speed zero load"
   ]
  },
  {
   "cell_type": "code",
   "execution_count": 217,
   "metadata": {},
   "outputs": [],
   "source": [
    "for acc_delta in acc_deltas:\n",
    "    for constant_speed in constant_speeds:\n",
    "        time = [0, 5, 5 + acc_delta, 10]\n",
    "        ref_speed = [0, 0, constant_speed, constant_speed]\n",
    "        ref_torque = [0, 0, 0, 0]\n",
    "        reference_torque_act = np.asarray(ref_torque) * 25 / 100.\n",
    "        reference_speed_rad = np.asarray(ref_speed) * 2 * np.pi\n",
    "        sio.savemat('../../../datasets/benchmark/sim_dynamic/Exp_ramp_speed_' + str(constant_speed) + '_load_0_acc_delta_' + str(acc_delta) +'.mat', {'Speed': reference_speed_rad, 'Kvalv': reference_torque_act, 't': time})\n",
    "        os.mkdir('../../../datasets/benchmark/sim_dynamic_output/Exp_ramp_speed_' + str(constant_speed) + '_load_0_acc_delta_' + str(acc_delta))"
   ]
  },
  {
   "cell_type": "code",
   "execution_count": 218,
   "metadata": {},
   "outputs": [],
   "source": [
    "#Ramp speed nominal load"
   ]
  },
  {
   "cell_type": "code",
   "execution_count": 219,
   "metadata": {},
   "outputs": [],
   "source": [
    "for acc_delta in acc_deltas:\n",
    "    for constant_speed in constant_speeds:\n",
    "        for constant_load in constant_loads:\n",
    "            time = [0, 5, 5+acc_delta, 10]\n",
    "            ref_speed = [0, 0, constant_speed, constant_speed]\n",
    "            ref_torque = [constant_load, constant_load, constant_load, constant_load]\n",
    "            reference_torque_act = np.asarray(ref_torque) * 25/ 100.\n",
    "            reference_speed_rad = np.asarray(ref_speed) * 2 * np.pi\n",
    "            sio.savemat('../../../datasets/benchmark/sim_dynamic/Exp_ramp_speed_' + str(constant_speed) + '_nominal_load_' + str(constant_load) + '_acc_delta_' + str(acc_delta) + '.mat', {'Speed': reference_speed_rad, 'Kvalv': reference_torque_act, 't': time})\n",
    "            os.mkdir('../../../datasets/benchmark/sim_dynamic_output/Exp_ramp_speed_' + str(constant_speed) + '_nominal_load_' + str(constant_load) + '_acc_delta_' + str(acc_delta))"
   ]
  },
  {
   "cell_type": "code",
   "execution_count": 220,
   "metadata": {},
   "outputs": [],
   "source": [
    "#Constant speed torque step"
   ]
  },
  {
   "cell_type": "code",
   "execution_count": 221,
   "metadata": {},
   "outputs": [],
   "source": [
    "for constant_speed in constant_speeds:\n",
    "    for constant_load in constant_loads:\n",
    "        time = [0, 5, 5.0001, 10]\n",
    "        ref_speed = [constant_speed, constant_speed, constant_speed, constant_speed]\n",
    "        ref_torque = [0, 0, constant_load, constant_load]\n",
    "        reference_torque_act = np.asarray(ref_torque) * 25 / 100.\n",
    "        reference_speed_rad = np.asarray(ref_speed) * 2 * np.pi\n",
    "        sio.savemat('../../../datasets/benchmark/sim_dynamic/Exp_constant_speed_' + str(constant_speed) + '_step_load_' + str(constant_load) + '.mat', {'Speed': reference_speed_rad, 'Kvalv': reference_torque_act, 't': time})\n",
    "        os.mkdir('../../../datasets/benchmark/sim_dynamic_output/Exp_constant_speed_' + str(constant_speed) + '_step_load_' + str(constant_load))"
   ]
  },
  {
   "cell_type": "code",
   "execution_count": 222,
   "metadata": {},
   "outputs": [],
   "source": [
    "#Constant speed torque ramp"
   ]
  },
  {
   "cell_type": "code",
   "execution_count": 223,
   "metadata": {},
   "outputs": [],
   "source": [
    "for acc_delta in acc_deltas:\n",
    "    for constant_speed in constant_speeds:\n",
    "        for constant_load in constant_loads:\n",
    "            time = [0, 5, 5+acc_delta, 10]\n",
    "            ref_speed = [constant_speed, constant_speed, constant_speed, constant_speed]\n",
    "            ref_torque = [0, 0, constant_load, constant_load]\n",
    "            reference_torque_act = np.asarray(ref_torque) * 25 / 100.\n",
    "            reference_speed_rad = np.asarray(ref_speed) * 2 * np.pi\n",
    "            sio.savemat('../../../datasets/benchmark/sim_dynamic/Exp_constant_speed_' + str(constant_speed) + '_ramp_load_' + str(constant_load) + '_acc_delta_' + str(acc_delta) + '.mat', {'Speed': reference_speed_rad, 'Kvalv': reference_torque_act, 't': time})\n",
    "            os.mkdir('../../../datasets/benchmark/sim_dynamic_output/Exp_constant_speed_' + str(constant_speed) + '_ramp_load_' + str(constant_load) + '_acc_delta_' + str(acc_delta))"
   ]
  },
  {
   "cell_type": "code",
   "execution_count": null,
   "metadata": {},
   "outputs": [],
   "source": []
  },
  {
   "cell_type": "code",
   "execution_count": null,
   "metadata": {},
   "outputs": [],
   "source": []
  }
 ],
 "metadata": {
  "kernelspec": {
   "display_name": "Python 3",
   "language": "python",
   "name": "python3"
  },
  "language_info": {
   "codemirror_mode": {
    "name": "ipython",
    "version": 3
   },
   "file_extension": ".py",
   "mimetype": "text/x-python",
   "name": "python",
   "nbconvert_exporter": "python",
   "pygments_lexer": "ipython3",
   "version": "3.6.9"
  }
 },
 "nbformat": 4,
 "nbformat_minor": 2
}
