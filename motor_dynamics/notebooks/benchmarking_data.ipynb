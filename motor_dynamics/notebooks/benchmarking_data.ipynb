{
 "cells": [
  {
   "cell_type": "code",
   "execution_count": 106,
   "metadata": {},
   "outputs": [],
   "source": [
    "import os \n",
    "\n",
    "import random\n",
    "import scipy.io as sio\n",
    "import numpy as np\n",
    "\n",
    "%matplotlib inline\n",
    "\n",
    "import matplotlib.pyplot as plt"
   ]
  },
  {
   "cell_type": "code",
   "execution_count": 5,
   "metadata": {},
   "outputs": [],
   "source": [
    "pos_torque_zones = [x for x in range(0, 120, 5)]\n",
    "pos_speed_zones = [x for x in range(0, 80, 2)]\n",
    "neg_torque_zones = [x for x in range(-120, 0, 5)]\n",
    "neg_speed_zones = [x for x in range(-80, 0, 2)]\n",
    "time = [x for x in range(0, 25, 1)]"
   ]
  },
  {
   "cell_type": "code",
   "execution_count": null,
   "metadata": {},
   "outputs": [],
   "source": []
  },
  {
   "cell_type": "code",
   "execution_count": 6,
   "metadata": {},
   "outputs": [],
   "source": [
    "# reference_torque.sort()\n",
    "# reference_speed.sort()"
   ]
  },
  {
   "cell_type": "code",
   "execution_count": 7,
   "metadata": {},
   "outputs": [],
   "source": [
    "for i in range(250):\n",
    "    reference_torque = [0] + random.choices(pos_torque_zones, k=len(time)-1)\n",
    "    reference_speed = [0] + random.choices(pos_speed_zones, k=len(time)-1)\n",
    "    reference_torque_act = np.asarray(reference_torque) * 25 / 100.\n",
    "    reference_speed_rad = np.asarray(reference_speed) * 2 * np.pi\n",
    "    sio.savemat('../../../datasets/benchmark/sim_random/Exp_' + str(i) + '.mat', {'Speed': reference_speed_rad, 'Kvalv': reference_torque_act, 't': time})\n",
    "    \n",
    "for i in range(250,500):\n",
    "    reference_torque = [0] + random.choices(pos_torque_zones, k=len(time)-1)\n",
    "    reference_speed = [0] + random.choices(neg_speed_zones, k=len(time)-1)\n",
    "    reference_torque_act = np.asarray(reference_torque) * 25 / 100.\n",
    "    reference_speed_rad = np.asarray(reference_speed) * 2 * np.pi\n",
    "    sio.savemat('../../../datasets/benchmark/sim_random/Exp_' + str(i) + '.mat', {'Speed': reference_speed_rad, 'Kvalv': reference_torque_act, 't': time})\n",
    "    \n",
    "for i in range(500,750):\n",
    "    reference_torque = [0] + random.choices(neg_torque_zones, k=len(time)-1)\n",
    "    reference_speed = [0] + random.choices(neg_speed_zones, k=len(time)-1)\n",
    "    reference_torque_act = np.asarray(reference_torque) * 25 / 100.\n",
    "    reference_speed_rad = np.asarray(reference_speed) * 2 * np.pi\n",
    "    sio.savemat('../../../datasets/benchmark/sim_random/Exp_' + str(i) + '.mat', {'Speed': reference_speed_rad, 'Kvalv': reference_torque_act, 't': time})\n",
    "    \n",
    "for i in range(750,1000):\n",
    "    reference_torque = [0] + random.choices(neg_torque_zones, k=len(time)-1)\n",
    "    reference_speed = [0] + random.choices(pos_speed_zones, k=len(time)-1)\n",
    "    reference_torque_act = np.asarray(reference_torque) * 25 / 100.\n",
    "    reference_speed_rad = np.asarray(reference_speed) * 2 * np.pi\n",
    "    sio.savemat('../../../datasets/benchmark/sim_random/Exp_' + str(i) + '.mat', {'Speed': reference_speed_rad, 'Kvalv': reference_torque_act, 't': time})"
   ]
  },
  {
   "cell_type": "code",
   "execution_count": 52,
   "metadata": {},
   "outputs": [],
   "source": []
  },
  {
   "cell_type": "code",
   "execution_count": 2,
   "metadata": {},
   "outputs": [],
   "source": [
    "#Static benchmark"
   ]
  },
  {
   "cell_type": "code",
   "execution_count": 54,
   "metadata": {},
   "outputs": [],
   "source": [
    "constant_speeds = [10, 20, 30, 50, 75, 100, -10, -20, -30, -50, -75, -100] #Hz\n",
    "constant_loads = [10, 20, 30, 50, 75, 100, 120, 150] #Per unit of nominal torque"
   ]
  },
  {
   "cell_type": "code",
   "execution_count": 55,
   "metadata": {},
   "outputs": [],
   "source": [
    "#constant speeds under no load"
   ]
  },
  {
   "cell_type": "code",
   "execution_count": 56,
   "metadata": {},
   "outputs": [],
   "source": [
    "for speed in constant_speeds:\n",
    "    ref_speed = [0] + [speed, speed]\n",
    "    ref_torque = [0] + [0, 0]\n",
    "    time = [0] + [1, 24]\n",
    "    reference_torque_act = np.asarray(ref_torque) * 25 / 100.\n",
    "    reference_speed_rad = np.asarray(ref_speed) * 2 * np.pi\n",
    "    sio.savemat('../../../datasets/benchmark/sim_static/Exp_constant_speed_' + str(speed) + '_zero_load.mat', {'Speed': reference_speed_rad, 'Kvalv': reference_torque_act, 't': time})\n",
    "    \n",
    "#     plt.plot(ref_speed, ref_torque)\n",
    "#     plt.xlabel('Speed (rad/s)')\n",
    "#     plt.ylabel('Torque Load p.u.')\n",
    "#     plt.show()"
   ]
  },
  {
   "cell_type": "code",
   "execution_count": 57,
   "metadata": {},
   "outputs": [],
   "source": [
    "#constant load under zero speed"
   ]
  },
  {
   "cell_type": "code",
   "execution_count": 58,
   "metadata": {},
   "outputs": [],
   "source": [
    "for load in constant_loads:\n",
    "    ref_speed = [0] + [0, 0]\n",
    "    ref_torque = [0] + [load, load]\n",
    "    time = [0] + [1, 25]\n",
    "    reference_torque_act = np.asarray(ref_torque) * 25 / 100.\n",
    "    reference_speed_rad = np.asarray(ref_speed) * 2 * np.pi\n",
    "    sio.savemat('../../../datasets/benchmark/sim_static/Exp_constant_load_' + str(load) + '_zero_speed.mat', {'Speed': reference_speed_rad, 'Kvalv': reference_torque_act, 't': time})\n",
    "#     plt.plot(ref_speed, ref_torque)\n",
    "#     plt.xlabel('Speed (rad/s)')\n",
    "#     plt.ylabel('Torque Load p.u.')\n",
    "#     plt.show()"
   ]
  },
  {
   "cell_type": "code",
   "execution_count": 59,
   "metadata": {},
   "outputs": [],
   "source": [
    "#constant load under constant speed"
   ]
  },
  {
   "cell_type": "code",
   "execution_count": 60,
   "metadata": {},
   "outputs": [],
   "source": [
    "for speed in constant_speeds:\n",
    "    for load in constant_loads:\n",
    "        ref_speed = [0] + [speed, speed]\n",
    "        ref_torque = [0] + [load, load]\n",
    "        time = [0] + [1, 25]\n",
    "        reference_torque_act = np.asarray(ref_torque) * 25 / 100.\n",
    "        reference_speed_rad = np.asarray(ref_speed) * 2 * np.pi\n",
    "        sio.savemat('../../../datasets/benchmark/sim_static/Exp_constant_load_' + str(load) + '_constant_speed_' + str(speed) + '.mat', {'Speed': reference_speed_rad, 'Kvalv': reference_torque_act, 't': time})\n",
    "#         plt.plot(ref_speed, ref_torque)\n",
    "#         plt.xlabel('Speed (rad/s)')\n",
    "#         plt.ylabel('Torque Load p.u.')\n",
    "#         plt.show()"
   ]
  },
  {
   "cell_type": "code",
   "execution_count": 17,
   "metadata": {},
   "outputs": [],
   "source": [
    "#Dynamic benchmark"
   ]
  },
  {
   "cell_type": "code",
   "execution_count": 104,
   "metadata": {},
   "outputs": [],
   "source": [
    "np.set_printoptions(precision=2, suppress=True)\n",
    "acc_deltas = np.arange(0.5,3,0.5)#acceleration deltas\n",
    "constant_speeds = [10, 20, 30, 50, 75, 100, -10, -20, -30, -50, -75, -100] #Hz\n",
    "constant_loads = [0, 10, 20, 30, 50, 75, 100, 120, 150] #Per unit of nominal torque"
   ]
  },
  {
   "cell_type": "code",
   "execution_count": 105,
   "metadata": {},
   "outputs": [],
   "source": [
    "#Accelerations\n",
    "for acc_delta in acc_deltas:\n",
    "    for speed in constant_speeds:\n",
    "        for load in constant_loads:\n",
    "            ref_speed = [0, speed, speed]\n",
    "            ref_torque = [load, load, load]\n",
    "            time = [0, acc_delta, 25]\n",
    "            reference_torque_act = np.asarray(ref_torque) * 25 / 100.\n",
    "            reference_speed_rad = np.asarray(ref_speed) * 2 * np.pi\n",
    "            sio.savemat('../../../datasets/benchmark/sim_dynamic/Exp_acc_' + str(acc_delta).split('00')[0] + '_load_' + str(load) + '_speed_' + str(speed) + '.mat', {'Speed': reference_speed_rad, 'Kvalv': reference_torque_act, 't': time})\n",
    "#             os.mkdir('../../../datasets/benchmark/sim_dynamic_output/Exp_acc_' + str(acc_delta).split('00')[0] + '_load_' + str(load) + '_speed_' + str(speed))\n",
    "    break"
   ]
  },
  {
   "cell_type": "code",
   "execution_count": 87,
   "metadata": {},
   "outputs": [],
   "source": [
    "#Decelerations\n",
    "for acc_delta in acc_deltas:\n",
    "    for speed in constant_speeds:\n",
    "        for load in constant_loads:\n",
    "            ref_speed = [speed, speed, 0, 0]\n",
    "            ref_torque = [load, load, 0, 0]\n",
    "            time = [0, 5, acc_delta + 5, 25]\n",
    "            reference_torque_act = np.asarray(ref_torque) * 25 / 100.\n",
    "            reference_speed_rad = np.asarray(ref_speed) * 2 * np.pi\n",
    "            sio.savemat('../../../datasets/benchmark/sim_dynamic/Exp_dec_' + str(acc_delta).split('00')[0] + '_load_' + str(load) + '_speed_' + str(speed) + '.mat', {'Speed': reference_speed_rad, 'Kvalv': reference_torque_act, 't': time})\n",
    "#             os.mkdir('../../../datasets/benchmark/sim_dynamic_output/Exp_dec_' + str(acc_delta).split('00')[0] + '_load_' + str(load) + '_speed_' + str(speed))"
   ]
  },
  {
   "cell_type": "code",
   "execution_count": null,
   "metadata": {},
   "outputs": [],
   "source": []
  },
  {
   "cell_type": "code",
   "execution_count": 107,
   "metadata": {},
   "outputs": [
    {
     "name": "stdout",
     "output_type": "stream",
     "text": [
      "Current.mat  Speed.mat\tStatorPuls.mat\tTime.mat  Torque.mat  Voltage.mat\n"
     ]
    }
   ],
   "source": [
    "!ls ../../../datasets/benchmark/sim_random_output/Exp_0/"
   ]
  },
  {
   "cell_type": "code",
   "execution_count": 114,
   "metadata": {},
   "outputs": [],
   "source": [
    "data_dir = '../../../datasets/benchmark/sim_random_output/Exp_0/'\n",
    "curr = sio.loadmat(data_dir + 'Current.mat')\n",
    "speed = sio.loadmat(data_dir + 'Speed.mat')\n",
    "stat = sio.loadmat(data_dir + 'StatorPuls.mat')\n",
    "time = sio.loadmat(data_dir + 'Time.mat')\n",
    "trq = sio.loadmat(data_dir + 'Torque.mat')\n",
    "vol = sio.loadmat(data_dir + 'Voltage.mat')"
   ]
  },
  {
   "cell_type": "code",
   "execution_count": 121,
   "metadata": {},
   "outputs": [
    {
     "name": "stdout",
     "output_type": "stream",
     "text": [
      "i_d 7.6586062258597245 0.0\n",
      "i_q 18.864113441581786 -3.289194943019113\n",
      "w_r 485.9374719629598 0.0\n",
      "w_s 487.2455658422534 0.0\n",
      "tau 36.75422549376283 -7.180409862136878\n",
      "v_d 49.826240141430866 -98.6539294790455\n",
      "v_q 326.59863205878935 0.0\n",
      "t 24.0 0.0\n"
     ]
    }
   ],
   "source": [
    "print('i_d', curr['current'][:,0].max(), curr['current'][:,0].min())\n",
    "print('i_q', curr['current'][:,1].max(), curr['current'][:,1].min())\n",
    "\n",
    "print('w_r', speed['speed'].max(), speed['speed'].min())\n",
    "\n",
    "print('w_s', stat['statorPuls'].max(), stat['statorPuls'].min())\n",
    "\n",
    "print('tau', trq['torque'].max(), trq['torque'].min())\n",
    "\n",
    "print('v_d', vol['voltage'][:,0].max(), vol['voltage'][:,0].min())\n",
    "print('v_q', vol['voltage'][:,1].max(), vol['voltage'][:,1].min())\n",
    "\n",
    "print('t', time['time'].max(), time['time'].min())"
   ]
  },
  {
   "cell_type": "code",
   "execution_count": 125,
   "metadata": {},
   "outputs": [
    {
     "data": {
      "text/plain": [
       "(4801, 1)"
      ]
     },
     "execution_count": 125,
     "metadata": {},
     "output_type": "execute_result"
    }
   ],
   "source": [
    "time['time'].shape"
   ]
  },
  {
   "cell_type": "code",
   "execution_count": null,
   "metadata": {},
   "outputs": [],
   "source": []
  }
 ],
 "metadata": {
  "kernelspec": {
   "display_name": "Python 3",
   "language": "python",
   "name": "python3"
  },
  "language_info": {
   "codemirror_mode": {
    "name": "ipython",
    "version": 3
   },
   "file_extension": ".py",
   "mimetype": "text/x-python",
   "name": "python",
   "nbconvert_exporter": "python",
   "pygments_lexer": "ipython3",
   "version": "3.6.9"
  }
 },
 "nbformat": 4,
 "nbformat_minor": 2
}
