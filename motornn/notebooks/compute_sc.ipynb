{
 "cells": [
  {
   "cell_type": "code",
   "execution_count": 12,
   "metadata": {},
   "outputs": [],
   "source": [
    "import os\n",
    "import scipy.io as sio\n",
    "import numpy as np\n",
    "import scipy.stats as ss\n",
    "\n",
    "from sklearn.metrics import mean_squared_error as mse\n",
    "\n",
    "%matplotlib inline\n",
    "import matplotlib.pyplot as plt"
   ]
  },
  {
   "cell_type": "code",
   "execution_count": 45,
   "metadata": {},
   "outputs": [],
   "source": [
    "def smape(A, F):\n",
    "    return 100/len(A) * np.sum(np.abs(F - A) / (np.abs(A) + np.abs(F)))"
   ]
  },
  {
   "cell_type": "code",
   "execution_count": 1,
   "metadata": {},
   "outputs": [],
   "source": [
    "def sc(signal):\n",
    "    return np.sum(abs(signal[1:] - signal[:-1]))"
   ]
  },
  {
   "cell_type": "code",
   "execution_count": 3,
   "metadata": {},
   "outputs": [],
   "source": [
    "results = os.listdir('../../../results_sim/')"
   ]
  },
  {
   "cell_type": "code",
   "execution_count": 5,
   "metadata": {},
   "outputs": [],
   "source": [
    "sc_all = []\n",
    "for result in results:\n",
    "    if 'mat' in result:\n",
    "        res = sio.loadmat('../../../results_sim/' + result)\n",
    "        time = res['time'][0]\n",
    "        speed = res['speed'][0]\n",
    "        current1_pred = res['current1_pred'][0]\n",
    "        current2_pred = res['current2_pred'][0]\n",
    "        current1_true = res['current1_true'][0]\n",
    "        current2_true = res['current2_true'][0]\n",
    "        torque_pred = res['torque_pred'][0]\n",
    "        torque_true = res['torque_true'][0]\n",
    "        voltage1 = res['voltage1'][0]\n",
    "        voltage2 = res['voltage2'][0]\n",
    "        \n",
    "        for i in range(0,len(current1_true),100):\n",
    "            sc_all.append(sc(current1_true[i:i+100]))\n",
    "            sc_all.append(sc(current2_true[i:i+100]))\n",
    "            sc_all.append(sc(torque_true[i:i+100]))"
   ]
  },
  {
   "cell_type": "code",
   "execution_count": 8,
   "metadata": {},
   "outputs": [
    {
     "data": {
      "text/plain": [
       "(174.49254, 0.0)"
      ]
     },
     "execution_count": 8,
     "metadata": {},
     "output_type": "execute_result"
    }
   ],
   "source": [
    "max(sc_all), min(sc_all)"
   ]
  },
  {
   "cell_type": "code",
   "execution_count": 23,
   "metadata": {},
   "outputs": [
    {
     "name": "stderr",
     "output_type": "stream",
     "text": [
      "/home/galen-post/sverma/.local/lib/python3.6/site-packages/matplotlib/axes/_axes.py:6521: MatplotlibDeprecationWarning: \n",
      "The 'normed' kwarg was deprecated in Matplotlib 2.1 and will be removed in 3.1. Use 'density' instead.\n",
      "  alternative=\"'density'\", removal=\"3.1\")\n"
     ]
    },
    {
     "data": {
      "image/png": "[encoded data removed]",
      "text/plain": [
       "<Figure size 432x288 with 1 Axes>"
      ]
     },
     "metadata": {},
     "output_type": "display_data"
    }
   ],
   "source": [
    "\n",
    "P = ss.expon.fit(sc_all)\n",
    "rX = np.linspace(min(sc_all), max(sc_all), 10)\n",
    "rP = ss.expon.pdf(rX, *P)\n",
    "\n",
    "plt.hist(sc_all, bins=1000, normed=True, color='slategrey')\n",
    "\n",
    "plt.plot(rX, rP, color='darkturquoise')\n",
    "plt.show()\n"
   ]
  },
  {
   "cell_type": "code",
   "execution_count": null,
   "metadata": {},
   "outputs": [],
   "source": []
  }
 ],
 "metadata": {
  "kernelspec": {
   "display_name": "Python 3",
   "language": "python",
   "name": "python3"
  },
  "language_info": {
   "codemirror_mode": {
    "name": "ipython",
    "version": 3
   },
   "file_extension": ".py",
   "mimetype": "text/x-python",
   "name": "python",
   "nbconvert_exporter": "python",
   "pygments_lexer": "ipython3",
   "version": "3.6.8"
  }
 },
 "nbformat": 4,
 "nbformat_minor": 2
}
