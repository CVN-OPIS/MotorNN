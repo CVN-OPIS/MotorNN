{
 "cells": [
  {
   "cell_type": "code",
   "execution_count": 1,
   "metadata": {},
   "outputs": [],
   "source": [
    "import os\n",
    "import scipy.io as sio\n",
    "import numpy as np\n",
    "\n",
    "from sklearn.metrics import mean_squared_error as mse\n"
   ]
  },
  {
   "cell_type": "code",
   "execution_count": 45,
   "metadata": {},
   "outputs": [],
   "source": [
    "def smape(A, F):\n",
    "    return 100/len(A) * np.sum(np.abs(F - A) / (np.abs(A) + np.abs(F)))"
   ]
  },
  {
   "cell_type": "code",
   "execution_count": 3,
   "metadata": {},
   "outputs": [],
   "source": [
    "def sc(signal):\n",
    "    return np.sum(abs(signal[1:] - signal[:-1]))"
   ]
  },
  {
   "cell_type": "code",
   "execution_count": 53,
   "metadata": {},
   "outputs": [],
   "source": [
    "results = os.listdir('../../results_sim/')"
   ]
  },
  {
   "cell_type": "code",
   "execution_count": 54,
   "metadata": {},
   "outputs": [
    {
     "name": "stdout",
     "output_type": "stream",
     "text": [
      "LM30.mat\n",
      "MSE current1 :  0.3016299\n",
      "MSE current2 :  4.3838677\n",
      "MSE torque :  4.9290195\n",
      "SMAPE current1 :  2.296641855453342\n",
      "SMAPE current2 :  54.60867972524899\n",
      "SMAPE torque :  18.745576290322084\n",
      "\n",
      "\n",
      "LM60_TroqueSteps.mat\n",
      "MSE current1 :  0.33822104\n",
      "MSE current2 :  650.4614\n",
      "MSE torque :  63.14227\n",
      "SMAPE current1 :  4.345078531463317\n",
      "SMAPE current2 :  74.28263044721967\n",
      "SMAPE torque :  36.051424333033424\n",
      "\n",
      "\n",
      "NoLM.mat\n",
      "MSE current1 :  0.15329449\n",
      "MSE current2 :  5.184903\n",
      "MSE torque :  1.8151119\n",
      "SMAPE current1 :  2.414131558980336\n",
      "SMAPE current2 :  89.23902172575087\n",
      "SMAPE torque :  35.71522504692886\n",
      "\n",
      "\n",
      "LM68.mat\n",
      "MSE current1 :  0.4988002\n",
      "MSE current2 :  52.21863\n",
      "MSE torque :  139.66856\n",
      "SMAPE current1 :  7.087181442076757\n",
      "SMAPE current2 :  66.64343090597735\n",
      "SMAPE torque :  38.856044291000885\n",
      "\n",
      "\n",
      "NoLM_SpeedVariations2.mat\n",
      "MSE current1 :  0.3974125\n",
      "MSE current2 :  22.328983\n",
      "MSE torque :  12.142012\n",
      "SMAPE current1 :  4.177990156158261\n",
      "SMAPE current2 :  81.30081937886831\n",
      "SMAPE torque :  54.34022628097708\n",
      "\n",
      "\n",
      "LM20_TorqueSteps.mat\n",
      "MSE current1 :  0.2003019\n",
      "MSE current2 :  8.566604\n",
      "MSE torque :  22.694199\n",
      "SMAPE current1 :  2.110910023912448\n",
      "SMAPE current2 :  30.09305499863078\n",
      "SMAPE torque :  17.749096024494367\n",
      "\n",
      "\n",
      "0.31494334\n",
      "123.85739\n",
      "40.73186\n",
      "3.7386555946740767\n",
      "66.02793953028267\n",
      "33.57626537779279\n"
     ]
    }
   ],
   "source": [
    "curr1_mse = []\n",
    "curr2_mse = []\n",
    "torq_mse = []\n",
    "curr1_smape = []\n",
    "curr2_smape = []\n",
    "torq_smape = []\n",
    "for result in results:\n",
    "    if 'mat' in result:\n",
    "        print (result)\n",
    "        res = sio.loadmat('../../results_sim/' + result)\n",
    "        time = res['time'][0]\n",
    "        speed = res['speed'][0]\n",
    "        current1_pred = res['current1_pred'][0]\n",
    "        current2_pred = res['current2_pred'][0]\n",
    "        current1_true = res['current1_true'][0]\n",
    "        current2_true = res['current2_true'][0]\n",
    "        torque_pred = res['torque_pred'][0]\n",
    "        torque_true = res['torque_true'][0]\n",
    "        voltage1 = res['voltage1'][0]\n",
    "        voltage2 = res['voltage2'][0]\n",
    "        \n",
    "        c1m = mse(current1_pred, current1_true)\n",
    "        c2m = mse(current2_pred, current2_true)\n",
    "        tm = mse(torque_pred, torque_true)\n",
    "        \n",
    "        c1s = smape(current1_pred, current1_true)\n",
    "        c2s = smape(current2_pred, current2_true)\n",
    "        ts = smape(torque_pred, torque_true)\n",
    "        print ('MSE current1 : ', c1m)\n",
    "        print ('MSE current2 : ', c2m)\n",
    "        print ('MSE torque : ', tm)\n",
    "        \n",
    "        print ('SMAPE current1 : ', c1s)\n",
    "        print ('SMAPE current2 : ', c2s)\n",
    "        print ('SMAPE torque : ', ts)\n",
    "        \n",
    "        curr1_mse.append(c1m)\n",
    "        curr2_mse.append(c2m)\n",
    "        torq_mse.append(tm)\n",
    "        \n",
    "        curr1_smape.append(c1s)\n",
    "        curr2_smape.append(c2s)\n",
    "        torq_smape.append(ts)\n",
    "        print ('\\n')\n",
    "        \n",
    "print (np.mean(curr1_mse))\n",
    "print (np.mean(curr2_mse))\n",
    "print (np.mean(torq_mse))\n",
    "print (np.mean(curr1_smape))\n",
    "print (np.mean(curr2_smape))\n",
    "print (np.mean(torq_smape))"
   ]
  },
  {
   "cell_type": "code",
   "execution_count": null,
   "metadata": {},
   "outputs": [],
   "source": []
  },
  {
   "cell_type": "code",
   "execution_count": null,
   "metadata": {},
   "outputs": [],
   "source": [
    "0.31494334\n",
    "4.3730254\n",
    "40.73186\n",
    "3.7386554447977676\n",
    "36.94135418577664\n",
    "33.576266334654306"
   ]
  }
 ],
 "metadata": {
  "kernelspec": {
   "display_name": "Python 3",
   "language": "python",
   "name": "python3"
  },
  "language_info": {
   "codemirror_mode": {
    "name": "ipython",
    "version": 3
   },
   "file_extension": ".py",
   "mimetype": "text/x-python",
   "name": "python",
   "nbconvert_exporter": "python",
   "pygments_lexer": "ipython3",
   "version": "3.6.7"
  }
 },
 "nbformat": 4,
 "nbformat_minor": 2
}
