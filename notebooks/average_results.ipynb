{
 "cells": [
  {
   "cell_type": "code",
   "execution_count": 35,
   "metadata": {},
   "outputs": [],
   "source": [
    "results = \"\"\"27.4549 & 8.24613 & -0.8912 \n",
    "25.1268 & 14.4683 & -0.5023\n",
    "180.6854 & 6.6558 & -0.3709 \n",
    "\n",
    "28.3149 & 5.2893 & -0.5587\n",
    "25.1766 & 14.5549 & -0.5678\n",
    "183.2337 & 5.7416 & -0.0328 \n",
    "\n",
    "27.7089 & 6.3573 & -0.3127 \n",
    "25.5799 & 12.6023 & -0.2338 \n",
    "180.6132 & 6.5329 & -0.3448  \n",
    "\n",
    "28.42976 & 4.3724 & -0.4744 \n",
    "25.7077 & 12.2929 & -0.1924 \n",
    "180.6305 & 6.6159 & -0.3847 \n",
    "\n",
    "29.2775 & 2.0245 & -0.6877 \n",
    "25.9897 & 11.4578 & -0.0215  \n",
    "182.9126 & 5.7595 & -0.0768  \n",
    "\n",
    "29.3368 & 1.8446 & -0.2999 \n",
    "26.0201 & 11.3690 & -0.0047 \n",
    "183.3951 & 5.6643 & -0.0165 \n",
    "\n",
    "29.3910 & 1.6886 & -0.3421  \n",
    "26.0457 & 11.2934 & -0.0027 \n",
    "183.0944 & 5.6882 & -0.0540 \n",
    "\n",
    "29.5050 & 1.3895 & -0.4155 \n",
    "26.0145 & 11.3846 & -0.0175 \n",
    "183.5492 & 5.60185 & 0.0023 \n",
    "\n",
    "29.5503 & 1.2586 & -0.3398  \n",
    "26.8894 & 8.9655 & 0.3495 \n",
    "185.4617 & 4.8489 & 0.2230 \n",
    "\n",
    "29.6037 & 1.0974 & 0.0575  \n",
    "27.1307 & 8.2967 & 0.4292 \n",
    "186.896 & 4.3014 & 0.3694 \n",
    "\n",
    "29.6162 & 1.0616 & 0.2755  \n",
    "27.9813 & 5.9314 & 0.7000 \n",
    "29.2761 & 4.1424 & 0.2755\n",
    "\n",
    "28.9124 & 1.0071 & 0.3816\n",
    "27.1435 & 5.1327 & 0.6559\n",
    "28.4721 & 4.1173 & 0.2512\n",
    "\n",
    "28.6123 & 0.9912 & 0.4127\n",
    "26.1479 & 4.9174 & 0.5618\n",
    "29.1097 & 4.0123 & 0.2587\n",
    "\n",
    "27.9123 & 0.4619 & 0.9224\n",
    "26.5234 & 1.9014 & 0.9631\n",
    "26.1978 & 0.9193 & 0.9652\n",
    "\n",
    "\"\"\""
   ]
  },
  {
   "cell_type": "code",
   "execution_count": 36,
   "metadata": {},
   "outputs": [],
   "source": [
    "models = results.split(\"\\n\\n\")"
   ]
  },
  {
   "cell_type": "code",
   "execution_count": 43,
   "metadata": {},
   "outputs": [
    {
     "name": "stdout",
     "output_type": "stream",
     "text": [
      "77.76 9.79 -0.59\n",
      "78.91 8.53 -0.39\n",
      "77.97 8.5 -0.3\n",
      "78.26 7.76 -0.35\n",
      "79.39 6.41 -0.26\n",
      "79.58 6.29 -0.11\n",
      "79.51 6.22 -0.13\n",
      "79.69 6.13 -0.14\n",
      "80.63 5.02 0.08\n",
      "81.21 4.57 0.29\n",
      "28.96 3.71 0.42\n",
      "28.18 3.42 0.43\n",
      "27.96 3.31 0.41\n",
      "26.88 1.09 0.95\n"
     ]
    }
   ],
   "source": [
    "for model in models[:-1]:\n",
    "    quants = model.split('\\n')\n",
    "    metrics = []\n",
    "    for quant in quants:\n",
    "        metricss = quant.split(' & ')\n",
    "        quant_metrics = []\n",
    "        for metric in metricss:\n",
    "            quant_metrics.append(float(metric))\n",
    "        metrics.append(quant_metrics)\n",
    "            \n",
    "    print (round((metrics[0][0] + metrics[1][0] + metrics[2][0])/3,2), \n",
    "           round((metrics[0][1] + metrics[1][1] + metrics[2][1])/3,2), \n",
    "           round((metrics[0][2] + metrics[1][2] + metrics[2][2])/3,2))"
   ]
  },
  {
   "cell_type": "code",
   "execution_count": null,
   "metadata": {},
   "outputs": [],
   "source": []
  },
  {
   "cell_type": "code",
   "execution_count": null,
   "metadata": {},
   "outputs": [],
   "source": []
  }
 ],
 "metadata": {
  "kernelspec": {
   "display_name": "Python 3",
   "language": "python",
   "name": "python3"
  },
  "language_info": {
   "codemirror_mode": {
    "name": "ipython",
    "version": 3
   },
   "file_extension": ".py",
   "mimetype": "text/x-python",
   "name": "python",
   "nbconvert_exporter": "python",
   "pygments_lexer": "ipython3",
   "version": "3.6.8"
  }
 },
 "nbformat": 4,
 "nbformat_minor": 2
}
