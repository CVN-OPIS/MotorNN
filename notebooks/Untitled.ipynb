{
 "cells": [
  {
   "cell_type": "code",
   "execution_count": 55,
   "metadata": {},
   "outputs": [],
   "source": [
    "import os\n",
    "import scipy.io as sio\n",
    "import numpy as np\n",
    "\n",
    "from sklearn.metrics import mean_squared_error as mse\n"
   ]
  },
  {
   "cell_type": "code",
   "execution_count": 127,
   "metadata": {},
   "outputs": [],
   "source": [
    "def smape(A, F):\n",
    "    return 100/len(A) * np.sum(np.abs(F - A) / (np.abs(A) + np.abs(F)) / 2)"
   ]
  },
  {
   "cell_type": "code",
   "execution_count": 128,
   "metadata": {},
   "outputs": [],
   "source": [
    "def sc(signal):\n",
    "    return np.sum(abs(signal[1:] - signal[:-1]))"
   ]
  },
  {
   "cell_type": "code",
   "execution_count": 129,
   "metadata": {},
   "outputs": [],
   "source": [
    "results = os.listdir('../../results_sim/')"
   ]
  },
  {
   "cell_type": "code",
   "execution_count": 130,
   "metadata": {},
   "outputs": [
    {
     "name": "stdout",
     "output_type": "stream",
     "text": [
      "0.31494334\n",
      "3.0511389\n",
      "21.84934\n",
      "1.8693277474766032\n",
      "14.971362830103402\n",
      "16.145144686641032\n"
     ]
    }
   ],
   "source": [
    "curr1_mse = []\n",
    "curr2_mse = []\n",
    "torq_mse = []\n",
    "curr1_smape = []\n",
    "curr2_smape = []\n",
    "torq_smape = []\n",
    "for result in results:\n",
    "    if 'mat' in result:\n",
    "#         print (result)\n",
    "        res = sio.loadmat('../../results_raw/' + result)\n",
    "        time = res['time'][0]\n",
    "        speed = res['speed'][0]\n",
    "        current1_pred = res['current1_pred'][0]\n",
    "        current2_pred = res['current2_pred'][0]\n",
    "        current1_true = res['current1_true'][0]\n",
    "        current2_true = res['current2_true'][0]\n",
    "        torque_pred = res['torque_pred'][0]\n",
    "        torque_true = res['torque_true'][0]\n",
    "        voltage1 = res['voltage1'][0]\n",
    "        voltage2 = res['voltage2'][0]\n",
    "        \n",
    "        c1m = mse(current1_pred, current1_true)\n",
    "        c2m = mse(current2_pred, current2_true)\n",
    "        tm = mse(torque_pred, torque_true)\n",
    "        \n",
    "        c1s = smape(current1_pred, current1_true)\n",
    "        c2s = smape(current2_pred, current2_true)\n",
    "        ts = smape(torque_pred, torque_true)\n",
    "#         print ('MSE current1 : ', c1m)\n",
    "#         print ('MSE current2 : ', c2m)\n",
    "#         print ('MSE torque : ', tm)\n",
    "        \n",
    "#         print ('SMAPE current1 : ', c1s)\n",
    "#         print ('SMAPE current2 : ', c2s)\n",
    "#         print ('SMAPE torque : ', ts)\n",
    "        \n",
    "        curr1_mse.append(c1m)\n",
    "        curr2_mse.append(c2m)\n",
    "        torq_mse.append(tm)\n",
    "        \n",
    "        curr1_smape.append(c1s)\n",
    "        curr2_smape.append(c2s)\n",
    "        torq_smape.append(ts)\n",
    "#         print ('\\n')\n",
    "        \n",
    "print (np.mean(curr1_mse))\n",
    "print (np.mean(curr2_mse))\n",
    "print (np.mean(torq_mse))\n",
    "print (np.mean(curr1_smape))\n",
    "print (np.mean(curr2_smape))\n",
    "print (np.mean(torq_smape))"
   ]
  },
  {
   "cell_type": "code",
   "execution_count": null,
   "metadata": {},
   "outputs": [],
   "source": []
  },
  {
   "cell_type": "code",
   "execution_count": null,
   "metadata": {},
   "outputs": [],
   "source": [
    "0.31494334\n",
    "4.3730254\n",
    "40.73186\n",
    "3.7386554447977676\n",
    "36.94135418577664\n",
    "33.576266334654306"
   ]
  }
 ],
 "metadata": {
  "kernelspec": {
   "display_name": "Python 3",
   "language": "python",
   "name": "python3"
  },
  "language_info": {
   "codemirror_mode": {
    "name": "ipython",
    "version": 3
   },
   "file_extension": ".py",
   "mimetype": "text/x-python",
   "name": "python",
   "nbconvert_exporter": "python",
   "pygments_lexer": "ipython3",
   "version": "3.5.2"
  }
 },
 "nbformat": 4,
 "nbformat_minor": 2
}
