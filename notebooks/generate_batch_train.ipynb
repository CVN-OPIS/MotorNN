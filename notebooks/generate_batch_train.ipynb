{
 "cells": [
  {
   "cell_type": "code",
   "execution_count": 8,
   "metadata": {},
   "outputs": [],
   "source": [
    "models = ['cnn']\n",
    "lrs = [0.1]\n",
    "batch_sizes = [2048]\n",
    "epochs = [20]\n",
    "inp_quantss = ['Voltage2,StatorPuls,Speed']\n",
    "out_quantss = ['Current1,Current2,Torque', 'Current1', 'Current2', 'Torque']\n",
    "strides = [1]\n",
    "windows = [100]\n",
    "acts = ['relu','tanh']\n",
    "hiddens = [16,32]"
   ]
  },
  {
   "cell_type": "code",
   "execution_count": 9,
   "metadata": {},
   "outputs": [],
   "source": [
    "fout = open('../batch_train.sh','w')\n",
    "i = 1\n",
    "for model in models:\n",
    "    for lr in lrs:\n",
    "        for batch_size in batch_sizes:\n",
    "            for epoch in epochs:\n",
    "                for inp_quants in inp_quantss:\n",
    "                    for out_quants in out_quantss:\n",
    "                        for stride in strides:\n",
    "                            for window in windows:\n",
    "                                for act in acts:\n",
    "                                    if 'rnn' in model or 'lstm' in model:\n",
    "                                        for hidden in hiddens:\n",
    "                                            fout.write('python3 train.py --model=' + model + ' --lr=' + str(lr) + ' --batch_size=' + str(batch_size) + \\\n",
    "                                                       ' --epoch=' + str(epoch) +\\\n",
    "                                                      ' --inp_quants=' + inp_quants + ' --out_quants=' + out_quants + ' --stride=' + str(stride) + \\\n",
    "                                                       ' --window=' + str(window) +\\\n",
    "                                                      ' --act=' + act + ' --hidden=' + str(hidden) + \\\n",
    "                                                       ' --data_dir=../datasets/CS2018_12_14/ --weight_dir=../weights/ --log_dir=../logs/ & \\n')\n",
    "                                            if i % 16 == 0:\n",
    "                                                fout.write('wait \\n')\n",
    "                                            \n",
    "                                            i += 1\n",
    "                                    else:\n",
    "                                        hidden = 0\n",
    "                                        fout.write('python3 train.py --model=' + model + ' --lr=' + str(lr) + ' --batch_size=' + str(batch_size) + \\\n",
    "                                                   ' --epoch=' + str(epoch) +\\\n",
    "                                                  ' --inp_quants=' + inp_quants + ' --out_quants=' + out_quants + ' --stride=' + str(stride) + \\\n",
    "                                                   ' --window=' + str(window) +\\\n",
    "                                                  ' --act=' + act + ' --hidden=' + str(hidden) + \\\n",
    "                                                   ' --data_dir=../datasets/CS2018_12_14/ --weight_dir=../weights/ --log_dir=../logs/ & \\n')\n",
    "                                        if i % 16 == 0:\n",
    "                                            fout.write('wait \\n')\n",
    "\n",
    "                                        i += 1\n",
    "                                        \n",
    "fout.close()"
   ]
  },
  {
   "cell_type": "code",
   "execution_count": 10,
   "metadata": {},
   "outputs": [
    {
     "data": {
      "text/plain": [
       "9"
      ]
     },
     "execution_count": 10,
     "metadata": {},
     "output_type": "execute_result"
    }
   ],
   "source": [
    "i"
   ]
  },
  {
   "cell_type": "code",
   "execution_count": null,
   "metadata": {},
   "outputs": [],
   "source": []
  }
 ],
 "metadata": {
  "kernelspec": {
   "display_name": "Python 3",
   "language": "python",
   "name": "python3"
  },
  "language_info": {
   "codemirror_mode": {
    "name": "ipython",
    "version": 3
   },
   "file_extension": ".py",
   "mimetype": "text/x-python",
   "name": "python",
   "nbconvert_exporter": "python",
   "pygments_lexer": "ipython3",
   "version": "3.6.6"
  }
 },
 "nbformat": 4,
 "nbformat_minor": 2
}
