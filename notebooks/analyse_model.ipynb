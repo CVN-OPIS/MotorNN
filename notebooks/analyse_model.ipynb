{
 "cells": [
  {
   "cell_type": "code",
   "execution_count": 3,
   "metadata": {},
   "outputs": [],
   "source": [
    "import torch\n",
    "import torch.autograd as autograd\n",
    "import torch.nn as nn\n",
    "import torch.nn.functional as F\n",
    "import torch.optim as optim\n",
    "from torch.autograd import Variable\n",
    "\n",
    "import scipy.io as sio\n",
    "from scipy.signal import resample\n",
    "import os\n",
    "\n",
    "import numpy as np\n",
    "import random\n",
    "import pickle \n",
    "from sklearn import preprocessing\n",
    "\n",
    "%matplotlib inline\n",
    "import matplotlib.pyplot as plt\n",
    "\n",
    "import sys\n",
    "sys.path.append('..')\n",
    "\n",
    "from models.EncDec import EncDecBiLSTMSkipNet\n",
    "\n",
    "import operator\n"
   ]
  },
  {
   "cell_type": "code",
   "execution_count": 4,
   "metadata": {},
   "outputs": [],
   "source": [
    "model = EncDecBiLSTMSkipNet(3,1)"
   ]
  },
  {
   "cell_type": "code",
   "execution_count": 5,
   "metadata": {},
   "outputs": [],
   "source": [
    "cnn1_w, cnn1_b = model.cnn1.weight, model.cnn1.bias\n",
    "cnn2_w, cnn2_b = model.cnn2.weight, model.cnn2.bias\n",
    "cnn3_w, cnn3_b = model.cnn3.weight, model.cnn3.bias\n",
    "cnn4_w, cnn4_b = model.cnn4.weight, model.cnn4.bias\n",
    "\n",
    "dcnn1_w, dcnn1_b = model.dcnn1.weight, model.dcnn1.bias\n",
    "dcnn2_w, dcnn2_b = model.dcnn2.weight, model.dcnn2.bias\n",
    "dcnn3_w, dcnn3_b = model.dcnn3.weight, model.dcnn3.bias\n",
    "dcnn4_w, dcnn4_b = model.dcnn4.weight, model.dcnn4.bias\n",
    "\n",
    "rnn1_w, rnn1_u, rnn1_bw, rnn1_bu = model.rnn1.weight_ih_l0, model.rnn1.weight_hh_l0, model.rnn1.bias_ih_l0, model.rnn1.bias_hh_l0\n",
    "rnn1_w_r, rnn1_u_r, rnn1_bw_r, rnn1_bu_r = model.rnn1.weight_ih_l0_reverse, model.rnn1.weight_hh_l0_reverse, model.rnn1.bias_ih_l0_reverse, model.rnn1.bias_hh_l0_reverse\n",
    "rnn2_w, rnn2_u, rnn2_bw, rnn2_bu = model.rnn2.weight_ih_l0, model.rnn2.weight_hh_l0, model.rnn2.bias_ih_l0, model.rnn2.bias_hh_l0\n",
    "rnn2_w_r, rnn2_u_r, rnn2_bw_r, rnn2_bu_r = model.rnn2.weight_ih_l0_reverse, model.rnn2.weight_hh_l0_reverse, model.rnn2.bias_ih_l0_reverse, model.rnn2.bias_hh_l0_reverse\n",
    "rnn3_w, rnn3_u, rnn3_bw, rnn3_bu = model.rnn3.weight_ih_l0, model.rnn3.weight_hh_l0, model.rnn3.bias_ih_l0, model.rnn3.bias_hh_l0\n",
    "rnn3_w_r, rnn3_u_r, rnn3_bw_r, rnn3_bu_r = model.rnn3.weight_ih_l0_reverse, model.rnn3.weight_hh_l0_reverse, model.rnn3.bias_ih_l0_reverse, model.rnn3.bias_hh_l0_reverse\n",
    "rnn4_w, rnn4_u, rnn4_bw, rnn4_bu = model.rnn4.weight_ih_l0, model.rnn4.weight_hh_l0, model.rnn4.bias_ih_l0, model.rnn4.bias_hh_l0\n",
    "rnn4_w_r, rnn4_u_r, rnn4_bw_r, rnn4_bu_r = model.rnn4.weight_ih_l0_reverse, model.rnn4.weight_hh_l0_reverse, model.rnn4.bias_ih_l0_reverse, model.rnn4.bias_hh_l0_reverse"
   ]
  },
  {
   "cell_type": "code",
   "execution_count": 6,
   "metadata": {},
   "outputs": [
    {
     "name": "stdout",
     "output_type": "stream",
     "text": [
      "CNN 1 :  W = 32x3x10, b = 32, 960 + 32 = 992\n",
      "CNN 2 :  W = 64x32x7, b = 64, 14336 + 64 = 14400\n",
      "CNN 3 :  W = 128x64x5, b = 128, 40960 + 128 = 41088\n",
      "CNN 4 :  W = 256x128x3, b = 256, 98304 + 256 = 98560\n"
     ]
    }
   ],
   "source": [
    "print ('CNN 1 : ', 'W = 32x3x10,', 'b = 32,', '960 + 32 = 992')\n",
    "print ('CNN 2 : ', 'W = 64x32x7,', 'b = 64,', '14336 + 64 = 14400')\n",
    "print ('CNN 3 : ', 'W = 128x64x5,', 'b = 128,', '40960 + 128 = 41088')\n",
    "print ('CNN 4 : ', 'W = 256x128x3,', 'b = 256,', '98304 + 256 = 98560')"
   ]
  },
  {
   "cell_type": "code",
   "execution_count": 7,
   "metadata": {},
   "outputs": [
    {
     "name": "stdout",
     "output_type": "stream",
     "text": [
      "DCNN 1 :  W = 96x1x10, b = 1, 960 + 1 = 961\n",
      "DCNN 2 :  W = 192x32x7, b = 32, 43008 + 32 = 43040\n",
      "DCNN 3 :  W = 384x64x5, b = 64, 122880 + 64 = 122944\n",
      "DCNN 4 :  W = 768x128x3, b = 128, 294912 + 128 = 295040\n"
     ]
    }
   ],
   "source": [
    "print ('DCNN 1 : ', 'W = 96x1x10,', 'b = 1,', '960 + 1 = 961')\n",
    "print ('DCNN 2 : ', 'W = 192x32x7,', 'b = 32,', '43008 + 32 = 43040')\n",
    "print ('DCNN 3 : ', 'W = 384x64x5,', 'b = 64,', '122880 + 64 = 122944')\n",
    "print ('DCNN 4 : ', 'W = 768x128x3,', 'b = 128,', '294912 + 128 = 295040')"
   ]
  },
  {
   "cell_type": "code",
   "execution_count": 8,
   "metadata": {},
   "outputs": [
    {
     "name": "stdout",
     "output_type": "stream",
     "text": [
      "RNN 1 :  W = 32x32 + 32x32, b = 32 + 32, U = 32x32 + 32x32, b_u = 32 + 32, 4096 + 128 = 4224\n",
      "RNN 2 :  W = 64x64 + 64x64, b = 64 + 64, U = 64x64 + 64x64, b_u = 64 + 64, 16384 + 256 = 16640\n",
      "RNN 3 :  W = 128x128 + 128x128, b = 128 + 128, U = 128x128 + 128x128, b_u = 128 + 128, 65536 + 512 = 66048\n",
      "RNN 4 :  W = 256x256 + 256x256, b = 256 + 256, U = 256x256 + 256x256, b_u = 256 + 256, 262144 + 1024 = 263168\n"
     ]
    }
   ],
   "source": [
    "print ('RNN 1 : ', 'W = 32x32 + 32x32,', 'b = 32 + 32,', 'U = 32x32 + 32x32,', 'b_u = 32 + 32,', '4096 + 128 = 4224')\n",
    "print ('RNN 2 : ', 'W = 64x64 + 64x64,', 'b = 64 + 64,', 'U = 64x64 + 64x64,', 'b_u = 64 + 64,', '16384 + 256 = 16640')\n",
    "print ('RNN 3 : ', 'W = 128x128 + 128x128,', 'b = 128 + 128,', 'U = 128x128 + 128x128,', 'b_u = 128 + 128,', '65536 + 512 = 66048')\n",
    "print ('RNN 4 : ', 'W = 256x256 + 256x256,', 'b = 256 + 256,', 'U = 256x256 + 256x256,', 'b_u = 256 + 256,', '262144 + 1024 = 263168')\n"
   ]
  },
  {
   "cell_type": "markdown",
   "metadata": {},
   "source": [
    "## Plot rnn matrices"
   ]
  },
  {
   "cell_type": "code",
   "execution_count": 9,
   "metadata": {},
   "outputs": [
    {
     "data": {
      "text/plain": [
       "EncDecBiLSTMSkipNet(\n",
       "  (cnn1): Conv1d(3, 32, kernel_size=(10,), stride=(1,))\n",
       "  (cnn2): Conv1d(32, 64, kernel_size=(7,), stride=(1,))\n",
       "  (cnn3): Conv1d(64, 128, kernel_size=(5,), stride=(1,))\n",
       "  (cnn4): Conv1d(128, 256, kernel_size=(3,), stride=(1,))\n",
       "  (rnn1): RNN(32, 32, batch_first=True, bidirectional=True)\n",
       "  (rnn2): RNN(64, 64, batch_first=True, bidirectional=True)\n",
       "  (rnn3): RNN(128, 128, batch_first=True, bidirectional=True)\n",
       "  (rnn4): RNN(256, 256, batch_first=True, bidirectional=True)\n",
       "  (dcnn4): ConvTranspose1d(768, 128, kernel_size=(3,), stride=(1,))\n",
       "  (dcnn3): ConvTranspose1d(384, 64, kernel_size=(5,), stride=(1,))\n",
       "  (dcnn2): ConvTranspose1d(192, 32, kernel_size=(7,), stride=(1,))\n",
       "  (dcnn1): ConvTranspose1d(96, 1, kernel_size=(10,), stride=(1,))\n",
       ")"
      ]
     },
     "execution_count": 9,
     "metadata": {},
     "output_type": "execute_result"
    }
   ],
   "source": [
    "model = torch.load('../../weights/modelNewLawDQSynthData_encdecBilstmSkip_act_relu_stride_1_window_100_inpQuants_Voltage1,Voltage2,Speed_outQuants_Torque_lr_0.0001_batchSize_8000_epochs_2000.pt')\n",
    "model.eval()"
   ]
  },
  {
   "cell_type": "code",
   "execution_count": 10,
   "metadata": {},
   "outputs": [],
   "source": [
    "cnn1_w, cnn1_b = model.cnn1.weight, model.cnn1.bias\n",
    "cnn2_w, cnn2_b = model.cnn2.weight, model.cnn2.bias\n",
    "cnn3_w, cnn3_b = model.cnn3.weight, model.cnn3.bias\n",
    "cnn4_w, cnn4_b = model.cnn4.weight, model.cnn4.bias\n",
    "\n",
    "dcnn1_w, dcnn1_b = model.dcnn1.weight, model.dcnn1.bias\n",
    "dcnn2_w, dcnn2_b = model.dcnn2.weight, model.dcnn2.bias\n",
    "dcnn3_w, dcnn3_b = model.dcnn3.weight, model.dcnn3.bias\n",
    "dcnn4_w, dcnn4_b = model.dcnn4.weight, model.dcnn4.bias\n",
    "\n",
    "rnn1_w, rnn1_u, rnn1_bw, rnn1_bu = model.rnn1.weight_ih_l0, model.rnn1.weight_hh_l0, model.rnn1.bias_ih_l0, model.rnn1.bias_hh_l0\n",
    "rnn1_w_r, rnn1_u_r, rnn1_bw_r, rnn1_bu_r = model.rnn1.weight_ih_l0_reverse, model.rnn1.weight_hh_l0_reverse, model.rnn1.bias_ih_l0_reverse, model.rnn1.bias_hh_l0_reverse\n",
    "rnn2_w, rnn2_u, rnn2_bw, rnn2_bu = model.rnn2.weight_ih_l0, model.rnn2.weight_hh_l0, model.rnn2.bias_ih_l0, model.rnn2.bias_hh_l0\n",
    "rnn2_w_r, rnn2_u_r, rnn2_bw_r, rnn2_bu_r = model.rnn2.weight_ih_l0_reverse, model.rnn2.weight_hh_l0_reverse, model.rnn2.bias_ih_l0_reverse, model.rnn2.bias_hh_l0_reverse\n",
    "rnn3_w, rnn3_u, rnn3_bw, rnn3_bu = model.rnn3.weight_ih_l0, model.rnn3.weight_hh_l0, model.rnn3.bias_ih_l0, model.rnn3.bias_hh_l0\n",
    "rnn3_w_r, rnn3_u_r, rnn3_bw_r, rnn3_bu_r = model.rnn3.weight_ih_l0_reverse, model.rnn3.weight_hh_l0_reverse, model.rnn3.bias_ih_l0_reverse, model.rnn3.bias_hh_l0_reverse\n",
    "rnn4_w, rnn4_u, rnn4_bw, rnn4_bu = model.rnn4.weight_ih_l0, model.rnn4.weight_hh_l0, model.rnn4.bias_ih_l0, model.rnn4.bias_hh_l0\n",
    "rnn4_w_r, rnn4_u_r, rnn4_bw_r, rnn4_bu_r = model.rnn4.weight_ih_l0_reverse, model.rnn4.weight_hh_l0_reverse, model.rnn4.bias_ih_l0_reverse, model.rnn4.bias_hh_l0_reverse"
   ]
  },
  {
   "cell_type": "code",
   "execution_count": 11,
   "metadata": {},
   "outputs": [],
   "source": [
    "def plot_rnn(w):\n",
    "    w = w.data.cpu().numpy()\n",
    "    plt.imshow(w)"
   ]
  },
  {
   "cell_type": "markdown",
   "metadata": {},
   "source": [
    "## Find filters to prune"
   ]
  },
  {
   "cell_type": "code",
   "execution_count": 12,
   "metadata": {},
   "outputs": [],
   "source": [
    "def compute_filter_scores(w):\n",
    "    filters_scores = {}\n",
    "\n",
    "    cnn_w_npy = w.data.cpu().numpy()\n",
    "    for i in range(cnn_w_npy.shape[0]):\n",
    "        score = 0\n",
    "        for j in range(cnn_w_npy.shape[1]):\n",
    "            score += np.linalg.norm(cnn_w_npy[i,j,:], ord=1)\n",
    "        filters_scores[i] = score\n",
    "\n",
    "    sorted_filters_scores = sorted(filters_scores.items(), key=operator.itemgetter(1))\n",
    "    sorted_filters_scores.reverse()\n",
    "    \n",
    "    return sorted_filters_scores"
   ]
  },
  {
   "cell_type": "code",
   "execution_count": 13,
   "metadata": {},
   "outputs": [
    {
     "data": {
      "text/plain": [
       "[(22, 3.355632483959198),\n",
       " (23, 3.2577165365219116),\n",
       " (27, 3.1860647201538086),\n",
       " (20, 3.115381360054016),\n",
       " (30, 3.09181809425354),\n",
       " (7, 3.079788625240326),\n",
       " (10, 3.074093818664551),\n",
       " (2, 3.0070873498916626),\n",
       " (4, 2.998003304004669),\n",
       " (15, 2.909471571445465),\n",
       " (9, 2.8861640095710754),\n",
       " (3, 2.869348883628845),\n",
       " (1, 2.8606576919555664),\n",
       " (18, 2.8593611121177673),\n",
       " (25, 2.8182698488235474),\n",
       " (0, 2.8087316155433655),\n",
       " (29, 2.8000152111053467),\n",
       " (31, 2.7810418605804443),\n",
       " (21, 2.7060452699661255),\n",
       " (16, 2.642850637435913),\n",
       " (28, 2.6322097182273865),\n",
       " (8, 2.6197911500930786),\n",
       " (19, 2.611757218837738),\n",
       " (14, 2.5517998933792114),\n",
       " (12, 2.5032225847244263),\n",
       " (26, 2.494011342525482),\n",
       " (17, 2.435724377632141),\n",
       " (24, 2.294153928756714),\n",
       " (11, 2.2763158082962036),\n",
       " (5, 2.2667396664619446),\n",
       " (6, 2.1737363934516907),\n",
       " (13, 2.0068514347076416)]"
      ]
     },
     "execution_count": 13,
     "metadata": {},
     "output_type": "execute_result"
    }
   ],
   "source": [
    "compute_filter_scores(cnn1_w)"
   ]
  },
  {
   "cell_type": "code",
   "execution_count": null,
   "metadata": {},
   "outputs": [],
   "source": []
  }
 ],
 "metadata": {
  "kernelspec": {
   "display_name": "Python 3",
   "language": "python",
   "name": "python3"
  },
  "language_info": {
   "codemirror_mode": {
    "name": "ipython",
    "version": 3
   },
   "file_extension": ".py",
   "mimetype": "text/x-python",
   "name": "python",
   "nbconvert_exporter": "python",
   "pygments_lexer": "ipython3",
   "version": "3.6.7"
  }
 },
 "nbformat": 4,
 "nbformat_minor": 2
}
