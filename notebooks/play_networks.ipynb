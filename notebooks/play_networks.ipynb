{
 "cells": [
  {
   "cell_type": "code",
   "execution_count": 1,
   "metadata": {},
   "outputs": [],
   "source": [
    "import torch\n",
    "import torch.autograd as autograd\n",
    "import torch.nn as nn\n",
    "import torch.nn.functional as F\n",
    "import torch.optim as optim\n",
    "from torch.autograd import Variable\n",
    "\n",
    "import scipy.io as sio\n",
    "from scipy.signal import resample\n",
    "import os\n",
    "\n",
    "import numpy as np\n",
    "import random\n",
    "\n",
    "from sklearn import preprocessing\n",
    "\n",
    "import sys\n",
    "sys.path.append('..')\n",
    "\n",
    "from models import EncDec\n"
   ]
  },
  {
   "cell_type": "code",
   "execution_count": 2,
   "metadata": {},
   "outputs": [],
   "source": [
    "net = EncDec.EncDecSkipNet(3, 1)"
   ]
  },
  {
   "cell_type": "code",
   "execution_count": 3,
   "metadata": {},
   "outputs": [
    {
     "data": {
      "text/plain": [
       "torch.Size([8, 100, 1])"
      ]
     },
     "execution_count": 3,
     "metadata": {},
     "output_type": "execute_result"
    }
   ],
   "source": [
    "inp = torch.randn(8,100,3)\n",
    "net(inp).size()"
   ]
  },
  {
   "cell_type": "code",
   "execution_count": 20,
   "metadata": {},
   "outputs": [],
   "source": [
    "class EncDecBiLSTMSkipNet(nn.Module):\n",
    "    def __init__(self, input_dim, output_dim, act='relu'):\n",
    "        super(EncDecBiLSTMSkipNet, self).__init__()\n",
    "        self.cnn1 = nn.Conv1d(input_dim, 32, kernel_size=10, stride=1)\n",
    "        self.cnn2 = nn.Conv1d(32, 64, kernel_size=7, stride=1)\n",
    "        self.cnn3 = nn.Conv1d(64, 128, kernel_size=5, stride=1)\n",
    "        self.cnn4 = nn.Conv1d(128, 256, kernel_size=3, stride=1)\n",
    "               \n",
    "        self.rnn1 = nn.RNN(32, 32, batch_first=True, bidirectional=True)\n",
    "        self.rnn2 = nn.RNN(64, 64, batch_first=True, bidirectional=True)\n",
    "        self.rnn3 = nn.RNN(128, 128, batch_first=True, bidirectional=True)\n",
    "        self.rnn4 = nn.RNN(256, 256, batch_first=True, bidirectional=True)\n",
    "        \n",
    "        self.dcnn4 = nn.ConvTranspose1d(768, 128, kernel_size=3, stride=1)\n",
    "        self.dcnn3 = nn.ConvTranspose1d(384, 64, kernel_size=5, stride=1)\n",
    "        self.dcnn2 = nn.ConvTranspose1d(192, 32, kernel_size=7, stride=1)\n",
    "        self.dcnn1 = nn.ConvTranspose1d(96, output_dim, kernel_size=10, stride=1)\n",
    "        \n",
    "        if act == 'relu':\n",
    "            self.act = torch.relu\n",
    "        if act == 'tanh':\n",
    "            self.act = torch.tanh\n",
    "    \n",
    "    def forward(self, x):\n",
    "        x = x.permute(0,2,1)\n",
    "        x1 = self.act(self.cnn1(x))\n",
    "        x2 = self.act(self.cnn2(x1))\n",
    "        x3 = self.act(self.cnn3(x2))\n",
    "        x4 = self.act(self.cnn4(x3))\n",
    "        \n",
    "        x1 = x1.permute(0,2,1)\n",
    "        x1, _ = self.rnn1(x1)\n",
    "        x1 = x1.permute(0,2,1)\n",
    "        \n",
    "        x2 = x2.permute(0,2,1)\n",
    "        x2, _ = self.rnn2(x2)\n",
    "        x2 = x2.permute(0,2,1)\n",
    "        \n",
    "        x3 = x3.permute(0,2,1)\n",
    "        x3, _ = self.rnn3(x3)\n",
    "        x3 = x3.permute(0,2,1)\n",
    "        \n",
    "        rx4 = x4.permute(0,2,1)\n",
    "        rx4, _ = self.rnn4(rx4)\n",
    "        rx4 = rx4.permute(0,2,1)\n",
    "        \n",
    "        x5 = self.act(self.dcnn4(torch.cat((x4, rx4), 1)))\n",
    "        x6 = self.act(self.dcnn3(torch.cat((x5, x3), 1)))\n",
    "        x7 = self.act(self.dcnn2(torch.cat((x6, x2), 1)))\n",
    "        x8 = self.dcnn1(torch.cat((x7, x1), 1))\n",
    "        \n",
    "        return x8.view(-1, x8.size()[-1], x8.size()[1])"
   ]
  },
  {
   "cell_type": "code",
   "execution_count": 21,
   "metadata": {},
   "outputs": [
    {
     "data": {
      "text/plain": [
       "torch.Size([8, 100, 1])"
      ]
     },
     "execution_count": 21,
     "metadata": {},
     "output_type": "execute_result"
    }
   ],
   "source": [
    "net = EncDecBiLSTMSkipNet(3, 1)\n",
    "inp = torch.randn(8,100,3)\n",
    "net(inp).size()"
   ]
  },
  {
   "cell_type": "code",
   "execution_count": null,
   "metadata": {},
   "outputs": [],
   "source": []
  }
 ],
 "metadata": {
  "kernelspec": {
   "display_name": "Python 2",
   "language": "python",
   "name": "python2"
  },
  "language_info": {
   "codemirror_mode": {
    "name": "ipython",
    "version": 2
   },
   "file_extension": ".py",
   "mimetype": "text/x-python",
   "name": "python",
   "nbconvert_exporter": "python",
   "pygments_lexer": "ipython2",
   "version": "2.7.15rc1"
  }
 },
 "nbformat": 4,
 "nbformat_minor": 2
}
