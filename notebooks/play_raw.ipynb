{
 "cells": [
  {
   "cell_type": "code",
   "execution_count": 71,
   "metadata": {},
   "outputs": [],
   "source": [
    "import numpy as np\n",
    "import random\n",
    "from math import floor, ceil\n",
    "\n",
    "from sklearn import preprocessing\n",
    "import scipy.io as sio\n",
    "from scipy.signal import resample\n",
    "from scipy.interpolate import interp1d\n",
    "\n",
    "%matplotlib inline\n",
    "import matplotlib.pyplot as plt\n",
    "import os\n",
    "import math"
   ]
  },
  {
   "cell_type": "code",
   "execution_count": 3,
   "metadata": {},
   "outputs": [],
   "source": [
    "def normalize(quant, minn, maxx):\n",
    "    a = 0\n",
    "    b = 1\n",
    "    t = a + ( quant - minn) * ((b - a) / (maxx - minn))\n",
    "    return t.astype(np.float32)"
   ]
  },
  {
   "cell_type": "code",
   "execution_count": 35,
   "metadata": {},
   "outputs": [
    {
     "name": "stdout",
     "output_type": "stream",
     "text": [
      "dict_keys(['__header__', '__version__', '__globals__', 'id', 'iq', 'it', 'spd', 'trq', 'vd', 'vq', 'vt'])\n"
     ]
    }
   ],
   "source": [
    "data = sio.loadmat('../../datasets/RawDataMats/LM10.mat')\n",
    "print (data.keys())\n",
    "\n",
    "voltage1 = normalize(data['vd'][:, 0], -300, 300)\n",
    "voltage2 = normalize(data['vq'][: ,0], -300, 300)\n",
    "speed = normalize(data['spd'][:, 0], -350, 350)\n",
    "current1 = normalize(data['id'][:, 0], -30, 30)\n",
    "current2 = normalize(data['iq'][:, 0], -30, 30)\n",
    "torque = normalize(data['trq'][:, 0], -50, 50)\n",
    "it = data['it'][:, 0]\n",
    "vt = data['vt'][:, 0]"
   ]
  },
  {
   "cell_type": "code",
   "execution_count": 36,
   "metadata": {},
   "outputs": [
    {
     "data": {
      "text/plain": [
       "[<matplotlib.lines.Line2D at 0x7f5cc40c0748>]"
      ]
     },
     "execution_count": 36,
     "metadata": {},
     "output_type": "execute_result"
    },
    {
     "data": {
      "image/png": "[encoded data removed]",
      "text/plain": [
       "<Figure size 432x288 with 1 Axes>"
      ]
     },
     "metadata": {},
     "output_type": "display_data"
    }
   ],
   "source": [
    "plt.plot(vt[:50], voltage1[:50])\n",
    "plt.plot(it[:50], current1[:50])"
   ]
  },
  {
   "cell_type": "code",
   "execution_count": 60,
   "metadata": {},
   "outputs": [],
   "source": [
    "f = interp1d(vt, voltage1)\n",
    "nv1 = f(it[1:])"
   ]
  },
  {
   "cell_type": "code",
   "execution_count": 39,
   "metadata": {},
   "outputs": [
    {
     "data": {
      "text/plain": [
       "((10238,), (10242,))"
      ]
     },
     "execution_count": 39,
     "metadata": {},
     "output_type": "execute_result"
    }
   ],
   "source": [
    "speed.shape, current1.shape"
   ]
  },
  {
   "cell_type": "code",
   "execution_count": null,
   "metadata": {},
   "outputs": [],
   "source": []
  },
  {
   "cell_type": "code",
   "execution_count": null,
   "metadata": {},
   "outputs": [],
   "source": []
  },
  {
   "cell_type": "code",
   "execution_count": 65,
   "metadata": {},
   "outputs": [
    {
     "data": {
      "text/plain": [
       "[<matplotlib.lines.Line2D at 0x7f5c7778be48>]"
      ]
     },
     "execution_count": 65,
     "metadata": {},
     "output_type": "execute_result"
    },
    {
     "data": {
      "image/png": "[encoded data removed]",
      "text/plain": [
       "<Figure size 432x288 with 1 Axes>"
      ]
     },
     "metadata": {},
     "output_type": "display_data"
    }
   ],
   "source": [
    "plt.plot(it[1:], nv1)"
   ]
  },
  {
   "cell_type": "code",
   "execution_count": 75,
   "metadata": {},
   "outputs": [],
   "source": [
    "raws = os.listdir('../../datasets/RawDataMats/') "
   ]
  },
  {
   "cell_type": "code",
   "execution_count": 76,
   "metadata": {},
   "outputs": [],
   "source": [
    "vqs = []\n",
    "vds = []\n",
    "spds = []\n",
    "iqs = []\n",
    "ids = []\n",
    "trqs = []\n",
    "for raw in raws:\n",
    "    data = sio.loadmat('../../datasets/RawDataMats/' + raw)\n",
    "    vqs.append(data['vq'].min())\n",
    "    vqs.append(data['vq'].max())\n",
    "    vds.append(data['vd'].min())\n",
    "    vds.append(data['vd'].max())\n",
    "    iqs.append(data['iq'].min())\n",
    "    iqs.append(data['iq'].max())\n",
    "    ids.append(data['id'].min())\n",
    "    ids.append(data['id'].max())\n",
    "    trqs.append(data['trq'].min())\n",
    "    trqs.append(data['trq'].max())\n",
    "    spds.append(data['spd'].min())\n",
    "    spds.append(data['spd'].max())\n",
    "    "
   ]
  },
  {
   "cell_type": "code",
   "execution_count": 77,
   "metadata": {},
   "outputs": [
    {
     "name": "stdout",
     "output_type": "stream",
     "text": [
      "-445.7720947265625 459.1227722167969\n",
      "-172.74371337890625 189.83258056640625\n",
      "-23.712890625 24.44091796875\n",
      "-7.93896484375 17.663330078125\n",
      "-39.31884765625 39.404296875\n",
      "-630.3222931221343 664.7409870503183\n"
     ]
    }
   ],
   "source": [
    "print (min(vqs),max(vqs))\n",
    "print (min(vds),max(vds))\n",
    "print (min(iqs),max(iqs))\n",
    "print (min(ids),max(ids))\n",
    "print (min(trqs) / 100 * 25,max(trqs) / 100 * 25)\n",
    "print (min(spds) * 2 * math.pi,max(spds) * 2 * math.pi)"
   ]
  },
  {
   "cell_type": "code",
   "execution_count": 85,
   "metadata": {},
   "outputs": [],
   "source": [
    "sims = os.listdir('../../datasets/SimSynthData/')\n",
    "\n",
    "for sim in sims:\n",
    "    v = sio.loadmat('../../datasets/SimSynthData/' + sim + '/Voltage.mat')['voltage']\n",
    "    c = sio.loadmat('../../datasets/SimSynthData/' + sim + '/Current.mat')['current']\n",
    "    s = sio.loadmat('../../datasets/SimSynthData/' + sim + '/Speed.mat')['speed']\n",
    "    t = sio.loadmat('../../datasets/SimSynthData/' + sim + '/Torque.mat')['torque']\n",
    "    time = sio.loadmat('../../datasets/SimSynthData/' + sim + '/Time.mat')['time']\n",
    "    data = {'vd':v[:,0:1], 'vq':v[:,1:2], 'id':c[:,0:1], 'iq':c[:,1:2], \n",
    "            'spd':s[:,0:1], 'trq':t[:,0:1], 'it':time[:,0:1],'vt':time[:,0:1]}\n",
    "    sio.savemat('../../datasets/data/' + sim, data)"
   ]
  },
  {
   "cell_type": "code",
   "execution_count": 81,
   "metadata": {},
   "outputs": [
    {
     "data": {
      "text/plain": [
       "(71901, 2)"
      ]
     },
     "execution_count": 81,
     "metadata": {},
     "output_type": "execute_result"
    }
   ],
   "source": [
    "v.shape"
   ]
  },
  {
   "cell_type": "code",
   "execution_count": null,
   "metadata": {},
   "outputs": [],
   "source": []
  }
 ],
 "metadata": {
  "kernelspec": {
   "display_name": "Python 3",
   "language": "python",
   "name": "python3"
  },
  "language_info": {
   "codemirror_mode": {
    "name": "ipython",
    "version": 3
   },
   "file_extension": ".py",
   "mimetype": "text/x-python",
   "name": "python",
   "nbconvert_exporter": "python",
   "pygments_lexer": "ipython3",
   "version": "3.6.7"
  }
 },
 "nbformat": 4,
 "nbformat_minor": 2
}
