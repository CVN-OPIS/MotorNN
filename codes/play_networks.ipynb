{
 "cells": [
  {
   "cell_type": "code",
   "execution_count": 2,
   "metadata": {},
   "outputs": [],
   "source": [
    "import torch\n",
    "import torch.autograd as autograd\n",
    "import torch.nn as nn\n",
    "import torch.nn.functional as F\n",
    "import torch.optim as optim\n",
    "from torch.autograd import Variable\n",
    "\n",
    "import scipy.io as sio\n",
    "from scipy.signal import resample\n",
    "import os\n",
    "\n",
    "import numpy as np\n",
    "import random\n",
    "\n",
    "from multilabel_rbm import RBM as MRBM\n",
    "from rbm import RBM \n",
    "from class_rbm import ClassRBM\n",
    "\n",
    "from sklearn import preprocessing\n",
    "\n",
    "%matplotlib inline\n",
    "import matplotlib.pyplot as plt\n",
    "\n",
    "from scipy.signal import correlate\n",
    "\n"
   ]
  },
  {
   "cell_type": "code",
   "execution_count": 3,
   "metadata": {},
   "outputs": [],
   "source": [
    "experiments = os.listdir('../datasets/sample_experiments/')"
   ]
  },
  {
   "cell_type": "code",
   "execution_count": 4,
   "metadata": {},
   "outputs": [],
   "source": [
    "scaler = preprocessing.MinMaxScaler(feature_range=[-1,1])"
   ]
  },
  {
   "cell_type": "code",
   "execution_count": 5,
   "metadata": {},
   "outputs": [],
   "source": [
    "all_data = []"
   ]
  },
  {
   "cell_type": "code",
   "execution_count": 8,
   "metadata": {},
   "outputs": [
    {
     "name": "stdout",
     "output_type": "stream",
     "text": [
      "((3492633, 7), (6986, 7))\n",
      "((1090600, 7), (2182, 7))\n",
      "((3835275, 7), (7671, 7))\n",
      "((2817307, 7), (5635, 7))\n",
      "((1637459, 7), (3275, 7))\n",
      "((2209425, 7), (4419, 7))\n",
      "((2488471, 7), (4977, 7))\n",
      "((3458049, 7), (6917, 7))\n",
      "((13729174, 7), (27459, 7))\n",
      "((3867079, 7), (7735, 7))\n",
      "((1636972, 7), (3274, 7))\n",
      "((1967146, 7), (3935, 7))\n",
      "((3410960, 7), (6822, 7))\n",
      "((3759685, 7), (7520, 7))\n",
      "((1305561, 7), (2612, 7))\n",
      "((2338492, 7), (4677, 7))\n",
      "((3691522, 7), (7384, 7))\n",
      "((3900352, 7), (7801, 7))\n"
     ]
    }
   ],
   "source": [
    "experiment_samples = {}\n",
    "\n",
    "for experiment in experiments:\n",
    "    data = sio.loadmat('../datasets/sample_experiments/' + experiment)\n",
    "    data = data['Data_dq'][0][0][1][0][0][0]\n",
    "    downsample_data = []\n",
    "    for i in range(0,data.shape[0],500):\n",
    "        downsample_data.append(data[i])\n",
    "    downsample_data = np.asarray(downsample_data)\n",
    "    print(data.shape, downsample_data.shape)\n",
    "#     all_data += list(downsample_data)\n",
    "    experiment_samples[experiment[:-4]] = scaler.transform(downsample_data)"
   ]
  },
  {
   "cell_type": "code",
   "execution_count": 7,
   "metadata": {},
   "outputs": [
    {
     "name": "stdout",
     "output_type": "stream",
     "text": [
      "(121281, 7)\n"
     ]
    },
    {
     "data": {
      "text/plain": [
       "MinMaxScaler(copy=True, feature_range=[-1, 1])"
      ]
     },
     "execution_count": 7,
     "metadata": {},
     "output_type": "execute_result"
    }
   ],
   "source": [
    "# all_data = np.asarray(all_data)\n",
    "# print (all_data.shape)\n",
    "# scaler.fit(all_data)"
   ]
  },
  {
   "cell_type": "code",
   "execution_count": 20,
   "metadata": {},
   "outputs": [
    {
     "name": "stdout",
     "output_type": "stream",
     "text": [
      "exp13\n",
      "exp12\n",
      "exp11\n",
      "exp10\n"
     ]
    }
   ],
   "source": [
    "train = []\n",
    "test = []\n",
    "\n",
    "stride = 10\n",
    "window = 30\n",
    "for exp in experiment_samples.keys()[:14]:\n",
    "    experiment_sample = experiment_samples[exp]\n",
    "    \n",
    "    samples = []\n",
    "    for i in range(0, experiment_sample.shape[0], stride):\n",
    "        if experiment_sample[i:i+window,:].shape[0] == window:\n",
    "            samples.append(experiment_sample[i:i+window,:])\n",
    "        \n",
    "    random.shuffle(samples)\n",
    "    train += samples\n",
    "    \n",
    "for exp in experiment_samples.keys()[14:]:\n",
    "    print (exp)\n",
    "    experiment_sample = experiment_samples[exp]\n",
    "    \n",
    "    samples = []\n",
    "    for i in range(0, experiment_sample.shape[0], stride):\n",
    "        if experiment_sample[i:i+window,:].shape[0] == window:\n",
    "            samples.append(experiment_sample[i:i+window,:])\n",
    "        \n",
    "    random.shuffle(samples)\n",
    "    test += samples\n",
    "    \n",
    "train = np.asarray(train)\n",
    "test = np.asarray(test)"
   ]
  },
  {
   "cell_type": "code",
   "execution_count": 21,
   "metadata": {},
   "outputs": [
    {
     "name": "stdout",
     "output_type": "stream",
     "text": [
      "(10163, 30, 7) (1921, 30, 7)\n",
      "1.0 1.0 1.0 1.0 1.0 1.0\n",
      "-1.0 -1.0 -0.9999607920205232 -1.0 -0.8092929197694757 -0.7311461920148765\n"
     ]
    }
   ],
   "source": [
    "print train.shape, test.shape\n",
    "print train[:,:,0].max(), train[:,:,1].max(), train[:,:,5].max(), train[:,:,3].max(), train[:,:,4].max(), train[:,:,6].max()\n",
    "print train[:,:,0].min(), train[:,:,1].min(), train[:,:,5].min(), train[:,:,3].min(), train[:,:,4].min(), train[:,:,6].min()"
   ]
  },
  {
   "cell_type": "code",
   "execution_count": null,
   "metadata": {},
   "outputs": [],
   "source": []
  },
  {
   "cell_type": "code",
   "execution_count": 37,
   "metadata": {},
   "outputs": [],
   "source": [
    "class FFNet(nn.Module):\n",
    "    def __init__(self, input_dim):\n",
    "        super(FFNet, self).__init__()\n",
    "        self.linear1 = nn.Linear(input_dim, 256)\n",
    "        self.linear2 = nn.Linear(256, 128)\n",
    "        self.linear4 = nn.Linear(128, 30)\n",
    "\n",
    "    def forward(self, seq):\n",
    "        x = seq.view(seq.size()[0], -1)\n",
    "        out = self.linear1(x)\n",
    "        out = self.linear2(out)\n",
    "#         out = self.linear3(out)\n",
    "        out = self.linear4(out)\n",
    "        #print (out.size())\n",
    "        #base_out = out.view(seq.size()[0], seq.size()[1], seq.size()[2])\n",
    "        return out"
   ]
  },
  {
   "cell_type": "code",
   "execution_count": null,
   "metadata": {},
   "outputs": [],
   "source": [
    "\n",
    "\n"
   ]
  },
  {
   "cell_type": "code",
   "execution_count": 38,
   "metadata": {},
   "outputs": [],
   "source": [
    "class LSTMNet(nn.Module):\n",
    "\n",
    "    def __init__(self, hidden_dim, layer1_dim, layer2_dim):\n",
    "        super(LSTMNet, self).__init__()\n",
    "        self.hidden_dim = hidden_dim\n",
    "\n",
    "        self.lstm = nn.LSTM(3, hidden_dim, batch_first=True) \n",
    "        self.linear1 = nn.Linear(hidden_dim, layer1_dim)\n",
    "        self.linear2 = nn.Linear(layer1_dim, 1)\n",
    "        self.linear3 = nn.Linear(layer1_dim, 1)\n",
    "        \n",
    "        self.linear4 = nn.Linear(layer1_dim, layer2_dim)\n",
    "        self.linear5 = nn.Linear(layer2_dim, 1)\n",
    "\n",
    "    def forward(self, seq):\n",
    "        lstm_out = self.lstm(seq)[0]\n",
    "#         print (lstm_out.size())\n",
    "        tmp1 = F.tanh(self.linear1(lstm_out))\n",
    "#         print (lstm_out.size())\n",
    "        _out1 = self.linear2(tmp1)\n",
    "        _out2 = self.linear3(tmp1)\n",
    "        \n",
    "        _out3 = self.linear4(tmp1)\n",
    "        _out3 = self.linear5(_out3)\n",
    "#         print (_out.size())\n",
    "        base_out1 = _out1.view(-1, 60)\n",
    "        base_out2 = _out2.view(-1, 60)\n",
    "        base_out3 = _out3.view(-1, 60)\n",
    "#         print (base_out.size())\n",
    "        return base_out1, base_out2, base_out3"
   ]
  },
  {
   "cell_type": "code",
   "execution_count": 39,
   "metadata": {},
   "outputs": [],
   "source": [
    "# model = LSTMNet(128,300,150).cuda()\n",
    "model = FFNet(30*3).cuda()"
   ]
  },
  {
   "cell_type": "code",
   "execution_count": 40,
   "metadata": {},
   "outputs": [],
   "source": [
    "loss_function = nn.MSELoss()\n",
    "lr = 0.1\n",
    "optimizer = optim.SGD(model.parameters(), lr=lr)"
   ]
  },
  {
   "cell_type": "code",
   "execution_count": 41,
   "metadata": {},
   "outputs": [
    {
     "name": "stderr",
     "output_type": "stream",
     "text": [
      "/usr/local/lib/python2.7/dist-packages/ipykernel_launcher.py:17: UserWarning: invalid index of a 0-dim tensor. This will be an error in PyTorch 0.5. Use tensor.item() to convert a 0-dim tensor to a Python number\n",
      "/usr/local/lib/python2.7/dist-packages/ipykernel_launcher.py:29: UserWarning: invalid index of a 0-dim tensor. This will be an error in PyTorch 0.5. Use tensor.item() to convert a 0-dim tensor to a Python number\n"
     ]
    },
    {
     "name": "stdout",
     "output_type": "stream",
     "text": [
      "Epoch 0: Train loss = 0.990168809891, Test loss = 0.23398283124\n",
      "Epoch 1: Train loss = 0.803543746471, Test loss = 0.222280278802\n",
      "Epoch 2: Train loss = 0.782273113728, Test loss = 0.213291823864\n",
      "Epoch 3: Train loss = 0.764694988728, Test loss = 0.206482321024\n",
      "Epoch 4: Train loss = 0.750131189823, Test loss = 0.201954081655\n",
      "Epoch 5: Train loss = 0.736282408237, Test loss = 0.20725813508\n",
      "Epoch 6: Train loss = 0.723585665226, Test loss = 0.199719205499\n",
      "Epoch 7: Train loss = 0.711063027382, Test loss = 0.194734811783\n",
      "Epoch 8: Train loss = 0.699273705482, Test loss = 0.19003726542\n",
      "Epoch 9: Train loss = 0.687589645386, Test loss = 0.189960300922\n",
      "Epoch 10: Train loss = 0.676016569138, Test loss = 0.186756014824\n",
      "Epoch 11: Train loss = 0.664453804493, Test loss = 0.179066821933\n",
      "Epoch 12: Train loss = 0.651209354401, Test loss = 0.184634044766\n",
      "Epoch 13: Train loss = 0.640228867531, Test loss = 0.176043316722\n",
      "Epoch 14: Train loss = 0.628132104874, Test loss = 0.169650316238\n",
      "Epoch 15: Train loss = 0.615156471729, Test loss = 0.172289609909\n",
      "Epoch 16: Train loss = 0.602983593941, Test loss = 0.16925534606\n",
      "Epoch 17: Train loss = 0.589939177036, Test loss = 0.163977116346\n",
      "Epoch 18: Train loss = 0.575898110867, Test loss = 0.163268864155\n",
      "Epoch 19: Train loss = 0.564002752304, Test loss = 0.155996710062\n",
      "Epoch 20: Train loss = 0.551212131977, Test loss = 0.154922857881\n",
      "Epoch 21: Train loss = 0.537652850151, Test loss = 0.153353095055\n",
      "Epoch 22: Train loss = 0.525023639202, Test loss = 0.146320641041\n",
      "Epoch 23: Train loss = 0.511450827122, Test loss = 0.144228056073\n",
      "Epoch 24: Train loss = 0.498352587223, Test loss = 0.145988538861\n",
      "Epoch 25: Train loss = 0.486365169287, Test loss = 0.139379531145\n",
      "Epoch 26: Train loss = 0.474164307117, Test loss = 0.135550349951\n",
      "Epoch 27: Train loss = 0.462650537491, Test loss = 0.132561564445\n",
      "Epoch 28: Train loss = 0.450255095959, Test loss = 0.136986374855\n",
      "Epoch 29: Train loss = 0.440691500902, Test loss = 0.129455596209\n",
      "Epoch 30: Train loss = 0.428981274366, Test loss = 0.129435241222\n",
      "Epoch 31: Train loss = 0.418762415648, Test loss = 0.126693710685\n",
      "Epoch 32: Train loss = 0.409415721893, Test loss = 0.129243940115\n",
      "Epoch 33: Train loss = 0.400408148766, Test loss = 0.125155568123\n",
      "Epoch 34: Train loss = 0.392837762833, Test loss = 0.122380077839\n",
      "Epoch 35: Train loss = 0.385457128286, Test loss = 0.121248170733\n",
      "Epoch 36: Train loss = 0.378378629684, Test loss = 0.119044572115\n",
      "Epoch 37: Train loss = 0.371623337269, Test loss = 0.119683980942\n",
      "Epoch 38: Train loss = 0.365712881088, Test loss = 0.116957455873\n",
      "Epoch 39: Train loss = 0.3607442379, Test loss = 0.116906195879\n",
      "Epoch 40: Train loss = 0.355599611998, Test loss = 0.115490168333\n",
      "Epoch 41: Train loss = 0.350344061852, Test loss = 0.116124257445\n",
      "Epoch 42: Train loss = 0.346934139729, Test loss = 0.116138584912\n",
      "Epoch 43: Train loss = 0.342162668705, Test loss = 0.114617645741\n",
      "Epoch 44: Train loss = 0.340099751949, Test loss = 0.113492257893\n",
      "Epoch 45: Train loss = 0.336179345846, Test loss = 0.112838953733\n",
      "Epoch 46: Train loss = 0.333131581545, Test loss = 0.112932391465\n",
      "Epoch 47: Train loss = 0.331339299679, Test loss = 0.112188890576\n",
      "Epoch 48: Train loss = 0.328955054283, Test loss = 0.112169347703\n",
      "Epoch 49: Train loss = 0.326669245958, Test loss = 0.112051956356\n",
      "Epoch 50: Train loss = 0.325783461332, Test loss = 0.112809821963\n",
      "Epoch 51: Train loss = 0.323051899672, Test loss = 0.111165836453\n",
      "Epoch 52: Train loss = 0.322410255671, Test loss = 0.111266836524\n",
      "Epoch 53: Train loss = 0.32212421298, Test loss = 0.110860042274\n",
      "Epoch 54: Train loss = 0.318822324276, Test loss = 0.110750950873\n",
      "Epoch 55: Train loss = 0.318122267723, Test loss = 0.110687486827\n",
      "Epoch 56: Train loss = 0.31635928154, Test loss = 0.110656760633\n",
      "Epoch 57: Train loss = 0.31540247798, Test loss = 0.110443219543\n",
      "Epoch 58: Train loss = 0.3142991364, Test loss = 0.110157519579\n",
      "Epoch 59: Train loss = 0.312964439392, Test loss = 0.110430017114\n",
      "Epoch 60: Train loss = 0.313392132521, Test loss = 0.11007592082\n",
      "Epoch 61: Train loss = 0.311062693596, Test loss = 0.109858833253\n",
      "Epoch 62: Train loss = 0.312575042248, Test loss = 0.109703615308\n",
      "Epoch 63: Train loss = 0.311778873205, Test loss = 0.109585009515\n",
      "Epoch 64: Train loss = 0.310760349035, Test loss = 0.109643787146\n",
      "Epoch 65: Train loss = 0.309661448002, Test loss = 0.110079012811\n",
      "Epoch 66: Train loss = 0.308830946684, Test loss = 0.109738968313\n",
      "Epoch 67: Train loss = 0.308314800262, Test loss = 0.109308183193\n",
      "Epoch 68: Train loss = 0.309262812138, Test loss = 0.109173439443\n",
      "Epoch 69: Train loss = 0.306605666876, Test loss = 0.109042733908\n",
      "Epoch 70: Train loss = 0.307073324919, Test loss = 0.109346657991\n",
      "Epoch 71: Train loss = 0.307242035866, Test loss = 0.108830153942\n",
      "Epoch 72: Train loss = 0.30591109395, Test loss = 0.108664795756\n",
      "Epoch 73: Train loss = 0.304869532585, Test loss = 0.109624668956\n",
      "Epoch 74: Train loss = 0.306010782719, Test loss = 0.109478160739\n",
      "Epoch 75: Train loss = 0.306761980057, Test loss = 0.108449116349\n",
      "Epoch 76: Train loss = 0.302647352219, Test loss = 0.108336761594\n",
      "Epoch 77: Train loss = 0.304232239723, Test loss = 0.109735876322\n",
      "Epoch 78: Train loss = 0.302368372679, Test loss = 0.108033649623\n",
      "Epoch 79: Train loss = 0.303250491619, Test loss = 0.107971563935\n",
      "Epoch 80: Train loss = 0.302038729191, Test loss = 0.107881993055\n",
      "Epoch 81: Train loss = 0.30079716444, Test loss = 0.108076162636\n",
      "Epoch 82: Train loss = 0.301745504141, Test loss = 0.108376815915\n",
      "Epoch 83: Train loss = 0.302674174309, Test loss = 0.107424601912\n",
      "Epoch 84: Train loss = 0.299703627825, Test loss = 0.107376039028\n",
      "Epoch 85: Train loss = 0.29965108633, Test loss = 0.107293970883\n",
      "Epoch 86: Train loss = 0.300623774529, Test loss = 0.10710041225\n",
      "Epoch 87: Train loss = 0.298216730356, Test loss = 0.106979489326\n",
      "Epoch 88: Train loss = 0.297490894794, Test loss = 0.107453033328\n",
      "Epoch 89: Train loss = 0.29824846983, Test loss = 0.106923058629\n",
      "Epoch 90: Train loss = 0.297994762659, Test loss = 0.107000872493\n",
      "Epoch 91: Train loss = 0.297273904085, Test loss = 0.107274927199\n",
      "Epoch 92: Train loss = 0.296299427748, Test loss = 0.106404088438\n",
      "Epoch 93: Train loss = 0.297358900309, Test loss = 0.106651246548\n",
      "Epoch 94: Train loss = 0.296116143465, Test loss = 0.106242649257\n",
      "Epoch 95: Train loss = 0.295342773199, Test loss = 0.10641977936\n",
      "Epoch 96: Train loss = 0.296128600836, Test loss = 0.106828227639\n",
      "Epoch 97: Train loss = 0.294938087463, Test loss = 0.105872675776\n",
      "Epoch 98: Train loss = 0.295082002878, Test loss = 0.106906607747\n",
      "Epoch 99: Train loss = 0.293735772371, Test loss = 0.105687379837\n",
      "Epoch 100: Train loss = 0.297021746635, Test loss = 0.106121711433\n",
      "Epoch 101: Train loss = 0.294297456741, Test loss = 0.105454042554\n",
      "Epoch 102: Train loss = 0.293653845787, Test loss = 0.105398617685\n",
      "Epoch 103: Train loss = 0.292824357748, Test loss = 0.105278812349\n",
      "Epoch 104: Train loss = 0.292261868715, Test loss = 0.105138279498\n",
      "Epoch 105: Train loss = 0.292422145605, Test loss = 0.105141498148\n",
      "Epoch 106: Train loss = 0.29134118557, Test loss = 0.106216460466\n",
      "Epoch 107: Train loss = 0.291126579046, Test loss = 0.10519939661\n",
      "Epoch 108: Train loss = 0.292763829231, Test loss = 0.105436652899\n",
      "Epoch 109: Train loss = 0.291613131762, Test loss = 0.105088889599\n",
      "Epoch 110: Train loss = 0.290110260248, Test loss = 0.104481503367\n",
      "Epoch 111: Train loss = 0.288848221302, Test loss = 0.10469327867\n",
      "Epoch 112: Train loss = 0.290449053049, Test loss = 0.104175671935\n",
      "Epoch 113: Train loss = 0.289817154408, Test loss = 0.103983484209\n",
      "Epoch 114: Train loss = 0.288085877895, Test loss = 0.104271620512\n",
      "Epoch 115: Train loss = 0.288606464863, Test loss = 0.10544731468\n",
      "Epoch 116: Train loss = 0.289564102888, Test loss = 0.103786803782\n",
      "Epoch 117: Train loss = 0.289927273989, Test loss = 0.103691801429\n",
      "Epoch 118: Train loss = 0.289542675018, Test loss = 0.10410296917\n",
      "Epoch 119: Train loss = 0.287841618061, Test loss = 0.103569805622\n",
      "Epoch 120: Train loss = 0.288393050432, Test loss = 0.103196516633\n",
      "Epoch 121: Train loss = 0.287662774324, Test loss = 0.103025719523\n",
      "Epoch 122: Train loss = 0.287551879883, Test loss = 0.103152029216\n",
      "Epoch 123: Train loss = 0.286794573069, Test loss = 0.102987244725\n",
      "Epoch 124: Train loss = 0.286526501179, Test loss = 0.103265397251\n",
      "Epoch 125: Train loss = 0.287225425243, Test loss = 0.102571539581\n",
      "Epoch 126: Train loss = 0.285747379065, Test loss = 0.102552764118\n",
      "Epoch 127: Train loss = 0.285085380077, Test loss = 0.102398708463\n",
      "Epoch 128: Train loss = 0.28439027071, Test loss = 0.102806568146\n",
      "Epoch 129: Train loss = 0.284638524055, Test loss = 0.102158486843\n",
      "Epoch 130: Train loss = 0.283823311329, Test loss = 0.10220143199\n",
      "Epoch 131: Train loss = 0.283920675516, Test loss = 0.102316103876\n",
      "Epoch 132: Train loss = 0.282428592443, Test loss = 0.102302357554\n",
      "Epoch 133: Train loss = 0.283420622349, Test loss = 0.101723343134\n",
      "Epoch 134: Train loss = 0.284265309572, Test loss = 0.101663306355\n",
      "Epoch 135: Train loss = 0.282314062119, Test loss = 0.101616844535\n",
      "Epoch 136: Train loss = 0.282939642668, Test loss = 0.101740658283\n",
      "Epoch 137: Train loss = 0.283168405294, Test loss = 0.101355850697\n",
      "Epoch 138: Train loss = 0.282467782497, Test loss = 0.101720072329\n",
      "Epoch 139: Train loss = 0.281459748745, Test loss = 0.10255125165\n",
      "Epoch 140: Train loss = 0.280186921358, Test loss = 0.102025225759\n",
      "Epoch 141: Train loss = 0.282364249229, Test loss = 0.101345807314\n",
      "Epoch 142: Train loss = 0.280257850885, Test loss = 0.100806623697\n",
      "Epoch 143: Train loss = 0.28109267354, Test loss = 0.100670523942\n",
      "Epoch 144: Train loss = 0.279562324286, Test loss = 0.10071952641\n",
      "Epoch 145: Train loss = 0.278918474913, Test loss = 0.100612193346\n",
      "Epoch 146: Train loss = 0.278978586197, Test loss = 0.10283266753\n",
      "Epoch 147: Train loss = 0.279570490122, Test loss = 0.100150629878\n",
      "Epoch 148: Train loss = 0.277630358934, Test loss = 0.101684264839\n",
      "Epoch 149: Train loss = 0.278062283993, Test loss = 0.100361734629\n",
      "Epoch 150: Train loss = 0.277965992689, Test loss = 0.0997982770205\n",
      "Epoch 151: Train loss = 0.277247935534, Test loss = 0.100409254432\n",
      "Epoch 152: Train loss = 0.277527809143, Test loss = 0.0999855026603\n",
      "Epoch 153: Train loss = 0.277051538229, Test loss = 0.09967418015\n",
      "Epoch 154: Train loss = 0.277517735958, Test loss = 0.0993950664997\n",
      "Epoch 155: Train loss = 0.276557981968, Test loss = 0.0993109494448\n",
      "Epoch 156: Train loss = 0.276181221008, Test loss = 0.0992588847876\n",
      "Epoch 157: Train loss = 0.276145488024, Test loss = 0.099102832377\n",
      "Epoch 158: Train loss = 0.277376562357, Test loss = 0.100914679468\n",
      "Epoch 159: Train loss = 0.275201201439, Test loss = 0.0992491990328\n",
      "Epoch 160: Train loss = 0.275239437819, Test loss = 0.0989416688681\n",
      "Epoch 161: Train loss = 0.276434063911, Test loss = 0.0986198186874\n",
      "Epoch 162: Train loss = 0.275813400745, Test loss = 0.0984780937433\n",
      "Epoch 163: Train loss = 0.274033904076, Test loss = 0.0987372845411\n",
      "Epoch 164: Train loss = 0.27421694994, Test loss = 0.0983278006315\n",
      "Epoch 165: Train loss = 0.272965788841, Test loss = 0.10037226975\n",
      "Epoch 166: Train loss = 0.274062335491, Test loss = 0.0982635244727\n",
      "Epoch 167: Train loss = 0.271825611591, Test loss = 0.099481292069\n",
      "Epoch 168: Train loss = 0.273993104696, Test loss = 0.0989204272628\n",
      "Epoch 169: Train loss = 0.272692084312, Test loss = 0.0977106392384\n",
      "Epoch 170: Train loss = 0.273221760988, Test loss = 0.09794947505\n",
      "Epoch 171: Train loss = 0.270605146885, Test loss = 0.0975258722901\n",
      "Epoch 172: Train loss = 0.270504266024, Test loss = 0.0975184291601\n",
      "Epoch 173: Train loss = 0.270578801632, Test loss = 0.0978215783834\n",
      "Epoch 174: Train loss = 0.270961821079, Test loss = 0.0976207777858\n",
      "Epoch 175: Train loss = 0.269779384136, Test loss = 0.0970877557993\n",
      "Epoch 176: Train loss = 0.270510524511, Test loss = 0.097022742033\n",
      "Epoch 177: Train loss = 0.270285516977, Test loss = 0.0970146432519\n",
      "Epoch 178: Train loss = 0.270377993584, Test loss = 0.0974168330431\n",
      "Epoch 179: Train loss = 0.269639909267, Test loss = 0.0974984690547\n",
      "Epoch 180: Train loss = 0.268362820148, Test loss = 0.0966355800629\n",
      "Epoch 181: Train loss = 0.270324617624, Test loss = 0.0964514538646\n",
      "Epoch 182: Train loss = 0.269771575928, Test loss = 0.0964292287827\n",
      "Epoch 183: Train loss = 0.267866134644, Test loss = 0.0964704155922\n",
      "Epoch 184: Train loss = 0.26803329587, Test loss = 0.0963998585939\n",
      "Epoch 185: Train loss = 0.267501592636, Test loss = 0.0961013510823\n",
      "Epoch 186: Train loss = 0.268467068672, Test loss = 0.09646679461\n",
      "Epoch 187: Train loss = 0.267145037651, Test loss = 0.0959478989244\n",
      "Epoch 188: Train loss = 0.266227990389, Test loss = 0.0961853116751\n",
      "Epoch 189: Train loss = 0.266845792532, Test loss = 0.0963802263141\n",
      "Epoch 190: Train loss = 0.267653793097, Test loss = 0.0956008955836\n",
      "Epoch 191: Train loss = 0.26556801796, Test loss = 0.0955516993999\n",
      "Epoch 192: Train loss = 0.26575255394, Test loss = 0.0956787392497\n",
      "Epoch 193: Train loss = 0.264567315578, Test loss = 0.0954567492008\n",
      "Epoch 194: Train loss = 0.266817986965, Test loss = 0.0952189564705\n",
      "Epoch 195: Train loss = 0.265628576279, Test loss = 0.0950476378202\n",
      "Epoch 196: Train loss = 0.264123767614, Test loss = 0.0951781570911\n",
      "Epoch 197: Train loss = 0.264831930399, Test loss = 0.0949978008866\n",
      "Epoch 198: Train loss = 0.264409840107, Test loss = 0.0947685986757\n",
      "Epoch 199: Train loss = 0.264443159103, Test loss = 0.0947031676769\n"
     ]
    }
   ],
   "source": [
    "for epoch in range(200):\n",
    "    train = np.random.permutation(train)\n",
    "    epoch_loss = 0\n",
    "    for i in range(0, train.shape[0], 256):\n",
    "        inp = np.concatenate((train[i:i+256, :, 0:2], train[i:i+256, :, 5:6]), axis=2)\n",
    "        #out_true = np.concatenate((train[i:i+256, :, 3:5], train[i:i+256, :, 6:]), axis=2)\n",
    "        out_true = train[i:i+256, :, 4]\n",
    "        inp = Variable(torch.from_numpy(inp).type(torch.FloatTensor).cuda())\n",
    "        out_true = Variable(torch.from_numpy(out_true).type(torch.FloatTensor).cuda())\n",
    "        model.zero_grad()\n",
    "        out_pred = model(inp)\n",
    "        loss = loss_function(out_pred, out_true)\n",
    "        loss.backward()\n",
    "        optimizer.step()\n",
    "\n",
    "        #print (loss.data[0])\n",
    "        epoch_loss += loss.data[0]\n",
    "\n",
    "    test_loss = 0\n",
    "    for i in range(0, test.shape[0], 256):\n",
    "        inp = np.concatenate((test[i:i+256, :, 0:2], test[i:i+256, :, 5:6]), axis=2)\n",
    "        #out_true = np.concatenate((test[i:i+256, :, 3:5], test[i:i+256, :, 6:]), axis=2)\n",
    "        out_true = test[i:i+256, :, 4]\n",
    "        out_true = Variable(torch.from_numpy(out_true).type(torch.FloatTensor).cuda())\n",
    "        inp = Variable(torch.from_numpy(inp).type(torch.FloatTensor).cuda())\n",
    "        out_pred = model(inp)\n",
    "        loss = loss_function(out_pred, out_true)\n",
    "\n",
    "        test_loss += loss.data[0]\n",
    "    \n",
    "    print (\"Epoch \" + str(epoch) +  \": Train loss = \" + str(epoch_loss.item()) + \", Test loss = \" + str(test_loss.item()))"
   ]
  },
  {
   "cell_type": "code",
   "execution_count": 14,
   "metadata": {},
   "outputs": [
    {
     "ename": "ValueError",
     "evalue": "too many values to unpack",
     "output_type": "error",
     "traceback": [
      "\u001b[0;31m---------------------------------------------------------------------------\u001b[0m",
      "\u001b[0;31mValueError\u001b[0m                                Traceback (most recent call last)",
      "\u001b[0;32m<ipython-input-14-1f8cf6bef520>\u001b[0m in \u001b[0;36m<module>\u001b[0;34m()\u001b[0m\n\u001b[1;32m      9\u001b[0m         \u001b[0mout_true\u001b[0m \u001b[0;34m=\u001b[0m \u001b[0mVariable\u001b[0m\u001b[0;34m(\u001b[0m\u001b[0mtorch\u001b[0m\u001b[0;34m.\u001b[0m\u001b[0mfrom_numpy\u001b[0m\u001b[0;34m(\u001b[0m\u001b[0mout_true\u001b[0m\u001b[0;34m)\u001b[0m\u001b[0;34m.\u001b[0m\u001b[0mtype\u001b[0m\u001b[0;34m(\u001b[0m\u001b[0mtorch\u001b[0m\u001b[0;34m.\u001b[0m\u001b[0mFloatTensor\u001b[0m\u001b[0;34m)\u001b[0m\u001b[0;34m.\u001b[0m\u001b[0mcuda\u001b[0m\u001b[0;34m(\u001b[0m\u001b[0;34m)\u001b[0m\u001b[0;34m)\u001b[0m\u001b[0;34m\u001b[0m\u001b[0m\n\u001b[1;32m     10\u001b[0m         \u001b[0mmodel\u001b[0m\u001b[0;34m.\u001b[0m\u001b[0mzero_grad\u001b[0m\u001b[0;34m(\u001b[0m\u001b[0;34m)\u001b[0m\u001b[0;34m\u001b[0m\u001b[0m\n\u001b[0;32m---> 11\u001b[0;31m         \u001b[0mout_pred1\u001b[0m\u001b[0;34m,\u001b[0m \u001b[0mout_pred2\u001b[0m\u001b[0;34m,\u001b[0m \u001b[0mout_pred3\u001b[0m \u001b[0;34m=\u001b[0m \u001b[0mmodel\u001b[0m\u001b[0;34m(\u001b[0m\u001b[0minp\u001b[0m\u001b[0;34m)\u001b[0m\u001b[0;34m\u001b[0m\u001b[0m\n\u001b[0m\u001b[1;32m     12\u001b[0m         \u001b[0mloss\u001b[0m \u001b[0;34m=\u001b[0m \u001b[0mloss_function\u001b[0m\u001b[0;34m(\u001b[0m\u001b[0mout_pred1\u001b[0m\u001b[0;34m,\u001b[0m \u001b[0mout_true\u001b[0m\u001b[0;34m[\u001b[0m\u001b[0;34m:\u001b[0m\u001b[0;34m,\u001b[0m \u001b[0;34m:\u001b[0m\u001b[0;34m,\u001b[0m \u001b[0;36m0\u001b[0m\u001b[0;34m]\u001b[0m\u001b[0;34m)\u001b[0m \u001b[0;34m+\u001b[0m \u001b[0mloss_function\u001b[0m\u001b[0;34m(\u001b[0m\u001b[0mout_pred2\u001b[0m\u001b[0;34m,\u001b[0m \u001b[0mout_true\u001b[0m\u001b[0;34m[\u001b[0m\u001b[0;34m:\u001b[0m\u001b[0;34m,\u001b[0m \u001b[0;34m:\u001b[0m\u001b[0;34m,\u001b[0m \u001b[0;36m1\u001b[0m\u001b[0;34m]\u001b[0m\u001b[0;34m)\u001b[0m \u001b[0;34m+\u001b[0m \u001b[0mloss_function\u001b[0m\u001b[0;34m(\u001b[0m\u001b[0mout_pred3\u001b[0m\u001b[0;34m,\u001b[0m \u001b[0mout_true\u001b[0m\u001b[0;34m[\u001b[0m\u001b[0;34m:\u001b[0m\u001b[0;34m,\u001b[0m \u001b[0;34m:\u001b[0m\u001b[0;34m,\u001b[0m \u001b[0;36m2\u001b[0m\u001b[0;34m]\u001b[0m\u001b[0;34m)\u001b[0m\u001b[0;34m\u001b[0m\u001b[0m\n\u001b[1;32m     13\u001b[0m         \u001b[0mloss\u001b[0m\u001b[0;34m.\u001b[0m\u001b[0mbackward\u001b[0m\u001b[0;34m(\u001b[0m\u001b[0;34m)\u001b[0m\u001b[0;34m\u001b[0m\u001b[0m\n",
      "\u001b[0;31mValueError\u001b[0m: too many values to unpack"
     ]
    }
   ],
   "source": [
    "for epoch in range(200):\n",
    "    train = np.random.permutation(train)\n",
    "    epoch_loss = 0\n",
    "    for i in range(0, train.shape[0], 256):\n",
    "        inp = np.concatenate((train[i:i+256, :, 0:2], train[i:i+256, :, 5:6]), axis=2)\n",
    "        out_true = np.concatenate((train[i:i+256, :, 3:5], train[i:i+256, :, 6:]), axis=2)\n",
    "#         out_true = train[i:i+256, :, 0]\n",
    "        inp = Variable(torch.from_numpy(inp).type(torch.FloatTensor).cuda())\n",
    "        out_true = Variable(torch.from_numpy(out_true).type(torch.FloatTensor).cuda())\n",
    "        model.zero_grad()\n",
    "        out_pred1, out_pred2, out_pred3 = model(inp)\n",
    "        loss = loss_function(out_pred1, out_true[:, :, 0]) + loss_function(out_pred2, out_true[:, :, 1]) + loss_function(out_pred3, out_true[:, :, 2])\n",
    "        loss.backward()\n",
    "        optimizer.step()\n",
    "        \n",
    "        #print (loss.data[0])\n",
    "        epoch_loss += loss.data[0]\n",
    "    \n",
    "    test_loss = 0\n",
    "    for i in range(0, test.shape[0], 256):\n",
    "        inp = np.concatenate((test[i:i+256, :, 0:2], test[i:i+256, :, 5:6]), axis=2)\n",
    "        out_true = np.concatenate((test[i:i+256, :, 3:5], test[i:i+256, :, 6:]), axis=2)\n",
    "#         out_true = test[i:i+256, :, 0]\n",
    "        out_true = Variable(torch.from_numpy(out_true).type(torch.FloatTensor).cuda())\n",
    "        inp = Variable(torch.from_numpy(inp).type(torch.FloatTensor).cuda())\n",
    "        out_pred1, out_pred2, out_pred3 = model(inp)\n",
    "        loss = loss_function(out_pred1, out_true[:, :, 0]) + loss_function(out_pred2, out_true[:, :, 1]) + loss_function(out_pred3, out_true[:, :, 2])\n",
    "        \n",
    "        test_loss += loss.data[0]\n",
    "        \n",
    "    print (\"Epoch \" + str(epoch) +  \": Train loss = \" + str(epoch_loss.item()) + \", Test loss = \" + str(test_loss.item()))"
   ]
  },
  {
   "cell_type": "code",
   "execution_count": 43,
   "metadata": {},
   "outputs": [
    {
     "name": "stdout",
     "output_type": "stream",
     "text": [
      "(2153, (2182, 7))\n"
     ]
    },
    {
     "data": {
      "image/png": "[encoded data removed]",
      "text/plain": [
       "<Figure size 432x288 with 1 Axes>"
      ]
     },
     "metadata": {
      "needs_background": "light"
     },
     "output_type": "display_data"
    },
    {
     "data": {
      "image/png": "[encoded data removed]",
      "text/plain": [
       "<Figure size 432x288 with 1 Axes>"
      ]
     },
     "metadata": {
      "needs_background": "light"
     },
     "output_type": "display_data"
    }
   ],
   "source": [
    "pred_curr1 = []\n",
    "pred_curr2 = []\n",
    "pred_torque = []\n",
    "for i in range(0, experiment_samples['exp10'].shape[0], 1):\n",
    "    inp = np.concatenate((experiment_samples['exp10'][i:i+window, 0:2], experiment_samples['exp10'][i:i+window, 5:6]), axis=1)\n",
    "    if inp.shape[0] == window:\n",
    "        inp = np.asarray([inp])\n",
    "        inp = Variable(torch.from_numpy(inp).type(torch.FloatTensor).cuda())\n",
    "        out_pred1 = model(inp)\n",
    "#         print (out_pred.size())\n",
    "        out_pred1 = out_pred1.data.cpu().numpy()\n",
    "#         out_pred2 = out_pred2.data.cpu().numpy()\n",
    "#         out_pred3 = out_pred3.data.cpu().numpy()\n",
    "        \n",
    "        pred_curr1 += list(out_pred1[:, 0])\n",
    "#         pred_curr2 += list(out_pred2[:, 0])\n",
    "#         pred_torque += list(out_pred3[:, 0])\n",
    "    \n",
    "print (len(pred_curr1), experiment_samples['exp10'].shape)\n",
    "plt.plot(experiment_samples['exp10'][:,4])\n",
    "plt.show()\n",
    "plt.plot(pred_curr1)\n",
    "plt.show()\n",
    "# plt.plot(experiment_samples['exp10'][:,4])\n",
    "# plt.show()\n",
    "# plt.plot(pred_curr2)\n",
    "# plt.show()\n",
    "# plt.plot(experiment_samples['exp10'][:,6])\n",
    "# plt.show()\n",
    "# plt.plot(pred_torque)\n",
    "# plt.show()\n",
    "# plt.plot(correlate(pred_curr1, experiment_samples['exp10'][:,3]))\n",
    "# plt.show()\n",
    "# plt.plot(experiment_samples['exp10'][:-99,3] - np.asarray(pred_curr1))\n",
    "# plt.show()"
   ]
  },
  {
   "cell_type": "code",
   "execution_count": null,
   "metadata": {},
   "outputs": [],
   "source": []
  },
  {
   "cell_type": "code",
   "execution_count": null,
   "metadata": {},
   "outputs": [],
   "source": []
  },
  {
   "cell_type": "code",
   "execution_count": 361,
   "metadata": {},
   "outputs": [],
   "source": [
    "mrbm = ClassRBM(180, 180, 1024, 20, 0.1)\n",
    "loss_function = nn.L1Loss()"
   ]
  },
  {
   "cell_type": "code",
   "execution_count": 363,
   "metadata": {},
   "outputs": [
    {
     "name": "stderr",
     "output_type": "stream",
     "text": [
      "/usr/local/lib/python2.7/dist-packages/ipykernel_launcher.py:18: UserWarning: invalid index of a 0-dim tensor. This will be an error in PyTorch 0.5. Use tensor.item() to convert a 0-dim tensor to a Python number\n",
      "/usr/local/lib/python2.7/dist-packages/ipykernel_launcher.py:31: UserWarning: invalid index of a 0-dim tensor. This will be an error in PyTorch 0.5. Use tensor.item() to convert a 0-dim tensor to a Python number\n"
     ]
    },
    {
     "name": "stdout",
     "output_type": "stream",
     "text": [
      "Epoch 0: Train loss = 40.4509544373, Test loss = 5.70673894882\n",
      "Epoch 1: Train loss = 40.4497718811, Test loss = 5.71215677261\n",
      "Epoch 2: Train loss = 40.4439888, Test loss = 5.71632575989\n",
      "Epoch 3: Train loss = 40.4473152161, Test loss = 5.72128391266\n",
      "Epoch 4: Train loss = 40.4362831116, Test loss = 5.79057693481\n",
      "Epoch 5: Train loss = 40.4385375977, Test loss = 5.77456045151\n",
      "Epoch 6: Train loss = 40.4438438416, Test loss = 5.7316327095\n",
      "Epoch 7: Train loss = 40.4475326538, Test loss = 5.70303583145\n",
      "Epoch 8: Train loss = 40.4408035278, Test loss = 5.70522069931\n",
      "Epoch 9: Train loss = 40.441532135, Test loss = 5.73900651932\n"
     ]
    }
   ],
   "source": [
    "for epoch in range(10):\n",
    "    train = np.random.permutation(train)\n",
    "    epoch_loss = 0\n",
    "    for i in range(0, train.shape[0], 256):\n",
    "        inp = np.concatenate((train[i:i+256, :, 0:2], train[i:i+256, :, 5:6]), axis=2)\n",
    "        out = np.concatenate((train[i:i+256, :, 3:5], train[i:i+256, :, 6:]), axis=2)\n",
    "        inp = Variable(torch.from_numpy(inp).type(torch.FloatTensor).cuda())\n",
    "        out = Variable(torch.from_numpy(out).type(torch.FloatTensor).cuda())\n",
    "        \n",
    "        inp = inp.view(inp.size()[0], inp.size()[1] * inp.size()[2])\n",
    "        out = out.view(out.size()[0], out.size()[1] * out.size()[2])\n",
    "        \n",
    "        inp_loss, out_loss = mrbm.contrastive_divergence(inp, out)\n",
    "        \n",
    "        loss = loss_function(out, inp)\n",
    "        \n",
    "        #print (loss.data[0])\n",
    "        epoch_loss += loss.data[0]\n",
    "    \n",
    "    test_loss = 0\n",
    "    for i in range(0, test.shape[0], 256):\n",
    "        inp = np.concatenate((test[i:i+256, :, 0:2], test[i:i+256, :, 5:6]), axis=2)\n",
    "        out = np.concatenate((test[i:i+256, :, 3:5], test[i:i+256, :, 6:]), axis=2)\n",
    "        inp = Variable(torch.from_numpy(inp).type(torch.FloatTensor).cuda())\n",
    "        \n",
    "        inp = inp.view(inp.size()[0], inp.size()[1] * inp.size()[2])\n",
    "\n",
    "        out = mrbm.predict(inp)\n",
    "        loss = loss_function(out, inp)\n",
    "        \n",
    "        test_loss += loss.data[0]\n",
    "        \n",
    "    print (\"Epoch \" + str(epoch) +  \": Train loss = \" + str(epoch_loss.item()) + \", Test loss = \" + str(test_loss.item()))"
   ]
  },
  {
   "cell_type": "code",
   "execution_count": null,
   "metadata": {},
   "outputs": [],
   "source": []
  },
  {
   "cell_type": "code",
   "execution_count": null,
   "metadata": {},
   "outputs": [],
   "source": []
  }
 ],
 "metadata": {
  "kernelspec": {
   "display_name": "Python 2",
   "language": "python",
   "name": "python2"
  },
  "language_info": {
   "codemirror_mode": {
    "name": "ipython",
    "version": 2
   },
   "file_extension": ".py",
   "mimetype": "text/x-python",
   "name": "python",
   "nbconvert_exporter": "python",
   "pygments_lexer": "ipython2",
   "version": "2.7.12"
  }
 },
 "nbformat": 4,
 "nbformat_minor": 2
}
