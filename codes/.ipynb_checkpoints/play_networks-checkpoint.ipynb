{
 "cells": [
  {
   "cell_type": "code",
   "execution_count": 34,
   "metadata": {},
   "outputs": [],
   "source": [
    "import torch\n",
    "import torch.autograd as autograd\n",
    "import torch.nn as nn\n",
    "import torch.nn.functional as F\n",
    "import torch.optim as optim\n",
    "from torch.autograd import Variable\n",
    "\n",
    "import scipy.io as sio\n",
    "from scipy.signal import resample\n",
    "import os\n",
    "\n",
    "import numpy as np\n",
    "import random\n",
    "\n",
    "from multilabel_rbm import RBM as MRBM\n",
    "from rbm import RBM \n",
    "from class_rbm import ClassRBM\n",
    "\n",
    "from sklearn import preprocessing"
   ]
  },
  {
   "cell_type": "code",
   "execution_count": 35,
   "metadata": {},
   "outputs": [],
   "source": [
    "experiments = os.listdir('../datasets/sample_experiments/')"
   ]
  },
  {
   "cell_type": "code",
   "execution_count": null,
   "metadata": {},
   "outputs": [],
   "source": []
  },
  {
   "cell_type": "code",
   "execution_count": null,
   "metadata": {},
   "outputs": [],
   "source": []
  },
  {
   "cell_type": "code",
   "execution_count": 16,
   "metadata": {},
   "outputs": [
    {
     "name": "stdout",
     "output_type": "stream",
     "text": [
      "((3492633, 7), (17464, 7))\n",
      "((1090600, 7), (5453, 7))\n",
      "((3835275, 7), (19177, 7))\n",
      "((2817307, 7), (14087, 7))\n",
      "((1637459, 7), (8188, 7))\n",
      "((2209425, 7), (11048, 7))\n",
      "((2488471, 7), (12443, 7))\n",
      "((3458049, 7), (17291, 7))\n",
      "((13729174, 7), (68646, 7))\n",
      "((3867079, 7), (19336, 7))\n",
      "((1636972, 7), (8185, 7))\n",
      "((1967146, 7), (9836, 7))\n",
      "((3410960, 7), (17055, 7))\n",
      "((3759685, 7), (18799, 7))\n",
      "((1305561, 7), (6528, 7))\n",
      "((2338492, 7), (11693, 7))\n",
      "((3691522, 7), (18458, 7))\n",
      "((3900352, 7), (19502, 7))\n"
     ]
    }
   ],
   "source": [
    "experiment_samples = {}\n",
    "\n",
    "for experiment in experiments:\n",
    "    data = sio.loadmat('../datasets/sample_experiments/' + experiment)\n",
    "    data = data['Data_dq'][0][0][1][0][0][0]\n",
    "    downsample_data = []\n",
    "    for i in range(0,data.shape[0],200):\n",
    "        downsample_data.append(data[i])\n",
    "    downsample_data = np.asarray(downsample_data)\n",
    "    print(data.shape, downsample_data.shape)\n",
    "    experiment_samples[experiment[:-4]] = preprocessing.scale(downsample_data, axis=1)"
   ]
  },
  {
   "cell_type": "code",
   "execution_count": 17,
   "metadata": {},
   "outputs": [
    {
     "name": "stdout",
     "output_type": "stream",
     "text": [
      "18\n"
     ]
    }
   ],
   "source": [
    "print len(experiment_samples.keys())"
   ]
  },
  {
   "cell_type": "code",
   "execution_count": 18,
   "metadata": {},
   "outputs": [],
   "source": [
    "train = []\n",
    "test = []\n",
    "\n",
    "stride = 10\n",
    "window = 60\n",
    "for exp in experiment_samples.keys()[:14]:\n",
    "    experiment_sample = experiment_samples[exp]\n",
    "    \n",
    "    samples = []\n",
    "    for i in range(0, experiment_sample.shape[0], stride):\n",
    "        if experiment_sample[i:i+window,:].shape[0] == window:\n",
    "            samples.append(experiment_sample[i:i+window,:])\n",
    "        \n",
    "    random.shuffle(samples)\n",
    "    train += samples\n",
    "    \n",
    "for exp in experiment_samples.keys()[14:]:\n",
    "    experiment_sample = experiment_samples[exp]\n",
    "    \n",
    "    samples = []\n",
    "    for i in range(0, experiment_sample.shape[0], stride):\n",
    "        if experiment_sample[i:i+window,:].shape[0] == window:\n",
    "            samples.append(experiment_sample[i:i+window,:])\n",
    "        \n",
    "    random.shuffle(samples)\n",
    "    test += samples\n",
    "    \n",
    "train = np.asarray(train)\n",
    "test = np.asarray(test)"
   ]
  },
  {
   "cell_type": "code",
   "execution_count": 19,
   "metadata": {},
   "outputs": [
    {
     "name": "stdout",
     "output_type": "stream",
     "text": [
      "(25417, 60, 7) (4802, 60, 7)\n",
      "2.438611428668291 1.5102802766209011 1.4090339014985362 1.053519799774938 0.0 1.8102547386212884\n",
      "-1.0487468792378505 -0.7994930634492071 -1.933521546821148 -1.3039552374145893 -1.9871619510007181 -2.0135376570303425\n"
     ]
    }
   ],
   "source": [
    "print train.shape, test.shape\n",
    "print train[:,:,0].max(), train[:,:,1].max(), train[:,:,5].max(), train[:,:,3].max(), train[:,:,4].max(), train[:,:,6].max()\n",
    "print train[:,:,0].min(), train[:,:,1].min(), train[:,:,5].min(), train[:,:,3].min(), train[:,:,4].min(), train[:,:,6].min()"
   ]
  },
  {
   "cell_type": "code",
   "execution_count": null,
   "metadata": {},
   "outputs": [],
   "source": []
  },
  {
   "cell_type": "code",
   "execution_count": 20,
   "metadata": {},
   "outputs": [],
   "source": [
    "class FFNet(nn.Module):\n",
    "    def __init__(self, input_dim):\n",
    "        super(FFNet, self).__init__()\n",
    "        self.linear1 = nn.Linear(input_dim, 256)\n",
    "        self.linear2 = nn.Linear(256, 512)\n",
    "        self.linear3 = nn.Linear(512, 256)\n",
    "        self.linear4 = nn.Linear(256, input_dim)\n",
    "\n",
    "    def forward(self, seq):\n",
    "        x = seq.view(seq.size()[0], -1)\n",
    "        out = self.linear1(x)\n",
    "        out = self.linear2(out)\n",
    "        out = self.linear3(out)\n",
    "        out = self.linear4(out)\n",
    "        base_out = out.view(seq.size()[0], seq.size()[1], seq.size()[2])\n",
    "        return base_out"
   ]
  },
  {
   "cell_type": "code",
   "execution_count": null,
   "metadata": {},
   "outputs": [],
   "source": []
  },
  {
   "cell_type": "code",
   "execution_count": 27,
   "metadata": {},
   "outputs": [],
   "source": [
    "class LSTMNet(nn.Module):\n",
    "\n",
    "    def __init__(self, hidden_dim, layer1_dim):\n",
    "        super(LSTMNet, self).__init__()\n",
    "        self.hidden_dim = hidden_dim\n",
    "\n",
    "        self.lstm = nn.LSTM(3, hidden_dim, batch_first=True) \n",
    "        self.linear1 = nn.Linear(hidden_dim, layer1_dim)\n",
    "        self.linear2 = nn.Linear(layer1_dim, 3)\n",
    "\n",
    "    def forward(self, seq):\n",
    "        lstm_out = self.lstm(seq)[0]\n",
    "        tmp1 = self.linear1(lstm_out)\n",
    "        _out = self.linear2(tmp1)\n",
    "        base_out = _out\n",
    "        return base_out"
   ]
  },
  {
   "cell_type": "code",
   "execution_count": 36,
   "metadata": {},
   "outputs": [],
   "source": [
    "#model = LSTMNet(32,16).cuda()\n",
    "model = FFNet(60*3).cuda()"
   ]
  },
  {
   "cell_type": "code",
   "execution_count": 29,
   "metadata": {},
   "outputs": [],
   "source": [
    "loss_function = nn.MSELoss()\n",
    "lr = 0.00001\n",
    "optimizer = optim.SGD(model.parameters(), lr=lr)"
   ]
  },
  {
   "cell_type": "code",
   "execution_count": 39,
   "metadata": {},
   "outputs": [
    {
     "name": "stderr",
     "output_type": "stream",
     "text": [
      "/home/sv/anaconda2/lib/python2.7/site-packages/ipykernel_launcher.py:16: UserWarning: invalid index of a 0-dim tensor. This will be an error in PyTorch 0.5. Use tensor.item() to convert a 0-dim tensor to a Python number\n",
      "  app.launch_new_instance()\n",
      "/home/sv/anaconda2/lib/python2.7/site-packages/ipykernel_launcher.py:27: UserWarning: invalid index of a 0-dim tensor. This will be an error in PyTorch 0.5. Use tensor.item() to convert a 0-dim tensor to a Python number\n"
     ]
    },
    {
     "name": "stdout",
     "output_type": "stream",
     "text": [
      "Epoch 0: Train loss = 0.00242554577225, Test loss = 0.00263700302518\n",
      "Epoch 1: Train loss = 0.00242522819349, Test loss = 0.00263700302518\n",
      "Epoch 2: Train loss = 0.00242580241671, Test loss = 0.00263700302518\n",
      "Epoch 3: Train loss = 0.00242534811099, Test loss = 0.00263700302518\n",
      "Epoch 4: Train loss = 0.0024250685036, Test loss = 0.00263700302518\n",
      "Epoch 5: Train loss = 0.00242531719359, Test loss = 0.00263700302518\n",
      "Epoch 6: Train loss = 0.00242547313136, Test loss = 0.00263700302518\n",
      "Epoch 7: Train loss = 0.00242573352794, Test loss = 0.00263700302518\n",
      "Epoch 8: Train loss = 0.0024246478168, Test loss = 0.00263700302518\n",
      "Epoch 9: Train loss = 0.0024260075822, Test loss = 0.00263700302518\n",
      "Epoch 10: Train loss = 0.00242532829984, Test loss = 0.00263700302518\n",
      "Epoch 11: Train loss = 0.00242587430718, Test loss = 0.00263700302518\n",
      "Epoch 12: Train loss = 0.0024251690602, Test loss = 0.00263700302518\n",
      "Epoch 13: Train loss = 0.00242477553869, Test loss = 0.00263700302518\n",
      "Epoch 14: Train loss = 0.0024256062563, Test loss = 0.00263700302518\n",
      "Epoch 15: Train loss = 0.00242582132736, Test loss = 0.00263700302518\n",
      "Epoch 16: Train loss = 0.00242586890414, Test loss = 0.00263700302518\n",
      "Epoch 17: Train loss = 0.00242531374164, Test loss = 0.00263700302518\n",
      "Epoch 18: Train loss = 0.00242530578717, Test loss = 0.00263700302518\n",
      "Epoch 19: Train loss = 0.00242575829188, Test loss = 0.00263700302518\n",
      "Epoch 20: Train loss = 0.00242589802053, Test loss = 0.00263700302518\n",
      "Epoch 21: Train loss = 0.00242470364823, Test loss = 0.00263700302518\n",
      "Epoch 22: Train loss = 0.00242600938321, Test loss = 0.00263700302518\n",
      "Epoch 23: Train loss = 0.00242497680198, Test loss = 0.00263700302518\n",
      "Epoch 24: Train loss = 0.00242620074093, Test loss = 0.00263700302518\n",
      "Epoch 25: Train loss = 0.00242564377742, Test loss = 0.00263700302518\n",
      "Epoch 26: Train loss = 0.00242513258967, Test loss = 0.00263700302518\n",
      "Epoch 27: Train loss = 0.00242531749375, Test loss = 0.00263700302518\n",
      "Epoch 28: Train loss = 0.00242540859504, Test loss = 0.00263700302518\n",
      "Epoch 29: Train loss = 0.00242613665485, Test loss = 0.00263700302518\n",
      "Epoch 30: Train loss = 0.00242574328343, Test loss = 0.00263700302518\n",
      "Epoch 31: Train loss = 0.0024262996466, Test loss = 0.00263700302518\n",
      "Epoch 32: Train loss = 0.00242533280237, Test loss = 0.00263700302518\n",
      "Epoch 33: Train loss = 0.00242598597004, Test loss = 0.00263700302518\n",
      "Epoch 34: Train loss = 0.00242505064355, Test loss = 0.00263700302518\n",
      "Epoch 35: Train loss = 0.00242506129955, Test loss = 0.00263700302518\n",
      "Epoch 36: Train loss = 0.00242605185712, Test loss = 0.00263700302518\n",
      "Epoch 37: Train loss = 0.00242556228154, Test loss = 0.00263700302518\n",
      "Epoch 38: Train loss = 0.00242560565596, Test loss = 0.00263700302518\n",
      "Epoch 39: Train loss = 0.00242601193465, Test loss = 0.00263700302518\n",
      "Epoch 40: Train loss = 0.00242558464413, Test loss = 0.00263700302518\n",
      "Epoch 41: Train loss = 0.00242610483694, Test loss = 0.00263700302518\n",
      "Epoch 42: Train loss = 0.00242574868647, Test loss = 0.00263700302518\n",
      "Epoch 43: Train loss = 0.00242610753847, Test loss = 0.00263700302518\n",
      "Epoch 44: Train loss = 0.00242642181537, Test loss = 0.00263700302518\n",
      "Epoch 45: Train loss = 0.0024256332715, Test loss = 0.00263700302518\n",
      "Epoch 46: Train loss = 0.00242684250217, Test loss = 0.00263700302518\n",
      "Epoch 47: Train loss = 0.00242592623641, Test loss = 0.00263700302518\n",
      "Epoch 48: Train loss = 0.00242494318306, Test loss = 0.00263700302518\n",
      "Epoch 49: Train loss = 0.00242665204496, Test loss = 0.00263700302518\n",
      "Epoch 50: Train loss = 0.00242489230442, Test loss = 0.00263700302518\n",
      "Epoch 51: Train loss = 0.0024255394687, Test loss = 0.00263700302518\n",
      "Epoch 52: Train loss = 0.00242582793108, Test loss = 0.00263700302518\n",
      "Epoch 53: Train loss = 0.00242532034536, Test loss = 0.00263700302518\n",
      "Epoch 54: Train loss = 0.00242582943192, Test loss = 0.00263700302518\n",
      "Epoch 55: Train loss = 0.0024254930926, Test loss = 0.00263700302518\n",
      "Epoch 56: Train loss = 0.00242589862087, Test loss = 0.00263700302518\n",
      "Epoch 57: Train loss = 0.00242594964959, Test loss = 0.00263700302518\n",
      "Epoch 58: Train loss = 0.00242560355478, Test loss = 0.00263700302518\n",
      "Epoch 59: Train loss = 0.0024247977512, Test loss = 0.00263700302518\n",
      "Epoch 60: Train loss = 0.00242585929873, Test loss = 0.00263700302518\n",
      "Epoch 61: Train loss = 0.00242568505065, Test loss = 0.00263700302518\n",
      "Epoch 62: Train loss = 0.00242573052625, Test loss = 0.00263700302518\n",
      "Epoch 63: Train loss = 0.00242523944982, Test loss = 0.00263700302518\n",
      "Epoch 64: Train loss = 0.00242653542932, Test loss = 0.00263700302518\n",
      "Epoch 65: Train loss = 0.00242397378739, Test loss = 0.00263700302518\n",
      "Epoch 66: Train loss = 0.00242484667874, Test loss = 0.00263700302518\n",
      "Epoch 67: Train loss = 0.00242453630403, Test loss = 0.00263700302518\n",
      "Epoch 68: Train loss = 0.00242530488666, Test loss = 0.00263700302518\n",
      "Epoch 69: Train loss = 0.00242571596805, Test loss = 0.00263700302518\n",
      "Epoch 70: Train loss = 0.00242487924707, Test loss = 0.00263700302518\n",
      "Epoch 71: Train loss = 0.00242547598297, Test loss = 0.00263700302518\n",
      "Epoch 72: Train loss = 0.00242581427339, Test loss = 0.00263700302518\n",
      "Epoch 73: Train loss = 0.00242619818949, Test loss = 0.00263700302518\n",
      "Epoch 74: Train loss = 0.00242595985534, Test loss = 0.00263700302518\n",
      "Epoch 75: Train loss = 0.00242607181836, Test loss = 0.00263700302518\n",
      "Epoch 76: Train loss = 0.00242570321087, Test loss = 0.00263700302518\n",
      "Epoch 77: Train loss = 0.00242551965755, Test loss = 0.00263700302518\n",
      "Epoch 78: Train loss = 0.00242561571162, Test loss = 0.00263700302518\n",
      "Epoch 79: Train loss = 0.00242452249626, Test loss = 0.00263700302518\n",
      "Epoch 80: Train loss = 0.00242449833266, Test loss = 0.00263700302518\n",
      "Epoch 81: Train loss = 0.00242568535082, Test loss = 0.00263700302518\n",
      "Epoch 82: Train loss = 0.00242539178557, Test loss = 0.00263700302518\n",
      "Epoch 83: Train loss = 0.00242613725519, Test loss = 0.00263700302518\n",
      "Epoch 84: Train loss = 0.00242538293059, Test loss = 0.00263700302518\n",
      "Epoch 85: Train loss = 0.00242582628015, Test loss = 0.00263700302518\n",
      "Epoch 86: Train loss = 0.0024254166996, Test loss = 0.00263700302518\n",
      "Epoch 87: Train loss = 0.00242578830877, Test loss = 0.00263700302518\n",
      "Epoch 88: Train loss = 0.0024253586169, Test loss = 0.00263700302518\n",
      "Epoch 89: Train loss = 0.00242376532005, Test loss = 0.00263700302518\n",
      "Epoch 90: Train loss = 0.00242484983051, Test loss = 0.00263700302518\n",
      "Epoch 91: Train loss = 0.00242579086021, Test loss = 0.00263700302518\n",
      "Epoch 92: Train loss = 0.0024252976826, Test loss = 0.00263700302518\n",
      "Epoch 93: Train loss = 0.00242447146753, Test loss = 0.00263700302518\n",
      "Epoch 94: Train loss = 0.00242503968738, Test loss = 0.00263700302518\n",
      "Epoch 95: Train loss = 0.00242478754545, Test loss = 0.00263700302518\n",
      "Epoch 96: Train loss = 0.00242511427937, Test loss = 0.00263700302518\n",
      "Epoch 97: Train loss = 0.00242616276955, Test loss = 0.00263700302518\n",
      "Epoch 98: Train loss = 0.00242606671549, Test loss = 0.00263700302518\n",
      "Epoch 99: Train loss = 0.00242501717471, Test loss = 0.00263700302518\n"
     ]
    }
   ],
   "source": [
    "for epoch in range(100):\n",
    "    train = np.random.permutation(train)\n",
    "    epoch_loss = 0\n",
    "    for i in range(0, train.shape[0], 256):\n",
    "        inp = np.concatenate((train[i:i+256, :, 0:2], train[i:i+256, :, 5:6]), axis=2)\n",
    "        out_true = np.concatenate((train[i:i+256, :, 3:5], train[i:i+256, :, 6:]), axis=2)\n",
    "        inp = Variable(torch.from_numpy(inp).type(torch.FloatTensor).cuda())\n",
    "        out_true = Variable(torch.from_numpy(out_true).type(torch.FloatTensor).cuda())\n",
    "        model.zero_grad()\n",
    "        out_pred = model(inp)\n",
    "        loss = loss_function(out_pred, out_true)\n",
    "        loss.backward()\n",
    "        optimizer.step()\n",
    "        \n",
    "        #print (loss.data[0])\n",
    "        epoch_loss += loss.data[0]\n",
    "    \n",
    "    test_loss = 0\n",
    "    for i in range(0, test.shape[0], 256):\n",
    "        inp = np.concatenate((test[i:i+256, :, 0:2], test[i:i+256, :, 5:6]), axis=2)\n",
    "        out_true = np.concatenate((test[i:i+256, :, 3:5], test[i:i+256, :, 6:]), axis=2)\n",
    "        out_true = Variable(torch.from_numpy(out_true).type(torch.FloatTensor).cuda())\n",
    "        inp = Variable(torch.from_numpy(inp).type(torch.FloatTensor).cuda())\n",
    "        out_pred = model(inp)\n",
    "        loss = loss_function(out_pred, out_true)\n",
    "        \n",
    "        test_loss += loss.data[0]\n",
    "        \n",
    "    print (\"Epoch \" + str(epoch) +  \": Train loss = \" + str(epoch_loss.item()/train.shape[0]) + \", Test loss = \" + str(test_loss.item()/test.shape[0]))"
   ]
  },
  {
   "cell_type": "code",
   "execution_count": 24,
   "metadata": {},
   "outputs": [],
   "source": [
    "mrbm = ClassRBM(180, 180, 512, 2, 0.0001)\n",
    "loss_function = nn.MSELoss()"
   ]
  },
  {
   "cell_type": "code",
   "execution_count": 25,
   "metadata": {},
   "outputs": [
    {
     "name": "stderr",
     "output_type": "stream",
     "text": [
      "/home/sv/anaconda2/lib/python2.7/site-packages/ipykernel_launcher.py:18: UserWarning: invalid index of a 0-dim tensor. This will be an error in PyTorch 0.5. Use tensor.item() to convert a 0-dim tensor to a Python number\n",
      "/home/sv/anaconda2/lib/python2.7/site-packages/ipykernel_launcher.py:31: UserWarning: invalid index of a 0-dim tensor. This will be an error in PyTorch 0.5. Use tensor.item() to convert a 0-dim tensor to a Python number\n"
     ]
    },
    {
     "name": "stdout",
     "output_type": "stream",
     "text": [
      "Epoch 0: Train loss = 0.00712146542161, Test loss = 0.00432044573001\n",
      "Epoch 1: Train loss = 0.00712249920352, Test loss = 0.00444526267221\n",
      "Epoch 2: Train loss = 0.0071213639645, Test loss = 0.00449704945162\n",
      "Epoch 3: Train loss = 0.00712857222198, Test loss = 0.00450827071489\n",
      "Epoch 4: Train loss = 0.00711900463645, Test loss = 0.00451458776459\n",
      "Epoch 5: Train loss = 0.0071215506696, Test loss = 0.00451990585931\n",
      "Epoch 6: Train loss = 0.00711963198959, Test loss = 0.0045235144104\n",
      "Epoch 7: Train loss = 0.00712493957719, Test loss = 0.00452553575509\n",
      "Epoch 8: Train loss = 0.00712517851168, Test loss = 0.00452650770055\n",
      "Epoch 9: Train loss = 0.00712629514023, Test loss = 0.00452692356769\n"
     ]
    }
   ],
   "source": [
    "for epoch in range(10):\n",
    "    train = np.random.permutation(train)\n",
    "    epoch_loss = 0\n",
    "    for i in range(0, train.shape[0], 256):\n",
    "        inp = np.concatenate((train[i:i+256, :, 0:2], train[i:i+256, :, 5:6]), axis=2)\n",
    "        out = np.concatenate((train[i:i+256, :, 3:5], train[i:i+256, :, 6:]), axis=2)\n",
    "        inp = Variable(torch.from_numpy(inp).type(torch.FloatTensor).cuda())\n",
    "        out = Variable(torch.from_numpy(out).type(torch.FloatTensor).cuda())\n",
    "        \n",
    "        inp = inp.view(inp.size()[0], inp.size()[1] * inp.size()[2])\n",
    "        out = out.view(out.size()[0], out.size()[1] * out.size()[2])\n",
    "        \n",
    "        inp_loss, out_loss = mrbm.contrastive_divergence(inp, out)\n",
    "        \n",
    "        loss = loss_function(out, inp)\n",
    "        \n",
    "        #print (loss.data[0])\n",
    "        epoch_loss += loss.data[0]\n",
    "    \n",
    "    test_loss = 0\n",
    "    for i in range(0, test.shape[0], 256):\n",
    "        inp = np.concatenate((test[i:i+256, :, 0:2], test[i:i+256, :, 5:6]), axis=2)\n",
    "        out = np.concatenate((test[i:i+256, :, 3:5], test[i:i+256, :, 6:]), axis=2)\n",
    "        inp = Variable(torch.from_numpy(inp).type(torch.FloatTensor).cuda())\n",
    "        \n",
    "        inp = inp.view(inp.size()[0], inp.size()[1] * inp.size()[2])\n",
    "\n",
    "        out = mrbm.predict(inp)\n",
    "        loss = loss_function(out, inp)\n",
    "        \n",
    "        test_loss += loss.data[0]\n",
    "        \n",
    "    print (\"Epoch \" + str(epoch) +  \": Train loss = \" + str(epoch_loss.item()/train.shape[0]) + \", Test loss = \" + str(test_loss.item()/test.shape[0]))"
   ]
  },
  {
   "cell_type": "code",
   "execution_count": null,
   "metadata": {},
   "outputs": [],
   "source": []
  }
 ],
 "metadata": {
  "kernelspec": {
   "display_name": "Python 2",
   "language": "python",
   "name": "python2"
  },
  "language_info": {
   "codemirror_mode": {
    "name": "ipython",
    "version": 2
   },
   "file_extension": ".py",
   "mimetype": "text/x-python",
   "name": "python",
   "nbconvert_exporter": "python",
   "pygments_lexer": "ipython2",
   "version": "2.7.15"
  }
 },
 "nbformat": 4,
 "nbformat_minor": 2
}
