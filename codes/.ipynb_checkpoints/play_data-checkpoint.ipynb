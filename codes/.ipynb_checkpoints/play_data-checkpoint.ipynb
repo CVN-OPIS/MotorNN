{
 "cells": [
  {
   "cell_type": "code",
   "execution_count": 1,
   "metadata": {},
   "outputs": [
    {
     "ename": "ImportError",
     "evalue": "No module named plotly",
     "output_type": "error",
     "traceback": [
      "\u001b[0;31m---------------------------------------------------------------------------\u001b[0m",
      "\u001b[0;31mImportError\u001b[0m                               Traceback (most recent call last)",
      "\u001b[0;32m<ipython-input-1-b8838bae2627>\u001b[0m in \u001b[0;36m<module>\u001b[0;34m()\u001b[0m\n\u001b[1;32m      2\u001b[0m \u001b[0;32mimport\u001b[0m \u001b[0mos\u001b[0m\u001b[0;34m\u001b[0m\u001b[0m\n\u001b[1;32m      3\u001b[0m \u001b[0;34m\u001b[0m\u001b[0m\n\u001b[0;32m----> 4\u001b[0;31m \u001b[0;32mimport\u001b[0m \u001b[0mplotly\u001b[0m\u001b[0;34m\u001b[0m\u001b[0m\n\u001b[0m\u001b[1;32m      5\u001b[0m \u001b[0;32mimport\u001b[0m  \u001b[0mplotly\u001b[0m\u001b[0;34m.\u001b[0m\u001b[0mplotly\u001b[0m  \u001b[0;32mas\u001b[0m \u001b[0mpy\u001b[0m\u001b[0;34m\u001b[0m\u001b[0m\n\u001b[1;32m      6\u001b[0m \u001b[0;32mimport\u001b[0m \u001b[0mplotly\u001b[0m\u001b[0;34m.\u001b[0m\u001b[0mfigure_factory\u001b[0m \u001b[0;32mas\u001b[0m \u001b[0mff\u001b[0m\u001b[0;34m\u001b[0m\u001b[0m\n",
      "\u001b[0;31mImportError\u001b[0m: No module named plotly"
     ]
    }
   ],
   "source": [
    "import scipy.io as sio\n",
    "import os\n",
    "\n",
    "import plotly\n",
    "import  plotly.plotly  as py\n",
    "import plotly.figure_factory as ff\n",
    "from plotly.offline import iplot, init_notebook_mode\n",
    "import plotly.io as pio\n",
    "import numpy as np\n",
    "\n",
    "import plotly.graph_objs as go\n"
   ]
  },
  {
   "cell_type": "code",
   "execution_count": 6,
   "metadata": {},
   "outputs": [],
   "source": [
    "#plotly.tools.set_credentials_file(username='versag', api_key='suPchLuFTri7xeKqxzlW')\n",
    "init_notebook_mode(connected=True)\n",
    "np.set_printoptions(2)"
   ]
  },
  {
   "cell_type": "code",
   "execution_count": 7,
   "metadata": {},
   "outputs": [],
   "source": [
    "data = os.listdir('../datasets/')"
   ]
  },
  {
   "cell_type": "code",
   "execution_count": null,
   "metadata": {},
   "outputs": [],
   "source": []
  },
  {
   "cell_type": "code",
   "execution_count": 8,
   "metadata": {},
   "outputs": [],
   "source": [
    "lm10hz = sio.loadmat('../datasets/nicolas/OFVC4kW_LM10Hz_paliers_0to120PercTnom_Data.mat')\n",
    "lm30hz = sio.loadmat('../datasets/nicolas/OFVC4kW_LM30Hz_paliers_0to120PercTnom_Data.mat')\n",
    "lm50hz = sio.loadmat('../datasets/nicolas/OFVC4kW_LM50Hz_paliers_0to120PercTnom_Data.mat')\n",
    "lm68hz = sio.loadmat('../datasets/nicolas/OFVC4kW_LM68Hz_paliers_0to120PercTnom_Data.mat')\n",
    "nolm = sio.loadmat('../datasets/nicolas/OFVC4kW_NoLM_paliers_0to100Hz_Data.mat')\n",
    "\n",
    "data_map = {'lm10hz': lm10hz, 'lm30hz': lm30hz, 'lm50hz': lm50hz, 'lm68hz': lm68hz, 'nolm': nolm}"
   ]
  },
  {
   "cell_type": "code",
   "execution_count": 34,
   "metadata": {},
   "outputs": [
    {
     "name": "stdout",
     "output_type": "stream",
     "text": [
      "Features in each dataset\n"
     ]
    },
    {
     "data": {
      "text/html": [
       "<iframe id=\"igraph\" scrolling=\"no\" style=\"border:none;\" seamless=\"seamless\" src=\"https://plot.ly/~versag/18.embed\" height=\"230px\" width=\"100%\"></iframe>"
      ],
      "text/plain": [
       "<plotly.tools.PlotlyDisplay object>"
      ]
     },
     "execution_count": 34,
     "metadata": {},
     "output_type": "execute_result"
    }
   ],
   "source": [
    "print_stmt = [['rate','aa', 'VdRef_V', 'VariableSpd', 'IdMeas_A', 'bb', 'VariableQ', \\\n",
    "        'Time_VSpdTq', 'VariableTq', 'Speed_Hz', 'IqMeas_A', 'VqRef_V', \\\n",
    "        'Time', 'Torque_PercTnom', 'VariableD', 'Time_I']]\n",
    "for k in data_map.keys():\n",
    "    this_row = [k]\n",
    "    for dk in data_map[k].keys():\n",
    "        if '__' not in dk:\n",
    "            this_row.append(dk)\n",
    "    print_stmt.append(this_row)\n",
    "\n",
    "print \"Features in each dataset\"\n",
    "table = ff.create_table(print_stmt)\n",
    "py.iplot(table, filename='features-in-each-dataset')\n",
    "#pio.write_image(table, '../docs/images/dimension_of_features_in_dataset.svg')"
   ]
  },
  {
   "cell_type": "code",
   "execution_count": 35,
   "metadata": {},
   "outputs": [
    {
     "name": "stdout",
     "output_type": "stream",
     "text": [
      "Dimension of each feature in the dataset\n"
     ]
    },
    {
     "data": {
      "text/html": [
       "<iframe id=\"igraph\" scrolling=\"no\" style=\"border:none;\" seamless=\"seamless\" src=\"https://plot.ly/~versag/20.embed\" height=\"230px\" width=\"100%\"></iframe>"
      ],
      "text/plain": [
       "<plotly.tools.PlotlyDisplay object>"
      ]
     },
     "execution_count": 35,
     "metadata": {},
     "output_type": "execute_result"
    }
   ],
   "source": [
    "print_stmt = [['rate','aa', 'VdRef_V', 'VariableSpd', 'IdMeas_A', 'bb', 'VariableQ', \\\n",
    "        'Time_VSpdTq', 'VariableTq', 'Speed_Hz', 'IqMeas_A', 'VqRef_V', \\\n",
    "        'Time', 'Torque_PercTnom', 'VariableD', 'Time_I']]\n",
    "\n",
    "for k in data_map.keys():\n",
    "    this_row = [k]\n",
    "    for dk in print_stmt[0][1:]:\n",
    "        this_row.append(data_map[k][dk].shape)\n",
    "    print_stmt.append(this_row)\n",
    "\n",
    "print \"Dimension of each feature in the dataset\"\n",
    "table = ff.create_table(print_stmt)\n",
    "py.iplot(table, filename='feat-dimensions')"
   ]
  },
  {
   "cell_type": "code",
   "execution_count": 36,
   "metadata": {},
   "outputs": [
    {
     "name": "stdout",
     "output_type": "stream",
     "text": [
      "Maxiumum value of each feature in the dataset\n"
     ]
    },
    {
     "data": {
      "text/html": [
       "<iframe id=\"igraph\" scrolling=\"no\" style=\"border:none;\" seamless=\"seamless\" src=\"https://plot.ly/~versag/22.embed\" height=\"230px\" width=\"100%\"></iframe>"
      ],
      "text/plain": [
       "<plotly.tools.PlotlyDisplay object>"
      ]
     },
     "execution_count": 36,
     "metadata": {},
     "output_type": "execute_result"
    }
   ],
   "source": [
    "print_stmt = [['rate','aa', 'VdRef_V', 'VariableSpd', 'IdMeas_A', 'bb', 'VariableQ', \\\n",
    "        'Time_VSpdTq', 'VariableTq', 'Speed_Hz', 'IqMeas_A', 'VqRef_V', \\\n",
    "        'Time', 'Torque_PercTnom', 'VariableD', 'Time_I']]\n",
    "\n",
    "\n",
    "for k in data_map.keys():\n",
    "    this_row = [k]\n",
    "    for dk in print_stmt[0][1:]:\n",
    "        this_row.append(np.around(data_map[k][dk].max(), 2))\n",
    "    print_stmt.append(this_row)\n",
    "\n",
    "print \"Maxiumum value of each feature in the dataset\"\n",
    "table = ff.create_table(print_stmt)\n",
    "py.iplot(table, filename='feat-max')"
   ]
  },
  {
   "cell_type": "code",
   "execution_count": 37,
   "metadata": {},
   "outputs": [
    {
     "name": "stdout",
     "output_type": "stream",
     "text": [
      "Minimum value of each feature in the dataset\n"
     ]
    },
    {
     "data": {
      "text/html": [
       "<iframe id=\"igraph\" scrolling=\"no\" style=\"border:none;\" seamless=\"seamless\" src=\"https://plot.ly/~versag/24.embed\" height=\"230px\" width=\"100%\"></iframe>"
      ],
      "text/plain": [
       "<plotly.tools.PlotlyDisplay object>"
      ]
     },
     "execution_count": 37,
     "metadata": {},
     "output_type": "execute_result"
    }
   ],
   "source": [
    "print_stmt = [['rate','aa', 'VdRef_V', 'VariableSpd', 'IdMeas_A', 'bb', 'VariableQ', \\\n",
    "        'Time_VSpdTq', 'VariableTq', 'Speed_Hz', 'IqMeas_A', 'VqRef_V', \\\n",
    "        'Time', 'Torque_PercTnom', 'VariableD', 'Time_I']]\n",
    "\n",
    "\n",
    "for k in data_map.keys():\n",
    "    this_row = [k]\n",
    "    for dk in print_stmt[0][1:]:\n",
    "        this_row.append(np.around(data_map[k][dk].min(), 2))\n",
    "    print_stmt.append(this_row)\n",
    "\n",
    "print \"Minimum value of each feature in the dataset\"\n",
    "table = ff.create_table(print_stmt)\n",
    "py.iplot(table, filename='feat-min')"
   ]
  },
  {
   "cell_type": "code",
   "execution_count": 38,
   "metadata": {},
   "outputs": [
    {
     "name": "stdout",
     "output_type": "stream",
     "text": [
      "Mean value of each feature in the dataset\n"
     ]
    },
    {
     "data": {
      "text/html": [
       "<iframe id=\"igraph\" scrolling=\"no\" style=\"border:none;\" seamless=\"seamless\" src=\"https://plot.ly/~versag/26.embed\" height=\"230px\" width=\"100%\"></iframe>"
      ],
      "text/plain": [
       "<plotly.tools.PlotlyDisplay object>"
      ]
     },
     "execution_count": 38,
     "metadata": {},
     "output_type": "execute_result"
    }
   ],
   "source": [
    "print_stmt = [['rate','aa', 'VdRef_V', 'VariableSpd', 'IdMeas_A', 'bb', 'VariableQ', \\\n",
    "        'Time_VSpdTq', 'VariableTq', 'Speed_Hz', 'IqMeas_A', 'VqRef_V', \\\n",
    "        'Time', 'Torque_PercTnom', 'VariableD', 'Time_I']]\n",
    "\n",
    "\n",
    "for k in data_map.keys():\n",
    "    this_row = [k]\n",
    "    for dk in print_stmt[0][1:]:\n",
    "        this_row.append(np.around(data_map[k][dk].mean(), 2))\n",
    "    print_stmt.append(this_row)\n",
    "\n",
    "print \"Mean value of each feature in the dataset\"\n",
    "table = ff.create_table(print_stmt)\n",
    "py.iplot(table, filename='feat-mean')"
   ]
  },
  {
   "cell_type": "code",
   "execution_count": 39,
   "metadata": {},
   "outputs": [
    {
     "name": "stdout",
     "output_type": "stream",
     "text": [
      "Standard deviation value of each feature in the dataset\n"
     ]
    },
    {
     "data": {
      "text/html": [
       "<iframe id=\"igraph\" scrolling=\"no\" style=\"border:none;\" seamless=\"seamless\" src=\"https://plot.ly/~versag/28.embed\" height=\"230px\" width=\"100%\"></iframe>"
      ],
      "text/plain": [
       "<plotly.tools.PlotlyDisplay object>"
      ]
     },
     "execution_count": 39,
     "metadata": {},
     "output_type": "execute_result"
    }
   ],
   "source": [
    "print_stmt = [['rate','aa', 'VdRef_V', 'VariableSpd', 'IdMeas_A', 'bb', 'VariableQ', \\\n",
    "        'Time_VSpdTq', 'VariableTq', 'Speed_Hz', 'IqMeas_A', 'VqRef_V', \\\n",
    "        'Time', 'Torque_PercTnom', 'VariableD', 'Time_I']]\n",
    "\n",
    "for k in data_map.keys():\n",
    "    this_row = [k]\n",
    "    for dk in print_stmt[0][1:]:\n",
    "        this_row.append(np.around(data_map[k][dk].std(), 2))\n",
    "    print_stmt.append(this_row)\n",
    "\n",
    "print \"Standard deviation value of each feature in the dataset\"\n",
    "table = ff.create_table(print_stmt)\n",
    "py.iplot(table, filename='feat-std')"
   ]
  },
  {
   "cell_type": "code",
   "execution_count": 15,
   "metadata": {},
   "outputs": [],
   "source": [
    "current_table = np.hstack([data_map['nolm']['Time_I'], data_map['nolm']['IdMeas_A'], data_map['nolm']['IqMeas_A'], data_map['nolm']['bb']])\n",
    "variable_table = np.hstack([data_map['nolm']['Time'], data_map['nolm']['VariableSpd'], data_map['nolm']['VariableQ'], data_map['nolm']['VariableTq'], data_map['nolm']['VariableD']])\n",
    "voltag_torque_table = np.hstack([data_map['nolm']['Time_VSpdTq'], data_map['nolm']['VdRef_V'], data_map['nolm']['Speed_Hz'], data_map['nolm']['VqRef_V'], data_map['nolm']['Torque_PercTnom'], data_map['nolm']['aa']])"
   ]
  },
  {
   "cell_type": "code",
   "execution_count": 42,
   "metadata": {},
   "outputs": [
    {
     "ename": "ValueError",
     "evalue": "\nThe orca executable is required in order to export figures as static images,\nbut the executable that was found at '/usr/local/bin/orca'\ndoes not seem to be a valid plotly orca executable. Please refer to the end of\nthis message for details on what went wrong.\n\nIf you haven't installed orca yet, you can do so using conda as follows:\n\n    $ conda install -c plotly plotly-orca\n\nAlternatively, see other installation methods in the orca project README at\nhttps://github.com/plotly/orca.\n\nAfter installation is complete, no further configuration should be needed. \n\nIf you have installed orca, then for some reason plotly.py was unable to\nlocate it. In this case, set the `plotly.io.orca.config.executable`\nproperty to the full path of your orca executable. For example:\n\n    >>> plotly.io.orca.config.executable = '/path/to/orca'\n\nAfter updating this executable property, try the export operation again.\nIf it is successful then you may want to save this configuration so that it\nwill be applied automatically in future sessions. You can do this as follows:\n\n    >>> plotly.io.orca.config.save() \n\nIf you're still having trouble, feel free to ask for help on the forums at\nhttps://community.plot.ly/c/api/python\n\nHere is the error that was returned by the command\n    $ /usr/local/bin/orca --help\n\n[Return code: 1]\n/usr/local/lib/node_modules/orca/bin/orca.js:4\nconst { spawn } = require('child_process')\n      ^\n\nSyntaxError: Unexpected token {\n    at exports.runInThisContext (vm.js:53:16)\n    at Module._compile (module.js:374:25)\n    at Object.Module._extensions..js (module.js:417:10)\n    at Module.load (module.js:344:32)\n    at Function.Module._load (module.js:301:12)\n    at Function.Module.runMain (module.js:442:10)\n    at startup (node.js:136:18)\n    at node.js:966:3\n\n",
     "output_type": "error",
     "traceback": [
      "\u001b[0;31m---------------------------------------------------------------------------\u001b[0m",
      "\u001b[0;31mValueError\u001b[0m                                Traceback (most recent call last)",
      "\u001b[0;32m<ipython-input-42-367715e46675>\u001b[0m in \u001b[0;36m<module>\u001b[0;34m()\u001b[0m\n\u001b[1;32m     55\u001b[0m \u001b[0mfig2\u001b[0m \u001b[0;34m=\u001b[0m \u001b[0mdict\u001b[0m\u001b[0;34m(\u001b[0m\u001b[0mdata\u001b[0m\u001b[0;34m=\u001b[0m\u001b[0;34m[\u001b[0m\u001b[0mtrace1\u001b[0m\u001b[0;34m,\u001b[0m \u001b[0mtrace2\u001b[0m\u001b[0;34m]\u001b[0m\u001b[0;34m,\u001b[0m \u001b[0mlayout\u001b[0m\u001b[0;34m=\u001b[0m\u001b[0mlayout1\u001b[0m\u001b[0;34m)\u001b[0m\u001b[0;34m\u001b[0m\u001b[0m\n\u001b[1;32m     56\u001b[0m \u001b[0;31m#py.iplot(fig2, filename='nolm-current-vs-time')\u001b[0m\u001b[0;34m\u001b[0m\u001b[0;34m\u001b[0m\u001b[0m\n\u001b[0;32m---> 57\u001b[0;31m \u001b[0mpio\u001b[0m\u001b[0;34m.\u001b[0m\u001b[0mwrite_image\u001b[0m\u001b[0;34m(\u001b[0m\u001b[0mfig2\u001b[0m\u001b[0;34m,\u001b[0m \u001b[0;34m'../docs/images/nolm_current_vs_time.png'\u001b[0m\u001b[0;34m)\u001b[0m\u001b[0;34m\u001b[0m\u001b[0m\n\u001b[0m",
      "\u001b[0;32m/usr/local/lib/python2.7/dist-packages/plotly/io/_orca.pyc\u001b[0m in \u001b[0;36mwrite_image\u001b[0;34m(fig, file, format, scale, width, height, validate)\u001b[0m\n\u001b[1;32m   1490\u001b[0m                         \u001b[0mwidth\u001b[0m\u001b[0;34m=\u001b[0m\u001b[0mwidth\u001b[0m\u001b[0;34m,\u001b[0m\u001b[0;34m\u001b[0m\u001b[0m\n\u001b[1;32m   1491\u001b[0m                         \u001b[0mheight\u001b[0m\u001b[0;34m=\u001b[0m\u001b[0mheight\u001b[0m\u001b[0;34m,\u001b[0m\u001b[0;34m\u001b[0m\u001b[0m\n\u001b[0;32m-> 1492\u001b[0;31m                         validate=validate)\n\u001b[0m\u001b[1;32m   1493\u001b[0m \u001b[0;34m\u001b[0m\u001b[0m\n\u001b[1;32m   1494\u001b[0m     \u001b[0;31m# Open file\u001b[0m\u001b[0;34m\u001b[0m\u001b[0;34m\u001b[0m\u001b[0m\n",
      "\u001b[0;32m/usr/local/lib/python2.7/dist-packages/plotly/io/_orca.pyc\u001b[0m in \u001b[0;36mto_image\u001b[0;34m(fig, format, width, height, scale, validate)\u001b[0m\n\u001b[1;32m   1261\u001b[0m     \u001b[0;31m# Make sure orca sever is running\u001b[0m\u001b[0;34m\u001b[0m\u001b[0;34m\u001b[0m\u001b[0m\n\u001b[1;32m   1262\u001b[0m     \u001b[0;31m# -------------------------------\u001b[0m\u001b[0;34m\u001b[0m\u001b[0;34m\u001b[0m\u001b[0m\n\u001b[0;32m-> 1263\u001b[0;31m     \u001b[0mensure_server\u001b[0m\u001b[0;34m(\u001b[0m\u001b[0;34m)\u001b[0m\u001b[0;34m\u001b[0m\u001b[0m\n\u001b[0m\u001b[1;32m   1264\u001b[0m \u001b[0;34m\u001b[0m\u001b[0m\n\u001b[1;32m   1265\u001b[0m     \u001b[0;31m# Handle defaults\u001b[0m\u001b[0;34m\u001b[0m\u001b[0;34m\u001b[0m\u001b[0m\n",
      "\u001b[0;32m/usr/local/lib/python2.7/dist-packages/plotly/io/_orca.pyc\u001b[0m in \u001b[0;36mensure_server\u001b[0;34m()\u001b[0m\n\u001b[1;32m   1132\u001b[0m     \u001b[0;31m# Validate orca executable\u001b[0m\u001b[0;34m\u001b[0m\u001b[0;34m\u001b[0m\u001b[0m\n\u001b[1;32m   1133\u001b[0m     \u001b[0;32mif\u001b[0m \u001b[0mstatus\u001b[0m\u001b[0;34m.\u001b[0m\u001b[0mstate\u001b[0m \u001b[0;34m==\u001b[0m \u001b[0;34m'unvalidated'\u001b[0m\u001b[0;34m:\u001b[0m\u001b[0;34m\u001b[0m\u001b[0m\n\u001b[0;32m-> 1134\u001b[0;31m         \u001b[0mvalidate_executable\u001b[0m\u001b[0;34m(\u001b[0m\u001b[0;34m)\u001b[0m\u001b[0;34m\u001b[0m\u001b[0m\n\u001b[0m\u001b[1;32m   1135\u001b[0m \u001b[0;34m\u001b[0m\u001b[0m\n\u001b[1;32m   1136\u001b[0m     \u001b[0;31m# Acquire lock to make sure that we keep the properties of orca_state\u001b[0m\u001b[0;34m\u001b[0m\u001b[0;34m\u001b[0m\u001b[0m\n",
      "\u001b[0;32m/usr/local/lib/python2.7/dist-packages/plotly/io/_orca.pyc\u001b[0m in \u001b[0;36mvalidate_executable\u001b[0;34m()\u001b[0m\n\u001b[1;32m    960\u001b[0m \u001b[0morca\u001b[0m \u001b[0;32mwith\u001b[0m \u001b[0mXvfb\u001b[0m\u001b[0;34m.\u001b[0m\u001b[0;34m\u001b[0m\u001b[0m\n\u001b[1;32m    961\u001b[0m \"\"\"\n\u001b[0;32m--> 962\u001b[0;31m         \u001b[0;32mraise\u001b[0m \u001b[0mValueError\u001b[0m\u001b[0;34m(\u001b[0m\u001b[0merr_msg\u001b[0m\u001b[0;34m)\u001b[0m\u001b[0;34m\u001b[0m\u001b[0m\n\u001b[0m\u001b[1;32m    963\u001b[0m \u001b[0;34m\u001b[0m\u001b[0m\n\u001b[1;32m    964\u001b[0m     \u001b[0;32mif\u001b[0m \u001b[0;32mnot\u001b[0m \u001b[0mhelp_result\u001b[0m\u001b[0;34m:\u001b[0m\u001b[0;34m\u001b[0m\u001b[0m\n",
      "\u001b[0;31mValueError\u001b[0m: \nThe orca executable is required in order to export figures as static images,\nbut the executable that was found at '/usr/local/bin/orca'\ndoes not seem to be a valid plotly orca executable. Please refer to the end of\nthis message for details on what went wrong.\n\nIf you haven't installed orca yet, you can do so using conda as follows:\n\n    $ conda install -c plotly plotly-orca\n\nAlternatively, see other installation methods in the orca project README at\nhttps://github.com/plotly/orca.\n\nAfter installation is complete, no further configuration should be needed. \n\nIf you have installed orca, then for some reason plotly.py was unable to\nlocate it. In this case, set the `plotly.io.orca.config.executable`\nproperty to the full path of your orca executable. For example:\n\n    >>> plotly.io.orca.config.executable = '/path/to/orca'\n\nAfter updating this executable property, try the export operation again.\nIf it is successful then you may want to save this configuration so that it\nwill be applied automatically in future sessions. You can do this as follows:\n\n    >>> plotly.io.orca.config.save() \n\nIf you're still having trouble, feel free to ask for help on the forums at\nhttps://community.plot.ly/c/api/python\n\nHere is the error that was returned by the command\n    $ /usr/local/bin/orca --help\n\n[Return code: 1]\n/usr/local/lib/node_modules/orca/bin/orca.js:4\nconst { spawn } = require('child_process')\n      ^\n\nSyntaxError: Unexpected token {\n    at exports.runInThisContext (vm.js:53:16)\n    at Module._compile (module.js:374:25)\n    at Object.Module._extensions..js (module.js:417:10)\n    at Module.load (module.js:344:32)\n    at Function.Module._load (module.js:301:12)\n    at Function.Module.runMain (module.js:442:10)\n    at startup (node.js:136:18)\n    at node.js:966:3\n\n"
     ]
    }
   ],
   "source": [
    "trace1=go.Scatter(\n",
    "    x=current_table[:,0],\n",
    "    y=current_table[:,1],\n",
    "    xaxis='x1',\n",
    "    yaxis='y1',\n",
    "    mode='lines',\n",
    "    line=dict(width=2, color='#9748a1'),\n",
    "    name='IdMeas_A vs Time'\n",
    ")\n",
    "\n",
    "trace2=go.Scatter(\n",
    "    x=current_table[:,0],\n",
    "    y=current_table[:,2],\n",
    "    xaxis='x2',\n",
    "    yaxis='y2',\n",
    "    mode='lines',\n",
    "    line=dict(width=2, color='#b04553'),\n",
    "    name='IqMeas_A vs Time'\n",
    ")\n",
    "\n",
    "trace3=go.Scatter(\n",
    "    x=current_table[:,0],\n",
    "    y=current_table[:,3],\n",
    "    xaxis='x3',\n",
    "    yaxis='y3',\n",
    "    mode='lines',\n",
    "    line=dict(width=2, color='#af7bbd'),\n",
    "    name='bb vs Time'\n",
    ")\n",
    "\n",
    "axis=dict(\n",
    "    showline=True,\n",
    "    zeroline=False,\n",
    "    showgrid=True,\n",
    "    mirror=True, \n",
    "    ticklen=4, \n",
    "    gridcolor='#ffffff',\n",
    "    tickfont=dict(size=10)\n",
    ")\n",
    "\n",
    "layout1 = dict(\n",
    "    autosize=False,\n",
    "    title='nolm: Current variable vs Time',\n",
    "    margin = dict(t=100),\n",
    "    showlegend=False,          \n",
    "    xaxis1=dict(axis, **dict(domain=[0, 1], anchor='y1')),\n",
    "    xaxis2=dict(axis, title='Time_I', **dict(domain=[0, 1], anchor='y2')),          \n",
    "    #xaxis3=dict(axis, **dict(domain=[0, 1], anchor='y3')), \n",
    "    yaxis1=dict(axis, title='IdMeas_A', **dict(domain=[0.64, 1], anchor='x1', ticksuffix='A', hoverformat='.2f')),  \n",
    "    yaxis2=dict(axis, title='IqMeas_A', **dict(domain=[0.22, 0.62], anchor='x2', ticksuffix='A', hoverformat='.2f')),\n",
    "    #yaxis3=dict(axis, **dict(domain=[0, 0.2], anchor='x3', hoverformat='.2f')),\n",
    "    plot_bgcolor='rgba(228, 222, 249, 0.65)'\n",
    ")\n",
    "\n",
    "fig2 = dict(data=[trace1, trace2], layout=layout1)\n",
    "#py.iplot(fig2, filename='nolm-current-vs-time')\n",
    "pio.write_image(fig2, '../docs/images/nolm_current_vs_time.png')"
   ]
  },
  {
   "cell_type": "code",
   "execution_count": 33,
   "metadata": {},
   "outputs": [
    {
     "name": "stdout",
     "output_type": "stream",
     "text": [
      "The draw time for this plot will be slow for clients without much RAM.\n"
     ]
    },
    {
     "data": {
      "text/html": [
       "<iframe id=\"igraph\" scrolling=\"no\" style=\"border:none;\" seamless=\"seamless\" src=\"https://plot.ly/~versag/16.embed\" height=\"1200px\" width=\"100%\"></iframe>"
      ],
      "text/plain": [
       "<plotly.tools.PlotlyDisplay object>"
      ]
     },
     "execution_count": 33,
     "metadata": {},
     "output_type": "execute_result"
    }
   ],
   "source": [
    "#'Time_VSpdTq', 'VdRef_V', 'Speed_Hz', 'VqRef_V', 'Torque_PercTnom', 'aa']\n",
    "trace8=go.Scatter(\n",
    "    x=voltag_torque_table[:,0],\n",
    "    y=voltag_torque_table[:,1],\n",
    "    xaxis='x1',\n",
    "    yaxis='y1',\n",
    "    mode='lines',\n",
    "    line=dict(width=2, color='#9748a1'),\n",
    "    name='VdRef_V vs Time_VSpdTq'\n",
    ")\n",
    "\n",
    "trace9=go.Scatter(\n",
    "    x=voltag_torque_table[:,0],\n",
    "    y=voltag_torque_table[:,2],\n",
    "    xaxis='x2',\n",
    "    yaxis='y2',\n",
    "    mode='lines',\n",
    "    line=dict(width=2, color='#b04553'),\n",
    "    name='SpeedHz vs Time_VSpdTq'\n",
    ")\n",
    "\n",
    "trace10=go.Scatter(\n",
    "    x=voltag_torque_table[:,0],\n",
    "    y=voltag_torque_table[:,3],\n",
    "    xaxis='x3',\n",
    "    yaxis='y3',\n",
    "    mode='lines',\n",
    "    line=dict(width=2, color='#af7bbd'),\n",
    "    name='VqRef_V vs Time_VSpdTq'\n",
    ")\n",
    "\n",
    "trace11=go.Scatter(\n",
    "    x=voltag_torque_table[:,0],\n",
    "    y=voltag_torque_table[:,4],\n",
    "    xaxis='x4',\n",
    "    yaxis='y4',\n",
    "    mode='lines',\n",
    "    line=dict(width=2, color='#ff7bbd'),\n",
    "    name='Torque_PercTnom vs Time_VSpdTq'\n",
    ")\n",
    "\n",
    "trace12=go.Scatter(\n",
    "    x=voltag_torque_table[:,0],\n",
    "    y=voltag_torque_table[:,5],\n",
    "    xaxis='x5',\n",
    "    yaxis='y5',\n",
    "    mode='lines',\n",
    "    line=dict(width=2, color='#afaabd'),\n",
    "    name='aa vs Time_VSpdTq'\n",
    ")\n",
    "\n",
    "axis=dict(\n",
    "    showline=True,\n",
    "    zeroline=False,\n",
    "    showgrid=True,\n",
    "    mirror=True, \n",
    "    ticklen=4, \n",
    "    gridcolor='#ffffff',\n",
    "    tickfont=dict(size=10)\n",
    ")\n",
    "\n",
    "layout3 = dict(\n",
    "    height=1200,\n",
    "    autosize=False,\n",
    "    title='nolm: Voltage, Torque and Speed vs Time',\n",
    "    margin = dict(t=100),\n",
    "    showlegend=False,          \n",
    "    xaxis1=dict(axis, **dict(domain=[0, 1], anchor='y1')),\n",
    "    xaxis2=dict(axis, **dict(domain=[0, 1], anchor='y2')),          \n",
    "    xaxis3=dict(axis, **dict(domain=[0, 1], anchor='y3')),\n",
    "    xaxis4=dict(axis, title='Time_VSpdTq', **dict(domain=[0, 1], anchor='y4')),\n",
    "    #xaxis5=dict(axis, **dict(domain=[0, 1], anchor='y5')),\n",
    "    \n",
    "    yaxis1=dict(axis, title='VdRef_V', **dict(domain=[0.80, 1], anchor='x1', ticksuffix='V', hoverformat='.2f')),  \n",
    "    yaxis2=dict(axis, title='SpeedHz', **dict(domain=[0.60, 0.79], anchor='x2', ticksuffix='Hz', hoverformat='.2f')),\n",
    "    yaxis3=dict(axis, title='VqRef_V', **dict(domain=[0.40, 0.59], anchor='x2', ticksuffix='V', hoverformat='.2f')),\n",
    "    yaxis4=dict(axis, title='Torque_PercTnom', **dict(domain=[0.20, 0.39], anchor='x4', ticksuffix='N-m', hoverformat='.2f')),\n",
    "    #yaxis5=dict(axis, **dict(domain=[0, 0.19], anchor='x5', hoverformat='.2f')),\n",
    "    \n",
    "    plot_bgcolor='rgba(228, 222, 249, 0.65)'\n",
    ")\n",
    "\n",
    "fig2 = dict(data=[trace8, trace9, trace10, trace11], layout=layout3)\n",
    "py.iplot(fig2, filename='nolm-voltage-torque-speed-vs-time')"
   ]
  },
  {
   "cell_type": "code",
   "execution_count": 20,
   "metadata": {},
   "outputs": [],
   "source": [
    "current_table = np.hstack([data_map['lm10hz']['Time_I'], data_map['lm10hz']['IdMeas_A'], data_map['lm10hz']['IqMeas_A'], data_map['lm10hz']['bb']])\n",
    "variable_table = np.hstack([data_map['lm10hz']['Time'], data_map['lm10hz']['VariableSpd'], data_map['lm10hz']['VariableQ'], data_map['lm10hz']['VariableTq'], data_map['lm10hz']['VariableD']])\n",
    "voltag_torque_table = np.hstack([data_map['lm10hz']['Time_VSpdTq'], data_map['lm10hz']['VdRef_V'], data_map['lm10hz']['Speed_Hz'], data_map['lm10hz']['VqRef_V'], data_map['lm10hz']['Torque_PercTnom'], data_map['lm10hz']['aa']])"
   ]
  },
  {
   "cell_type": "code",
   "execution_count": 21,
   "metadata": {},
   "outputs": [
    {
     "data": {
      "text/html": [
       "<iframe id=\"igraph\" scrolling=\"no\" style=\"border:none;\" seamless=\"seamless\" src=\"https://plot.ly/~versag/12.embed\" height=\"525px\" width=\"100%\"></iframe>"
      ],
      "text/plain": [
       "<plotly.tools.PlotlyDisplay object>"
      ]
     },
     "execution_count": 21,
     "metadata": {},
     "output_type": "execute_result"
    }
   ],
   "source": [
    "trace1=go.Scatter(\n",
    "    x=current_table[:,0],\n",
    "    y=current_table[:,1],\n",
    "    xaxis='x1',\n",
    "    yaxis='y1',\n",
    "    mode='lines',\n",
    "    line=dict(width=2, color='#9748a1'),\n",
    "    name='IdMeas_A vs Time'\n",
    ")\n",
    "\n",
    "trace2=go.Scatter(\n",
    "    x=current_table[:,0],\n",
    "    y=current_table[:,2],\n",
    "    xaxis='x2',\n",
    "    yaxis='y2',\n",
    "    mode='lines',\n",
    "    line=dict(width=2, color='#b04553'),\n",
    "    name='IqMeas_A vs Time'\n",
    ")\n",
    "\n",
    "trace3=go.Scatter(\n",
    "    x=current_table[:,0],\n",
    "    y=current_table[:,3],\n",
    "    xaxis='x3',\n",
    "    yaxis='y3',\n",
    "    mode='lines',\n",
    "    line=dict(width=2, color='#af7bbd'),\n",
    "    name='bb vs Time'\n",
    ")\n",
    "\n",
    "axis=dict(\n",
    "    showline=True,\n",
    "    zeroline=False,\n",
    "    showgrid=True,\n",
    "    mirror=True, \n",
    "    ticklen=4, \n",
    "    gridcolor='#ffffff',\n",
    "    tickfont=dict(size=10)\n",
    ")\n",
    "\n",
    "layout1 = dict(\n",
    "    autosize=False,\n",
    "    title='lm10hz: Current variable vs Time',\n",
    "    margin = dict(t=100),\n",
    "    showlegend=False,          \n",
    "    xaxis1=dict(axis, **dict(domain=[0, 1], anchor='y1')),\n",
    "    xaxis2=dict(axis, title='Time_I', **dict(domain=[0, 1], anchor='y2')),          \n",
    "    #xaxis3=dict(axis, **dict(domain=[0, 1], anchor='y3')), \n",
    "    yaxis1=dict(axis, title='IdMeas_A', **dict(domain=[0.64, 1], anchor='x1', ticksuffix='A', hoverformat='.2f')),  \n",
    "    yaxis2=dict(axis, title='IqMeas_A', **dict(domain=[0.22, 0.62], anchor='x2', ticksuffix='A', hoverformat='.2f')),\n",
    "    #yaxis3=dict(axis, **dict(domain=[0, 0.2], anchor='x3', hoverformat='.2f')),\n",
    "    plot_bgcolor='rgba(228, 222, 249, 0.65)'\n",
    ")\n",
    "\n",
    "fig2 = dict(data=[trace1, trace2], layout=layout1)\n",
    "py.iplot(fig2, filename='vertical-stacked-subplot-tables')"
   ]
  },
  {
   "cell_type": "code",
   "execution_count": 22,
   "metadata": {},
   "outputs": [
    {
     "name": "stdout",
     "output_type": "stream",
     "text": [
      "The draw time for this plot will be slow for clients without much RAM.\n"
     ]
    },
    {
     "data": {
      "text/html": [
       "<iframe id=\"igraph\" scrolling=\"no\" style=\"border:none;\" seamless=\"seamless\" src=\"https://plot.ly/~versag/12.embed\" height=\"1200px\" width=\"100%\"></iframe>"
      ],
      "text/plain": [
       "<plotly.tools.PlotlyDisplay object>"
      ]
     },
     "execution_count": 22,
     "metadata": {},
     "output_type": "execute_result"
    }
   ],
   "source": [
    "#'Time_VSpdTq', 'VdRef_V', 'Speed_Hz', 'VqRef_V', 'Torque_PercTnom', 'aa']\n",
    "trace8=go.Scatter(\n",
    "    x=voltag_torque_table[:,0],\n",
    "    y=voltag_torque_table[:,1],\n",
    "    xaxis='x1',\n",
    "    yaxis='y1',\n",
    "    mode='lines',\n",
    "    line=dict(width=2, color='#9748a1'),\n",
    "    name='VdRef_V vs Time_VSpdTq'\n",
    ")\n",
    "\n",
    "trace9=go.Scatter(\n",
    "    x=voltag_torque_table[:,0],\n",
    "    y=voltag_torque_table[:,2],\n",
    "    xaxis='x2',\n",
    "    yaxis='y2',\n",
    "    mode='lines',\n",
    "    line=dict(width=2, color='#b04553'),\n",
    "    name='SpeedHz vs Time_VSpdTq'\n",
    ")\n",
    "\n",
    "trace10=go.Scatter(\n",
    "    x=voltag_torque_table[:,0],\n",
    "    y=voltag_torque_table[:,3],\n",
    "    xaxis='x3',\n",
    "    yaxis='y3',\n",
    "    mode='lines',\n",
    "    line=dict(width=2, color='#af7bbd'),\n",
    "    name='VqRef_V vs Time_VSpdTq'\n",
    ")\n",
    "\n",
    "trace11=go.Scatter(\n",
    "    x=voltag_torque_table[:,0],\n",
    "    y=voltag_torque_table[:,4],\n",
    "    xaxis='x4',\n",
    "    yaxis='y4',\n",
    "    mode='lines',\n",
    "    line=dict(width=2, color='#ff7bbd'),\n",
    "    name='Torque_PercTnom vs Time_VSpdTq'\n",
    ")\n",
    "\n",
    "trace12=go.Scatter(\n",
    "    x=voltag_torque_table[:,0],\n",
    "    y=voltag_torque_table[:,5],\n",
    "    xaxis='x5',\n",
    "    yaxis='y5',\n",
    "    mode='lines',\n",
    "    line=dict(width=2, color='#afaabd'),\n",
    "    name='aa vs Time_VSpdTq'\n",
    ")\n",
    "\n",
    "axis=dict(\n",
    "    showline=True,\n",
    "    zeroline=False,\n",
    "    showgrid=True,\n",
    "    mirror=True, \n",
    "    ticklen=4, \n",
    "    gridcolor='#ffffff',\n",
    "    tickfont=dict(size=10)\n",
    ")\n",
    "\n",
    "layout3 = dict(\n",
    "    height=1200,\n",
    "    autosize=False,\n",
    "    title='lm10hz: Voltage, Torque and Speed vs Time',\n",
    "    margin = dict(t=100),\n",
    "    showlegend=False,          \n",
    "    xaxis1=dict(axis, **dict(domain=[0, 1], anchor='y1')),\n",
    "    xaxis2=dict(axis, **dict(domain=[0, 1], anchor='y2')),          \n",
    "    xaxis3=dict(axis, **dict(domain=[0, 1], anchor='y3')),\n",
    "    xaxis4=dict(axis, title='Time_VSpdTq', **dict(domain=[0, 1], anchor='y4')),\n",
    "    #xaxis5=dict(axis, **dict(domain=[0, 1], anchor='y5')),\n",
    "    \n",
    "    yaxis1=dict(axis, title='VdRef_V', **dict(domain=[0.80, 1], anchor='x1', ticksuffix='V', hoverformat='.2f')),  \n",
    "    yaxis2=dict(axis, title='SpeedHz', **dict(domain=[0.60, 0.79], anchor='x2', ticksuffix='Hz', hoverformat='.2f')),\n",
    "    yaxis3=dict(axis, title='VqRef_V', **dict(domain=[0.40, 0.59], anchor='x2', ticksuffix='V', hoverformat='.2f')),\n",
    "    yaxis4=dict(axis, title='Torque_PercTnom', **dict(domain=[0.20, 0.39], anchor='x4', ticksuffix='N-m', hoverformat='.2f')),\n",
    "    #yaxis5=dict(axis, **dict(domain=[0, 0.19], anchor='x5', hoverformat='.2f')),\n",
    "    \n",
    "    plot_bgcolor='rgba(228, 222, 249, 0.65)'\n",
    ")\n",
    "\n",
    "fig2 = dict(data=[trace8, trace9, trace10, trace11], layout=layout3)\n",
    "py.iplot(fig2, filename='vertical-stacked-subplot-tables')"
   ]
  },
  {
   "cell_type": "code",
   "execution_count": 23,
   "metadata": {},
   "outputs": [],
   "source": [
    "current_table = np.hstack([data_map['lm30hz']['Time_I'], data_map['lm30hz']['IdMeas_A'], data_map['lm30hz']['IqMeas_A'], data_map['lm30hz']['bb']])\n",
    "variable_table = np.hstack([data_map['lm30hz']['Time'], data_map['lm30hz']['VariableSpd'], data_map['lm30hz']['VariableQ'], data_map['lm30hz']['VariableTq'], data_map['lm30hz']['VariableD']])\n",
    "voltag_torque_table = np.hstack([data_map['lm30hz']['Time_VSpdTq'], data_map['lm30hz']['VdRef_V'], data_map['lm30hz']['Speed_Hz'], data_map['lm30hz']['VqRef_V'], data_map['lm30hz']['Torque_PercTnom'], data_map['lm30hz']['aa']])"
   ]
  },
  {
   "cell_type": "code",
   "execution_count": 24,
   "metadata": {},
   "outputs": [
    {
     "data": {
      "text/html": [
       "<iframe id=\"igraph\" scrolling=\"no\" style=\"border:none;\" seamless=\"seamless\" src=\"https://plot.ly/~versag/12.embed\" height=\"525px\" width=\"100%\"></iframe>"
      ],
      "text/plain": [
       "<plotly.tools.PlotlyDisplay object>"
      ]
     },
     "execution_count": 24,
     "metadata": {},
     "output_type": "execute_result"
    }
   ],
   "source": [
    "trace1=go.Scatter(\n",
    "    x=current_table[:,0],\n",
    "    y=current_table[:,1],\n",
    "    xaxis='x1',\n",
    "    yaxis='y1',\n",
    "    mode='lines',\n",
    "    line=dict(width=2, color='#9748a1'),\n",
    "    name='IdMeas_A vs Time'\n",
    ")\n",
    "\n",
    "trace2=go.Scatter(\n",
    "    x=current_table[:,0],\n",
    "    y=current_table[:,2],\n",
    "    xaxis='x2',\n",
    "    yaxis='y2',\n",
    "    mode='lines',\n",
    "    line=dict(width=2, color='#b04553'),\n",
    "    name='IqMeas_A vs Time'\n",
    ")\n",
    "\n",
    "trace3=go.Scatter(\n",
    "    x=current_table[:,0],\n",
    "    y=current_table[:,3],\n",
    "    xaxis='x3',\n",
    "    yaxis='y3',\n",
    "    mode='lines',\n",
    "    line=dict(width=2, color='#af7bbd'),\n",
    "    name='bb vs Time'\n",
    ")\n",
    "\n",
    "axis=dict(\n",
    "    showline=True,\n",
    "    zeroline=False,\n",
    "    showgrid=True,\n",
    "    mirror=True, \n",
    "    ticklen=4, \n",
    "    gridcolor='#ffffff',\n",
    "    tickfont=dict(size=10)\n",
    ")\n",
    "\n",
    "layout1 = dict(\n",
    "    autosize=False,\n",
    "    title='lm30hz: Current variable vs Time',\n",
    "    margin = dict(t=100),\n",
    "    showlegend=False,          \n",
    "    xaxis1=dict(axis, **dict(domain=[0, 1], anchor='y1')),\n",
    "    xaxis2=dict(axis, title='Time_I', **dict(domain=[0, 1], anchor='y2')),          \n",
    "    #xaxis3=dict(axis, **dict(domain=[0, 1], anchor='y3')), \n",
    "    yaxis1=dict(axis, title='IdMeas_A', **dict(domain=[0.64, 1], anchor='x1', ticksuffix='A', hoverformat='.2f')),  \n",
    "    yaxis2=dict(axis, title='IqMeas_A', **dict(domain=[0.22, 0.62], anchor='x2', ticksuffix='A', hoverformat='.2f')),\n",
    "    #yaxis3=dict(axis, **dict(domain=[0, 0.2], anchor='x3', hoverformat='.2f')),\n",
    "    plot_bgcolor='rgba(228, 222, 249, 0.65)'\n",
    ")\n",
    "\n",
    "fig2 = dict(data=[trace1, trace2], layout=layout1)\n",
    "py.iplot(fig2, filename='vertical-stacked-subplot-tables')"
   ]
  },
  {
   "cell_type": "code",
   "execution_count": 25,
   "metadata": {},
   "outputs": [
    {
     "name": "stdout",
     "output_type": "stream",
     "text": [
      "The draw time for this plot will be slow for clients without much RAM.\n"
     ]
    },
    {
     "data": {
      "text/html": [
       "<iframe id=\"igraph\" scrolling=\"no\" style=\"border:none;\" seamless=\"seamless\" src=\"https://plot.ly/~versag/12.embed\" height=\"1200px\" width=\"100%\"></iframe>"
      ],
      "text/plain": [
       "<plotly.tools.PlotlyDisplay object>"
      ]
     },
     "execution_count": 25,
     "metadata": {},
     "output_type": "execute_result"
    }
   ],
   "source": [
    "#'Time_VSpdTq', 'VdRef_V', 'Speed_Hz', 'VqRef_V', 'Torque_PercTnom', 'aa']\n",
    "trace8=go.Scatter(\n",
    "    x=voltag_torque_table[:,0],\n",
    "    y=voltag_torque_table[:,1],\n",
    "    xaxis='x1',\n",
    "    yaxis='y1',\n",
    "    mode='lines',\n",
    "    line=dict(width=2, color='#9748a1'),\n",
    "    name='VdRef_V vs Time_VSpdTq'\n",
    ")\n",
    "\n",
    "trace9=go.Scatter(\n",
    "    x=voltag_torque_table[:,0],\n",
    "    y=voltag_torque_table[:,2],\n",
    "    xaxis='x2',\n",
    "    yaxis='y2',\n",
    "    mode='lines',\n",
    "    line=dict(width=2, color='#b04553'),\n",
    "    name='SpeedHz vs Time_VSpdTq'\n",
    ")\n",
    "\n",
    "trace10=go.Scatter(\n",
    "    x=voltag_torque_table[:,0],\n",
    "    y=voltag_torque_table[:,3],\n",
    "    xaxis='x3',\n",
    "    yaxis='y3',\n",
    "    mode='lines',\n",
    "    line=dict(width=2, color='#af7bbd'),\n",
    "    name='VqRef_V vs Time_VSpdTq'\n",
    ")\n",
    "\n",
    "trace11=go.Scatter(\n",
    "    x=voltag_torque_table[:,0],\n",
    "    y=voltag_torque_table[:,4],\n",
    "    xaxis='x4',\n",
    "    yaxis='y4',\n",
    "    mode='lines',\n",
    "    line=dict(width=2, color='#ff7bbd'),\n",
    "    name='Torque_PercTnom vs Time_VSpdTq'\n",
    ")\n",
    "\n",
    "trace12=go.Scatter(\n",
    "    x=voltag_torque_table[:,0],\n",
    "    y=voltag_torque_table[:,5],\n",
    "    xaxis='x5',\n",
    "    yaxis='y5',\n",
    "    mode='lines',\n",
    "    line=dict(width=2, color='#afaabd'),\n",
    "    name='aa vs Time_VSpdTq'\n",
    ")\n",
    "\n",
    "axis=dict(\n",
    "    showline=True,\n",
    "    zeroline=False,\n",
    "    showgrid=True,\n",
    "    mirror=True, \n",
    "    ticklen=4, \n",
    "    gridcolor='#ffffff',\n",
    "    tickfont=dict(size=10)\n",
    ")\n",
    "\n",
    "layout3 = dict(\n",
    "    height=1200,\n",
    "    autosize=False,\n",
    "    title='lm30hz: Voltage, Torque and Speed vs Time',\n",
    "    margin = dict(t=100),\n",
    "    showlegend=False,          \n",
    "    xaxis1=dict(axis, **dict(domain=[0, 1], anchor='y1')),\n",
    "    xaxis2=dict(axis, **dict(domain=[0, 1], anchor='y2')),          \n",
    "    xaxis3=dict(axis, **dict(domain=[0, 1], anchor='y3')),\n",
    "    xaxis4=dict(axis, title='Time_VSpdTq', **dict(domain=[0, 1], anchor='y4')),\n",
    "    #xaxis5=dict(axis, **dict(domain=[0, 1], anchor='y5')),\n",
    "    \n",
    "    yaxis1=dict(axis, title='VdRef_V', **dict(domain=[0.80, 1], anchor='x1', ticksuffix='V', hoverformat='.2f')),  \n",
    "    yaxis2=dict(axis, title='SpeedHz', **dict(domain=[0.60, 0.79], anchor='x2', ticksuffix='Hz', hoverformat='.2f')),\n",
    "    yaxis3=dict(axis, title='VqRef_V', **dict(domain=[0.40, 0.59], anchor='x2', ticksuffix='V', hoverformat='.2f')),\n",
    "    yaxis4=dict(axis, title='Torque_PercTnom', **dict(domain=[0.20, 0.39], anchor='x4', ticksuffix='N-m', hoverformat='.2f')),\n",
    "    #yaxis5=dict(axis, **dict(domain=[0, 0.19], anchor='x5', hoverformat='.2f')),\n",
    "    plot_bgcolor='rgba(228, 222, 249, 0.65)'\n",
    ")\n",
    "\n",
    "fig2 = dict(data=[trace8, trace9, trace10, trace11], layout=layout3)\n",
    "py.iplot(fig2, filename='vertical-stacked-subplot-tables')"
   ]
  },
  {
   "cell_type": "code",
   "execution_count": 26,
   "metadata": {},
   "outputs": [],
   "source": [
    "current_table = np.hstack([data_map['lm50hz']['Time_I'], data_map['lm50hz']['IdMeas_A'], data_map['lm50hz']['IqMeas_A'], data_map['lm50hz']['bb']])\n",
    "variable_table = np.hstack([data_map['lm50hz']['Time'], data_map['lm50hz']['VariableSpd'], data_map['lm50hz']['VariableQ'], data_map['lm50hz']['VariableTq'], data_map['lm50hz']['VariableD']])\n",
    "voltag_torque_table = np.hstack([data_map['lm50hz']['Time_VSpdTq'], data_map['lm50hz']['VdRef_V'], data_map['lm50hz']['Speed_Hz'], data_map['lm50hz']['VqRef_V'], data_map['lm50hz']['Torque_PercTnom'], data_map['lm50hz']['aa']])"
   ]
  },
  {
   "cell_type": "code",
   "execution_count": 27,
   "metadata": {},
   "outputs": [
    {
     "data": {
      "text/html": [
       "<iframe id=\"igraph\" scrolling=\"no\" style=\"border:none;\" seamless=\"seamless\" src=\"https://plot.ly/~versag/12.embed\" height=\"525px\" width=\"100%\"></iframe>"
      ],
      "text/plain": [
       "<plotly.tools.PlotlyDisplay object>"
      ]
     },
     "execution_count": 27,
     "metadata": {},
     "output_type": "execute_result"
    }
   ],
   "source": [
    "trace1=go.Scatter(\n",
    "    x=current_table[:,0],\n",
    "    y=current_table[:,1],\n",
    "    xaxis='x1',\n",
    "    yaxis='y1',\n",
    "    mode='lines',\n",
    "    line=dict(width=2, color='#9748a1'),\n",
    "    name='IdMeas_A vs Time'\n",
    ")\n",
    "\n",
    "trace2=go.Scatter(\n",
    "    x=current_table[:,0],\n",
    "    y=current_table[:,2],\n",
    "    xaxis='x2',\n",
    "    yaxis='y2',\n",
    "    mode='lines',\n",
    "    line=dict(width=2, color='#b04553'),\n",
    "    name='IqMeas_A vs Time'\n",
    ")\n",
    "\n",
    "trace3=go.Scatter(\n",
    "    x=current_table[:,0],\n",
    "    y=current_table[:,3],\n",
    "    xaxis='x3',\n",
    "    yaxis='y3',\n",
    "    mode='lines',\n",
    "    line=dict(width=2, color='#af7bbd'),\n",
    "    name='bb vs Time'\n",
    ")\n",
    "\n",
    "axis=dict(\n",
    "    showline=True,\n",
    "    zeroline=False,\n",
    "    showgrid=True,\n",
    "    mirror=True, \n",
    "    ticklen=4, \n",
    "    gridcolor='#ffffff',\n",
    "    tickfont=dict(size=10)\n",
    ")\n",
    "\n",
    "layout1 = dict(\n",
    "    autosize=False,\n",
    "    title='lm50hz: Current variable vs Time',\n",
    "    margin = dict(t=100),\n",
    "    showlegend=False,          \n",
    "    xaxis1=dict(axis, **dict(domain=[0, 1], anchor='y1')),\n",
    "    xaxis2=dict(axis, title='Time_I', **dict(domain=[0, 1], anchor='y2')),          \n",
    "    #xaxis3=dict(axis, **dict(domain=[0, 1], anchor='y3')), \n",
    "    yaxis1=dict(axis, title='IdMeas_A', **dict(domain=[0.64, 1], anchor='x1', ticksuffix='A', hoverformat='.2f')),  \n",
    "    yaxis2=dict(axis, title='IqMeas_A', **dict(domain=[0.22, 0.62], anchor='x2', ticksuffix='A', hoverformat='.2f')),\n",
    "    #yaxis3=dict(axis, **dict(domain=[0, 0.2], anchor='x3', hoverformat='.2f')),\n",
    "    plot_bgcolor='rgba(228, 222, 249, 0.65)'\n",
    ")\n",
    "\n",
    "fig2 = dict(data=[trace1, trace2], layout=layout1)\n",
    "py.iplot(fig2, filename='vertical-stacked-subplot-tables')"
   ]
  },
  {
   "cell_type": "code",
   "execution_count": 28,
   "metadata": {},
   "outputs": [
    {
     "name": "stdout",
     "output_type": "stream",
     "text": [
      "The draw time for this plot will be slow for clients without much RAM.\n"
     ]
    },
    {
     "data": {
      "text/html": [
       "<iframe id=\"igraph\" scrolling=\"no\" style=\"border:none;\" seamless=\"seamless\" src=\"https://plot.ly/~versag/12.embed\" height=\"1200px\" width=\"100%\"></iframe>"
      ],
      "text/plain": [
       "<plotly.tools.PlotlyDisplay object>"
      ]
     },
     "execution_count": 28,
     "metadata": {},
     "output_type": "execute_result"
    }
   ],
   "source": [
    "#'Time_VSpdTq', 'VdRef_V', 'Speed_Hz', 'VqRef_V', 'Torque_PercTnom', 'aa']\n",
    "trace8=go.Scatter(\n",
    "    x=voltag_torque_table[:,0],\n",
    "    y=voltag_torque_table[:,1],\n",
    "    xaxis='x1',\n",
    "    yaxis='y1',\n",
    "    mode='lines',\n",
    "    line=dict(width=2, color='#9748a1'),\n",
    "    name='VdRef_V vs Time_VSpdTq'\n",
    ")\n",
    "\n",
    "trace9=go.Scatter(\n",
    "    x=voltag_torque_table[:,0],\n",
    "    y=voltag_torque_table[:,2],\n",
    "    xaxis='x2',\n",
    "    yaxis='y2',\n",
    "    mode='lines',\n",
    "    line=dict(width=2, color='#b04553'),\n",
    "    name='SpeedHz vs Time_VSpdTq'\n",
    ")\n",
    "\n",
    "trace10=go.Scatter(\n",
    "    x=voltag_torque_table[:,0],\n",
    "    y=voltag_torque_table[:,3],\n",
    "    xaxis='x3',\n",
    "    yaxis='y3',\n",
    "    mode='lines',\n",
    "    line=dict(width=2, color='#af7bbd'),\n",
    "    name='VqRef_V vs Time_VSpdTq'\n",
    ")\n",
    "\n",
    "trace11=go.Scatter(\n",
    "    x=voltag_torque_table[:,0],\n",
    "    y=voltag_torque_table[:,4],\n",
    "    xaxis='x4',\n",
    "    yaxis='y4',\n",
    "    mode='lines',\n",
    "    line=dict(width=2, color='#ff7bbd'),\n",
    "    name='Torque_PercTnom vs Time_VSpdTq'\n",
    ")\n",
    "\n",
    "trace12=go.Scatter(\n",
    "    x=voltag_torque_table[:,0],\n",
    "    y=voltag_torque_table[:,5],\n",
    "    xaxis='x5',\n",
    "    yaxis='y5',\n",
    "    mode='lines',\n",
    "    line=dict(width=2, color='#afaabd'),\n",
    "    name='aa vs Time_VSpdTq'\n",
    ")\n",
    "\n",
    "axis=dict(\n",
    "    showline=True,\n",
    "    zeroline=False,\n",
    "    showgrid=True,\n",
    "    mirror=True, \n",
    "    ticklen=4, \n",
    "    gridcolor='#ffffff',\n",
    "    tickfont=dict(size=10)\n",
    ")\n",
    "\n",
    "layout3 = dict(\n",
    "    height=1200,\n",
    "    autosize=False,\n",
    "    title='lm50hz: Voltage, Torque and Speed vs Time',\n",
    "    margin = dict(t=100),\n",
    "    showlegend=False,          \n",
    "    xaxis1=dict(axis, **dict(domain=[0, 1], anchor='y1')),\n",
    "    xaxis2=dict(axis, **dict(domain=[0, 1], anchor='y2')),          \n",
    "    xaxis3=dict(axis, **dict(domain=[0, 1], anchor='y3')),\n",
    "    xaxis4=dict(axis, title='Time_VSpdTq', **dict(domain=[0, 1], anchor='y4')),\n",
    "    #xaxis5=dict(axis, **dict(domain=[0, 1], anchor='y5')),\n",
    "    \n",
    "    yaxis1=dict(axis, title='VdRef_V', **dict(domain=[0.80, 1], anchor='x1', ticksuffix='V', hoverformat='.2f')),  \n",
    "    yaxis2=dict(axis, title='SpeedHz', **dict(domain=[0.60, 0.79], anchor='x2', ticksuffix='Hz', hoverformat='.2f')),\n",
    "    yaxis3=dict(axis, title='VqRef_V', **dict(domain=[0.40, 0.59], anchor='x2', ticksuffix='V', hoverformat='.2f')),\n",
    "    yaxis4=dict(axis, title='Torque_PercTnom', **dict(domain=[0.20, 0.39], anchor='x4', ticksuffix='N-m', hoverformat='.2f')),\n",
    "    #yaxis5=dict(axis, **dict(domain=[0, 0.19], anchor='x5', hoverformat='.2f')),\n",
    "    \n",
    "    plot_bgcolor='rgba(228, 222, 249, 0.65)'\n",
    ")\n",
    "\n",
    "fig2 = dict(data=[trace8, trace9, trace10, trace11], layout=layout3)\n",
    "py.iplot(fig2, filename='vertical-stacked-subplot-tables')"
   ]
  },
  {
   "cell_type": "code",
   "execution_count": 29,
   "metadata": {},
   "outputs": [],
   "source": [
    "current_table = np.hstack([data_map['lm68hz']['Time_I'], data_map['lm68hz']['IdMeas_A'], data_map['lm68hz']['IqMeas_A'], data_map['lm68hz']['bb']])\n",
    "variable_table = np.hstack([data_map['lm68hz']['Time'], data_map['lm68hz']['VariableSpd'], data_map['lm68hz']['VariableQ'], data_map['lm68hz']['VariableTq'], data_map['lm68hz']['VariableD']])\n",
    "voltag_torque_table = np.hstack([data_map['lm68hz']['Time_VSpdTq'], data_map['lm68hz']['VdRef_V'], data_map['lm68hz']['Speed_Hz'], data_map['lm68hz']['VqRef_V'], data_map['lm68hz']['Torque_PercTnom'], data_map['lm68hz']['aa']])"
   ]
  },
  {
   "cell_type": "code",
   "execution_count": 30,
   "metadata": {},
   "outputs": [
    {
     "data": {
      "text/html": [
       "<iframe id=\"igraph\" scrolling=\"no\" style=\"border:none;\" seamless=\"seamless\" src=\"https://plot.ly/~versag/12.embed\" height=\"525px\" width=\"100%\"></iframe>"
      ],
      "text/plain": [
       "<plotly.tools.PlotlyDisplay object>"
      ]
     },
     "execution_count": 30,
     "metadata": {},
     "output_type": "execute_result"
    }
   ],
   "source": [
    "trace1=go.Scatter(\n",
    "    x=current_table[:,0],\n",
    "    y=current_table[:,1],\n",
    "    xaxis='x1',\n",
    "    yaxis='y1',\n",
    "    mode='lines',\n",
    "    line=dict(width=2, color='#9748a1'),\n",
    "    name='IdMeas_A vs Time'\n",
    ")\n",
    "\n",
    "trace2=go.Scatter(\n",
    "    x=current_table[:,0],\n",
    "    y=current_table[:,2],\n",
    "    xaxis='x2',\n",
    "    yaxis='y2',\n",
    "    mode='lines',\n",
    "    line=dict(width=2, color='#b04553'),\n",
    "    name='IqMeas_A vs Time'\n",
    ")\n",
    "\n",
    "trace3=go.Scatter(\n",
    "    x=current_table[:,0],\n",
    "    y=current_table[:,3],\n",
    "    xaxis='x3',\n",
    "    yaxis='y3',\n",
    "    mode='lines',\n",
    "    line=dict(width=2, color='#af7bbd'),\n",
    "    name='bb vs Time'\n",
    ")\n",
    "\n",
    "axis=dict(\n",
    "    showline=True,\n",
    "    zeroline=False,\n",
    "    showgrid=True,\n",
    "    mirror=True, \n",
    "    ticklen=4, \n",
    "    gridcolor='#ffffff',\n",
    "    tickfont=dict(size=10)\n",
    ")\n",
    "\n",
    "layout1 = dict(\n",
    "    autosize=False,\n",
    "    title='lm68hz: Current variable vs Time',\n",
    "    margin = dict(t=100),\n",
    "    showlegend=False,          \n",
    "    xaxis1=dict(axis, **dict(domain=[0, 1], anchor='y1')),\n",
    "    xaxis2=dict(axis, title='Time_I', **dict(domain=[0, 1], anchor='y2')),          \n",
    "    #xaxis3=dict(axis, **dict(domain=[0, 1], anchor='y3')), \n",
    "    yaxis1=dict(axis, title='IdMeas_A', **dict(domain=[0.64, 1], anchor='x1', ticksuffix='A', hoverformat='.2f')),  \n",
    "    yaxis2=dict(axis, title='IqMeas_A', **dict(domain=[0.22, 0.62], anchor='x2', ticksuffix='A', hoverformat='.2f')),\n",
    "    #yaxis3=dict(axis, **dict(domain=[0, 0.2], anchor='x3', hoverformat='.2f')),\n",
    "    plot_bgcolor='rgba(228, 222, 249, 0.65)'\n",
    ")\n",
    "\n",
    "fig2 = dict(data=[trace1, trace2], layout=layout1)\n",
    "py.iplot(fig2, filename='vertical-stacked-subplot-tables')"
   ]
  },
  {
   "cell_type": "code",
   "execution_count": 31,
   "metadata": {},
   "outputs": [
    {
     "name": "stdout",
     "output_type": "stream",
     "text": [
      "The draw time for this plot will be slow for clients without much RAM.\n"
     ]
    },
    {
     "data": {
      "text/html": [
       "<iframe id=\"igraph\" scrolling=\"no\" style=\"border:none;\" seamless=\"seamless\" src=\"https://plot.ly/~versag/12.embed\" height=\"1200px\" width=\"100%\"></iframe>"
      ],
      "text/plain": [
       "<plotly.tools.PlotlyDisplay object>"
      ]
     },
     "execution_count": 31,
     "metadata": {},
     "output_type": "execute_result"
    }
   ],
   "source": [
    "#'Time_VSpdTq', 'VdRef_V', 'Speed_Hz', 'VqRef_V', 'Torque_PercTnom', 'aa']\n",
    "trace8=go.Scatter(\n",
    "    x=voltag_torque_table[:,0],\n",
    "    y=voltag_torque_table[:,1],\n",
    "    xaxis='x1',\n",
    "    yaxis='y1',\n",
    "    mode='lines',\n",
    "    line=dict(width=2, color='#9748a1'),\n",
    "    name='VdRef_V vs Time_VSpdTq'\n",
    ")\n",
    "\n",
    "trace9=go.Scatter(\n",
    "    x=voltag_torque_table[:,0],\n",
    "    y=voltag_torque_table[:,2],\n",
    "    xaxis='x2',\n",
    "    yaxis='y2',\n",
    "    mode='lines',\n",
    "    line=dict(width=2, color='#b04553'),\n",
    "    name='SpeedHz vs Time_VSpdTq'\n",
    ")\n",
    "\n",
    "trace10=go.Scatter(\n",
    "    x=voltag_torque_table[:,0],\n",
    "    y=voltag_torque_table[:,3],\n",
    "    xaxis='x3',\n",
    "    yaxis='y3',\n",
    "    mode='lines',\n",
    "    line=dict(width=2, color='#af7bbd'),\n",
    "    name='VqRef_V vs Time_VSpdTq'\n",
    ")\n",
    "\n",
    "trace11=go.Scatter(\n",
    "    x=voltag_torque_table[:,0],\n",
    "    y=voltag_torque_table[:,4],\n",
    "    xaxis='x4',\n",
    "    yaxis='y4',\n",
    "    mode='lines',\n",
    "    line=dict(width=2, color='#ff7bbd'),\n",
    "    name='Torque_PercTnom vs Time_VSpdTq'\n",
    ")\n",
    "\n",
    "trace12=go.Scatter(\n",
    "    x=voltag_torque_table[:,0],\n",
    "    y=voltag_torque_table[:,5],\n",
    "    xaxis='x5',\n",
    "    yaxis='y5',\n",
    "    mode='lines',\n",
    "    line=dict(width=2, color='#afaabd'),\n",
    "    name='aa vs Time_VSpdTq'\n",
    ")\n",
    "\n",
    "axis=dict(\n",
    "    showline=True,\n",
    "    zeroline=False,\n",
    "    showgrid=True,\n",
    "    mirror=True, \n",
    "    ticklen=4, \n",
    "    gridcolor='#ffffff',\n",
    "    tickfont=dict(size=10)\n",
    ")\n",
    "\n",
    "layout3 = dict(\n",
    "    height=1200,\n",
    "    autosize=False,\n",
    "    title='lm68hz: Voltage, Torque and Speed vs Time',\n",
    "    margin = dict(t=100),\n",
    "    showlegend=False,          \n",
    "    xaxis1=dict(axis, **dict(domain=[0, 1], anchor='y1')),\n",
    "    xaxis2=dict(axis, **dict(domain=[0, 1], anchor='y2')),          \n",
    "    xaxis3=dict(axis, **dict(domain=[0, 1], anchor='y3')),\n",
    "    xaxis4=dict(axis, title='Time_VSpdTq', **dict(domain=[0, 1], anchor='y4')),\n",
    "    #xaxis5=dict(axis, **dict(domain=[0, 1], anchor='y5')),\n",
    "    \n",
    "    yaxis1=dict(axis, title='VdRef_V', **dict(domain=[0.80, 1], anchor='x1', ticksuffix='V', hoverformat='.2f')),  \n",
    "    yaxis2=dict(axis, title='SpeedHz', **dict(domain=[0.60, 0.79], anchor='x2', ticksuffix='Hz', hoverformat='.2f')),\n",
    "    yaxis3=dict(axis, title='VqRef_V', **dict(domain=[0.40, 0.59], anchor='x2', ticksuffix='V', hoverformat='.2f')),\n",
    "    yaxis4=dict(axis, title='Torque_PercTnom', **dict(domain=[0.20, 0.39], anchor='x4', ticksuffix='N-m', hoverformat='.2f')),\n",
    "    #yaxis5=dict(axis, **dict(domain=[0, 0.19], anchor='x5', hoverformat='.2f')),\n",
    "    \n",
    "    plot_bgcolor='rgba(228, 222, 249, 0.65)'\n",
    ")\n",
    "\n",
    "fig2 = dict(data=[trace8, trace9, trace10, trace11], layout=layout3)\n",
    "py.iplot(fig2, filename='vertical-stacked-subplot-tables')"
   ]
  },
  {
   "cell_type": "code",
   "execution_count": 43,
   "metadata": {},
   "outputs": [],
   "source": [
    "from plotly.offline import iplot, init_notebook_mode\n",
    "import plotly.graph_objs as go\n",
    "import plotly.io as pio\n",
    "\n",
    "import os\n",
    "import numpy as np"
   ]
  },
  {
   "cell_type": "code",
   "execution_count": null,
   "metadata": {},
   "outputs": [],
   "source": []
  },
  {
   "cell_type": "code",
   "execution_count": null,
   "metadata": {},
   "outputs": [],
   "source": []
  }
 ],
 "metadata": {
  "kernelspec": {
   "display_name": "Python 2",
   "language": "python",
   "name": "python2"
  },
  "language_info": {
   "codemirror_mode": {
    "name": "ipython",
    "version": 2
   },
   "file_extension": ".py",
   "mimetype": "text/x-python",
   "name": "python",
   "nbconvert_exporter": "python",
   "pygments_lexer": "ipython2",
   "version": "2.7.15"
  }
 },
 "nbformat": 4,
 "nbformat_minor": 2
}
