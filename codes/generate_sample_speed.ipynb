{
 "cells": [
  {
   "cell_type": "code",
   "execution_count": 2,
   "metadata": {},
   "outputs": [],
   "source": [
    "import os\n",
    "import csv\n",
    "\n",
    "import numpy as np\n",
    "\n",
    "import plotly\n",
    "import  plotly.plotly  as py\n",
    "import plotly.figure_factory as ff\n",
    "from plotly.offline import iplot, init_notebook_mode\n",
    "import plotly.io as pio\n",
    "import numpy as np\n",
    "\n",
    "import plotly.graph_objs as go\n",
    "\n",
    "import pandas as pd\n",
    "\n",
    "%matplotlib inline\n",
    "import matplotlib.pyplot as plt"
   ]
  },
  {
   "cell_type": "code",
   "execution_count": 3,
   "metadata": {},
   "outputs": [],
   "source": [
    "plotly.tools.set_credentials_file(username='versag', api_key='suPchLuFTri7xeKqxzlW')\n",
    "#init_notebook_mode(connected=True)\n",
    "np.set_printoptions(2)\n",
    "pd.set_option(\"display.precision\", 5)"
   ]
  },
  {
   "cell_type": "code",
   "execution_count": 4,
   "metadata": {},
   "outputs": [],
   "source": [
    "experiments = os.listdir('../datasets/tool_wear_detection_in_cnc/')"
   ]
  },
  {
   "cell_type": "code",
   "execution_count": 13,
   "metadata": {},
   "outputs": [],
   "source": [
    "dataset = []\n",
    "max_time = 0\n",
    "x1_cv_min, x1_cv_max = 10000, 0\n",
    "y1_cv_min, y1_cv_max = 10000, 0\n",
    "z1_cv_min, z1_cv_max = 10000, 0\n",
    "s1_cv_min, s1_cv_max = 10000, 0\n",
    "\n",
    "for experiment in experiments:\n",
    "    if 'experiment' in experiment:\n",
    "        df = pd.read_csv('../datasets/tool_wear_detection_in_cnc/' + experiment)\n",
    "#         x1_cv = (df['X1_CommandVelocity'] - (-20.0)) / (50 - (-20.0))\n",
    "#         y1_cv = (df['Y1_CommandVelocity'] - (-32.4)) / (50 - (-32.4))\n",
    "#         z1_cv = (df['Z1_CommandVelocity'] - (-50.0)) / (50 - (-50.0))\n",
    "        s1_cv = (df['S1_CommandVelocity'] - (0.0)) / (53.3 - 0.0)\n",
    "\n",
    "#         x1_cv_min = min(x1_cv_min, min(x1_cv))\n",
    "#         y1_cv_min = min(y1_cv_min, min(y1_cv))\n",
    "#         z1_cv_min = min(z1_cv_min, min(z1_cv))\n",
    "        s1_cv_min = min(s1_cv_min, min(s1_cv))\n",
    "\n",
    "#         x1_cv_max = max(x1_cv_max, max(x1_cv))\n",
    "#         y1_cv_max = max(y1_cv_max, max(y1_cv))\n",
    "#         z1_cv_max = max(z1_cv_max, max(z1_cv))\n",
    "        s1_cv_max = max(s1_cv_max, max(s1_cv))\n",
    "\n",
    "        new_s1_cv = [s1_cv[0]]\n",
    "        time = [0.00]\n",
    "        \n",
    "        t = 0.10\n",
    "        for v in s1_cv[1:]:\n",
    "            if v != new_s1_cv[-1]:\n",
    "                new_s1_cv.append(v)\n",
    "                time.append(t)\n",
    "            t += 0.10\n",
    "            \n",
    "        \n",
    "        load = [0, 1, 1]\n",
    "        load_time = [0, 1, time[-1]]\n",
    "        \n",
    "#         dataset.append(np.asarray([x1_cv, time]))\n",
    "#         dataset.append(np.asarray([y1_cv, time]))\n",
    "#         dataset.append(np.asarray([z1_cv, time]))\n",
    "        dataset.append(np.asarray([new_s1_cv, time, load, load_time, load_time[-1]]))\n",
    "        \n",
    "        max_time = max(len(time), max_time)\n",
    "        \n",
    "        #print s1_cv, new_s1_cv, time, load, load_time\n",
    "        #break"
   ]
  },
  {
   "cell_type": "code",
   "execution_count": 14,
   "metadata": {},
   "outputs": [],
   "source": [
    "fout = open('../datasets/sample_speeds.txt', 'w')\n",
    "\n",
    "for data in dataset:\n",
    "    fout.write('[')\n",
    "    for d in data[1]:\n",
    "        fout.write(\"{0:.2f}\".format(d) + ' ')\n",
    "    fout.write(']\\n')\n",
    "    \n",
    "    fout.write('[')\n",
    "    for d in data[0]:\n",
    "        fout.write(\"{0:.2f}\".format(d) + ' ')\n",
    "    fout.write(']*2*pi*50\\n')\n",
    "    \n",
    "    fout.write('[')\n",
    "    for d in data[3]:\n",
    "        fout.write(\"{0:.2f}\".format(d) + ' ')\n",
    "    fout.write(']\\n')\n",
    "    \n",
    "    fout.write('[')\n",
    "    for d in data[2]:\n",
    "        fout.write(\"{0:.2f}\".format(d) + ' ')\n",
    "    fout.write(']\\n')\n",
    "    \n",
    "    fout.write(str(data[4]) + '\\n')\n",
    "\n",
    "fout.close()"
   ]
  },
  {
   "cell_type": "code",
   "execution_count": null,
   "metadata": {},
   "outputs": [],
   "source": []
  },
  {
   "cell_type": "code",
   "execution_count": 1,
   "metadata": {},
   "outputs": [],
   "source": []
  },
  {
   "cell_type": "code",
   "execution_count": 3,
   "metadata": {},
   "outputs": [],
   "source": []
  },
  {
   "cell_type": "code",
   "execution_count": null,
   "metadata": {},
   "outputs": [],
   "source": []
  },
  {
   "cell_type": "code",
   "execution_count": null,
   "metadata": {},
   "outputs": [],
   "source": []
  }
 ],
 "metadata": {
  "kernelspec": {
   "display_name": "Python 2",
   "language": "python",
   "name": "python2"
  },
  "language_info": {
   "codemirror_mode": {
    "name": "ipython",
    "version": 2
   },
   "file_extension": ".py",
   "mimetype": "text/x-python",
   "name": "python",
   "nbconvert_exporter": "python",
   "pygments_lexer": "ipython2",
   "version": "2.7.15"
  }
 },
 "nbformat": 4,
 "nbformat_minor": 2
}
