{
 "cells": [
  {
   "cell_type": "code",
   "execution_count": 2,
   "metadata": {},
   "outputs": [],
   "source": [
    "import scipy.io as sio\n",
    "import os\n",
    "import numpy as np\n",
    "\n",
    "%matplotlib inline\n",
    "import matplotlib.pyplot as plt"
   ]
  },
  {
   "cell_type": "code",
   "execution_count": 49,
   "metadata": {},
   "outputs": [],
   "source": [
    "plotly.tools.set_credentials_file(username='versag', api_key='suPchLuFTri7xeKqxzlW')\n",
    "#init_notebook_mode(connected=True)\n",
    "np.set_printoptions(2)"
   ]
  },
  {
   "cell_type": "code",
   "execution_count": 50,
   "metadata": {},
   "outputs": [],
   "source": [
    "data = os.listdir('../datasets/')"
   ]
  },
  {
   "cell_type": "code",
   "execution_count": null,
   "metadata": {},
   "outputs": [],
   "source": []
  },
  {
   "cell_type": "code",
   "execution_count": 51,
   "metadata": {},
   "outputs": [],
   "source": [
    "lm10hz = sio.loadmat('../datasets/nicolas/OFVC4kW_LM10Hz_paliers_0to120PercTnom_Data.mat')\n",
    "lm30hz = sio.loadmat('../datasets/nicolas/OFVC4kW_LM30Hz_paliers_0to120PercTnom_Data.mat')\n",
    "lm50hz = sio.loadmat('../datasets/nicolas/OFVC4kW_LM50Hz_paliers_0to120PercTnom_Data.mat')\n",
    "lm68hz = sio.loadmat('../datasets/nicolas/OFVC4kW_LM68Hz_paliers_0to120PercTnom_Data.mat')\n",
    "nolm = sio.loadmat('../datasets/nicolas/OFVC4kW_NoLM_paliers_0to100Hz_Data.mat')\n",
    "\n",
    "data_map = {'lm10hz': lm10hz, 'lm30hz': lm30hz, 'lm50hz': lm50hz, 'lm68hz': lm68hz, 'nolm': nolm}"
   ]
  },
  {
   "cell_type": "code",
   "execution_count": 41,
   "metadata": {},
   "outputs": [
    {
     "name": "stdout",
     "output_type": "stream",
     "text": [
      "Features in each dataset\n"
     ]
    }
   ],
   "source": [
    "print_stmt = [['rate','aa', 'VdRef_V', 'VariableSpd', 'IdMeas_A', 'bb', 'VariableQ', \\\n",
    "        'Time_VSpdTq', 'VariableTq', 'Speed_Hz', 'IqMeas_A', 'VqRef_V', \\\n",
    "        'Time', 'Torque_PercTnom', 'VariableD', 'Time_I']]\n",
    "for k in data_map.keys():\n",
    "    this_row = [k]\n",
    "    for dk in data_map[k].keys():\n",
    "        if '__' not in dk:\n",
    "            this_row.append(dk)\n",
    "    print_stmt.append(this_row)\n",
    "\n",
    "print \"Features in each dataset\"\n",
    "table = ff.create_table(print_stmt)\n",
    "#py.iplot(table, filename='features-in-each-dataset')"
   ]
  },
  {
   "cell_type": "code",
   "execution_count": 52,
   "metadata": {},
   "outputs": [
    {
     "name": "stdout",
     "output_type": "stream",
     "text": [
      "Dimension of each feature in the dataset\n"
     ]
    },
    {
     "data": {
      "text/html": [
       "<iframe id=\"igraph\" scrolling=\"no\" style=\"border:none;\" seamless=\"seamless\" src=\"https://plot.ly/~versag/20.embed\" height=\"230px\" width=\"100%\"></iframe>"
      ],
      "text/plain": [
       "<plotly.tools.PlotlyDisplay object>"
      ]
     },
     "execution_count": 52,
     "metadata": {},
     "output_type": "execute_result"
    }
   ],
   "source": [
    "print_stmt = [['rate','aa', 'VdRef_V', 'VariableSpd', 'IdMeas_A', 'bb', 'VariableQ', \\\n",
    "        'Time_VSpdTq', 'VariableTq', 'Speed_Hz', 'IqMeas_A', 'VqRef_V', \\\n",
    "        'Time', 'Torque_PercTnom', 'VariableD', 'Time_I']]\n",
    "\n",
    "for k in data_map.keys():\n",
    "    this_row = [k]\n",
    "    for dk in print_stmt[0][1:]:\n",
    "        this_row.append(data_map[k][dk].shape)\n",
    "    print_stmt.append(this_row)\n",
    "\n",
    "print \"Dimension of each feature in the dataset\"\n",
    "table = ff.create_table(print_stmt)\n",
    "py.iplot(table, filename='feat-dimensions')\n",
    "#pio.write_image(table, '../docs/images/dimension_of_features_in_dataset.pdf', height=300, width=1200)"
   ]
  },
  {
   "cell_type": "code",
   "execution_count": 53,
   "metadata": {},
   "outputs": [
    {
     "name": "stdout",
     "output_type": "stream",
     "text": [
      "Maxiumum value of each feature in the dataset\n"
     ]
    },
    {
     "data": {
      "text/html": [
       "<iframe id=\"igraph\" scrolling=\"no\" style=\"border:none;\" seamless=\"seamless\" src=\"https://plot.ly/~versag/22.embed\" height=\"230px\" width=\"100%\"></iframe>"
      ],
      "text/plain": [
       "<plotly.tools.PlotlyDisplay object>"
      ]
     },
     "execution_count": 53,
     "metadata": {},
     "output_type": "execute_result"
    }
   ],
   "source": [
    "print_stmt = [['rate','aa', 'VdRef_V', 'VariableSpd', 'IdMeas_A', 'bb', 'VariableQ', \\\n",
    "        'Time_VSpdTq', 'VariableTq', 'Speed_Hz', 'IqMeas_A', 'VqRef_V', \\\n",
    "        'Time', 'Torque_PercTnom', 'VariableD', 'Time_I']]\n",
    "\n",
    "\n",
    "for k in data_map.keys():\n",
    "    this_row = [k]\n",
    "    for dk in print_stmt[0][1:]:\n",
    "        this_row.append(np.around(data_map[k][dk].max(), 2))\n",
    "    print_stmt.append(this_row)\n",
    "\n",
    "print \"Maxiumum value of each feature in the dataset\"\n",
    "table = ff.create_table(print_stmt)\n",
    "py.iplot(table, filename='feat-max')\n",
    "#pio.write_image(table, '../docs/images/max_values_of_features_in_dataset.pdf', height=300, width=1200)"
   ]
  },
  {
   "cell_type": "code",
   "execution_count": 54,
   "metadata": {},
   "outputs": [
    {
     "name": "stdout",
     "output_type": "stream",
     "text": [
      "Minimum value of each feature in the dataset\n"
     ]
    },
    {
     "data": {
      "text/html": [
       "<iframe id=\"igraph\" scrolling=\"no\" style=\"border:none;\" seamless=\"seamless\" src=\"https://plot.ly/~versag/24.embed\" height=\"230px\" width=\"100%\"></iframe>"
      ],
      "text/plain": [
       "<plotly.tools.PlotlyDisplay object>"
      ]
     },
     "execution_count": 54,
     "metadata": {},
     "output_type": "execute_result"
    }
   ],
   "source": [
    "print_stmt = [['rate','aa', 'VdRef_V', 'VariableSpd', 'IdMeas_A', 'bb', 'VariableQ', \\\n",
    "        'Time_VSpdTq', 'VariableTq', 'Speed_Hz', 'IqMeas_A', 'VqRef_V', \\\n",
    "        'Time', 'Torque_PercTnom', 'VariableD', 'Time_I']]\n",
    "\n",
    "\n",
    "for k in data_map.keys():\n",
    "    this_row = [k]\n",
    "    for dk in print_stmt[0][1:]:\n",
    "        this_row.append(np.around(data_map[k][dk].min(), 2))\n",
    "    print_stmt.append(this_row)\n",
    "\n",
    "print \"Minimum value of each feature in the dataset\"\n",
    "table = ff.create_table(print_stmt)\n",
    "py.iplot(table, filename='feat-min')\n",
    "#pio.write_image(table, '../docs/images/min_values_of_features_in_dataset.pdf', height=300, width=1200)"
   ]
  },
  {
   "cell_type": "code",
   "execution_count": 72,
   "metadata": {},
   "outputs": [
    {
     "name": "stdout",
     "output_type": "stream",
     "text": [
      "Mean value of each feature in the dataset\n"
     ]
    },
    {
     "data": {
      "text/html": [
       "<iframe id=\"igraph\" scrolling=\"no\" style=\"border:none;\" seamless=\"seamless\" src=\"https://plot.ly/~versag/46.embed\" height=\"230px\" width=\"100%\"></iframe>"
      ],
      "text/plain": [
       "<plotly.tools.PlotlyDisplay object>"
      ]
     },
     "execution_count": 72,
     "metadata": {},
     "output_type": "execute_result"
    }
   ],
   "source": [
    "print_stmt = [['rate','aa', 'VdRef_V', 'VariableSpd', 'IdMeas_A', 'bb', 'VariableQ', \\\n",
    "        'Time_VSpdTq', 'VariableTq', 'Speed_Hz', 'IqMeas_A', 'VqRef_V', \\\n",
    "        'Time', 'Torque_PercTnom', 'VariableD', 'Time_I']]\n",
    "\n",
    "\n",
    "for k in data_map.keys():\n",
    "    this_row = [k]\n",
    "    for dk in print_stmt[0][1:]:\n",
    "        this_row.append(np.around(data_map[k][dk].mean(), 2))\n",
    "    print_stmt.append(this_row)\n",
    "\n",
    "print \"Mean value of each feature in the dataset\"\n",
    "table = ff.create_table(print_stmt)\n",
    "py.iplot(table, filename='feat-mean')\n",
    "#pio.write_image(table, '../docs/images/mean_values_of_features_in_dataset.pdf', height=300, width=1200)"
   ]
  },
  {
   "cell_type": "code",
   "execution_count": 56,
   "metadata": {},
   "outputs": [
    {
     "name": "stdout",
     "output_type": "stream",
     "text": [
      "Standard deviation value of each feature in the dataset\n"
     ]
    },
    {
     "data": {
      "text/html": [
       "<iframe id=\"igraph\" scrolling=\"no\" style=\"border:none;\" seamless=\"seamless\" src=\"https://plot.ly/~versag/28.embed\" height=\"230px\" width=\"100%\"></iframe>"
      ],
      "text/plain": [
       "<plotly.tools.PlotlyDisplay object>"
      ]
     },
     "execution_count": 56,
     "metadata": {},
     "output_type": "execute_result"
    }
   ],
   "source": [
    "print_stmt = [['rate','aa', 'VdRef_V', 'VariableSpd', 'IdMeas_A', 'bb', 'VariableQ', \\\n",
    "        'Time_VSpdTq', 'VariableTq', 'Speed_Hz', 'IqMeas_A', 'VqRef_V', \\\n",
    "        'Time', 'Torque_PercTnom', 'VariableD', 'Time_I']]\n",
    "\n",
    "for k in data_map.keys():\n",
    "    this_row = [k]\n",
    "    for dk in print_stmt[0][1:]:\n",
    "        this_row.append(np.around(data_map[k][dk].std(), 2))\n",
    "    print_stmt.append(this_row)\n",
    "\n",
    "print \"Standard deviation value of each feature in the dataset\"\n",
    "table = ff.create_table(print_stmt)\n",
    "py.iplot(table, filename='feat-std')\n",
    "#pio.write_image(table, '../docs/images/std_values_of_features_in_dataset.pdf', height=300, width=1200)"
   ]
  },
  {
   "cell_type": "code",
   "execution_count": 57,
   "metadata": {},
   "outputs": [],
   "source": [
    "current_table = np.hstack([data_map['nolm']['Time_I'], data_map['nolm']['IdMeas_A'], data_map['nolm']['IqMeas_A'], data_map['nolm']['bb']])\n",
    "variable_table = np.hstack([data_map['nolm']['Time'], data_map['nolm']['VariableSpd'], data_map['nolm']['VariableQ'], data_map['nolm']['VariableTq'], data_map['nolm']['VariableD']])\n",
    "voltag_torque_table = np.hstack([data_map['nolm']['Time_VSpdTq'], data_map['nolm']['VdRef_V'], data_map['nolm']['Speed_Hz'], data_map['nolm']['VqRef_V'], data_map['nolm']['Torque_PercTnom'], data_map['nolm']['aa']])"
   ]
  },
  {
   "cell_type": "code",
   "execution_count": 58,
   "metadata": {},
   "outputs": [
    {
     "data": {
      "text/html": [
       "<iframe id=\"igraph\" scrolling=\"no\" style=\"border:none;\" seamless=\"seamless\" src=\"https://plot.ly/~versag/14.embed\" height=\"525px\" width=\"100%\"></iframe>"
      ],
      "text/plain": [
       "<plotly.tools.PlotlyDisplay object>"
      ]
     },
     "execution_count": 58,
     "metadata": {},
     "output_type": "execute_result"
    }
   ],
   "source": [
    "trace1=go.Scatter(\n",
    "    x=current_table[:,0],\n",
    "    y=current_table[:,1],\n",
    "    xaxis='x1',\n",
    "    yaxis='y1',\n",
    "    mode='lines',\n",
    "    line=dict(width=2, color='#9748a1'),\n",
    "    name='IdMeas_A vs Time'\n",
    ")\n",
    "\n",
    "trace2=go.Scatter(\n",
    "    x=current_table[:,0],\n",
    "    y=current_table[:,2],\n",
    "    xaxis='x2',\n",
    "    yaxis='y2',\n",
    "    mode='lines',\n",
    "    line=dict(width=2, color='#b04553'),\n",
    "    name='IqMeas_A vs Time'\n",
    ")\n",
    "\n",
    "trace3=go.Scatter(\n",
    "    x=current_table[:,0],\n",
    "    y=current_table[:,3],\n",
    "    xaxis='x3',\n",
    "    yaxis='y3',\n",
    "    mode='lines',\n",
    "    line=dict(width=2, color='#af7bbd'),\n",
    "    name='bb vs Time'\n",
    ")\n",
    "\n",
    "axis=dict(\n",
    "    showline=True,\n",
    "    zeroline=False,\n",
    "    showgrid=True,\n",
    "    mirror=True, \n",
    "    ticklen=4, \n",
    "    gridcolor='#ffffff',\n",
    "    tickfont=dict(size=10)\n",
    ")\n",
    "\n",
    "layout1 = dict(\n",
    "    autosize=False,\n",
    "    title='nolm: Current variable vs Time',\n",
    "    margin = dict(t=100),\n",
    "    showlegend=False,          \n",
    "    xaxis1=dict(axis, **dict(domain=[0, 1], anchor='y1')),\n",
    "    xaxis2=dict(axis, title='Time_I', **dict(domain=[0, 1], anchor='y2')),          \n",
    "    #xaxis3=dict(axis, **dict(domain=[0, 1], anchor='y3')), \n",
    "    yaxis1=dict(axis, title='IdMeas_A', **dict(domain=[0.64, 1], anchor='x1', ticksuffix='A', hoverformat='.2f')),  \n",
    "    yaxis2=dict(axis, title='IqMeas_A', **dict(domain=[0.22, 0.62], anchor='x2', ticksuffix='A', hoverformat='.2f')),\n",
    "    #yaxis3=dict(axis, **dict(domain=[0, 0.2], anchor='x3', hoverformat='.2f')),\n",
    "    plot_bgcolor='rgba(228, 222, 249, 0.65)'\n",
    ")\n",
    "\n",
    "fig2 = dict(data=[trace1, trace2], layout=layout1)\n",
    "py.iplot(fig2, filename='nolm-current-vs-time')\n",
    "#pio.write_image(fig2, '../docs/images/nolm_current_vs_time.pdf', height=600, width=1200)"
   ]
  },
  {
   "cell_type": "code",
   "execution_count": 59,
   "metadata": {},
   "outputs": [
    {
     "name": "stdout",
     "output_type": "stream",
     "text": [
      "The draw time for this plot will be slow for clients without much RAM.\n"
     ]
    },
    {
     "name": "stderr",
     "output_type": "stream",
     "text": [
      "/home/sv/anaconda2/lib/python2.7/site-packages/plotly/api/v1/clientresp.py:40: UserWarning:\n",
      "\n",
      "Estimated Draw Time Slow\n",
      "\n"
     ]
    },
    {
     "data": {
      "text/html": [
       "<iframe id=\"igraph\" scrolling=\"no\" style=\"border:none;\" seamless=\"seamless\" src=\"https://plot.ly/~versag/16.embed\" height=\"1200px\" width=\"100%\"></iframe>"
      ],
      "text/plain": [
       "<plotly.tools.PlotlyDisplay object>"
      ]
     },
     "execution_count": 59,
     "metadata": {},
     "output_type": "execute_result"
    }
   ],
   "source": [
    "#'Time_VSpdTq', 'VdRef_V', 'Speed_Hz', 'VqRef_V', 'Torque_PercTnom', 'aa']\n",
    "trace8=go.Scatter(\n",
    "    x=voltag_torque_table[:,0],\n",
    "    y=voltag_torque_table[:,1],\n",
    "    xaxis='x1',\n",
    "    yaxis='y1',\n",
    "    mode='lines',\n",
    "    line=dict(width=2, color='#9748a1'),\n",
    "    name='VdRef_V vs Time_VSpdTq'\n",
    ")\n",
    "\n",
    "trace9=go.Scatter(\n",
    "    x=voltag_torque_table[:,0],\n",
    "    y=voltag_torque_table[:,2],\n",
    "    xaxis='x2',\n",
    "    yaxis='y2',\n",
    "    mode='lines',\n",
    "    line=dict(width=2, color='#b04553'),\n",
    "    name='SpeedHz vs Time_VSpdTq'\n",
    ")\n",
    "\n",
    "trace10=go.Scatter(\n",
    "    x=voltag_torque_table[:,0],\n",
    "    y=voltag_torque_table[:,3],\n",
    "    xaxis='x3',\n",
    "    yaxis='y3',\n",
    "    mode='lines',\n",
    "    line=dict(width=2, color='#af7bbd'),\n",
    "    name='VqRef_V vs Time_VSpdTq'\n",
    ")\n",
    "\n",
    "trace11=go.Scatter(\n",
    "    x=voltag_torque_table[:,0],\n",
    "    y=voltag_torque_table[:,4],\n",
    "    xaxis='x4',\n",
    "    yaxis='y4',\n",
    "    mode='lines',\n",
    "    line=dict(width=2, color='#ff7bbd'),\n",
    "    name='Torque_PercTnom vs Time_VSpdTq'\n",
    ")\n",
    "\n",
    "trace12=go.Scatter(\n",
    "    x=voltag_torque_table[:,0],\n",
    "    y=voltag_torque_table[:,5],\n",
    "    xaxis='x5',\n",
    "    yaxis='y5',\n",
    "    mode='lines',\n",
    "    line=dict(width=2, color='#afaabd'),\n",
    "    name='aa vs Time_VSpdTq'\n",
    ")\n",
    "\n",
    "axis=dict(\n",
    "    showline=True,\n",
    "    zeroline=False,\n",
    "    showgrid=True,\n",
    "    mirror=True, \n",
    "    ticklen=4, \n",
    "    gridcolor='#ffffff',\n",
    "    tickfont=dict(size=10)\n",
    ")\n",
    "\n",
    "layout3 = dict(\n",
    "    height=1200,\n",
    "    autosize=False,\n",
    "    title='nolm: Voltage, Torque and Speed vs Time',\n",
    "    margin = dict(t=100),\n",
    "    showlegend=False,          \n",
    "    xaxis1=dict(axis, **dict(domain=[0, 1], anchor='y1')),\n",
    "    xaxis2=dict(axis, **dict(domain=[0, 1], anchor='y2')),          \n",
    "    xaxis3=dict(axis, **dict(domain=[0, 1], anchor='y3')),\n",
    "    xaxis4=dict(axis, title='Time_VSpdTq', **dict(domain=[0, 1], anchor='y4')),\n",
    "    #xaxis5=dict(axis, **dict(domain=[0, 1], anchor='y5')),\n",
    "    \n",
    "    yaxis1=dict(axis, title='VdRef_V', **dict(domain=[0.80, 1], anchor='x1', ticksuffix='V', hoverformat='.2f')),  \n",
    "    yaxis2=dict(axis, title='SpeedHz', **dict(domain=[0.60, 0.79], anchor='x2', ticksuffix='Hz', hoverformat='.2f')),\n",
    "    yaxis3=dict(axis, title='VqRef_V', **dict(domain=[0.40, 0.59], anchor='x2', ticksuffix='V', hoverformat='.2f')),\n",
    "    yaxis4=dict(axis, title='Torque_PercTnom', **dict(domain=[0.20, 0.39], anchor='x4', ticksuffix='N-m', hoverformat='.2f')),\n",
    "    #yaxis5=dict(axis, **dict(domain=[0, 0.19], anchor='x5', hoverformat='.2f')),\n",
    "    \n",
    "    plot_bgcolor='rgba(228, 222, 249, 0.65)'\n",
    ")\n",
    "\n",
    "fig2 = dict(data=[trace8, trace9, trace10, trace11], layout=layout3)\n",
    "py.iplot(fig2, filename='nolm-voltage-torque-speed-vs-time')\n",
    "#pio.write_image(fig2, '../docs/images/nolm_voltage_torque_speed_vs_time.pdf', height=1200, width=1200)"
   ]
  },
  {
   "cell_type": "code",
   "execution_count": 60,
   "metadata": {},
   "outputs": [],
   "source": [
    "current_table = np.hstack([data_map['lm10hz']['Time_I'], data_map['lm10hz']['IdMeas_A'], data_map['lm10hz']['IqMeas_A'], data_map['lm10hz']['bb']])\n",
    "variable_table = np.hstack([data_map['lm10hz']['Time'], data_map['lm10hz']['VariableSpd'], data_map['lm10hz']['VariableQ'], data_map['lm10hz']['VariableTq'], data_map['lm10hz']['VariableD']])\n",
    "voltag_torque_table = np.hstack([data_map['lm10hz']['Time_VSpdTq'], data_map['lm10hz']['VdRef_V'], data_map['lm10hz']['Speed_Hz'], data_map['lm10hz']['VqRef_V'], data_map['lm10hz']['Torque_PercTnom'], data_map['lm10hz']['aa']])"
   ]
  },
  {
   "cell_type": "code",
   "execution_count": 61,
   "metadata": {},
   "outputs": [
    {
     "data": {
      "text/html": [
       "<iframe id=\"igraph\" scrolling=\"no\" style=\"border:none;\" seamless=\"seamless\" src=\"https://plot.ly/~versag/30.embed\" height=\"525px\" width=\"100%\"></iframe>"
      ],
      "text/plain": [
       "<plotly.tools.PlotlyDisplay object>"
      ]
     },
     "execution_count": 61,
     "metadata": {},
     "output_type": "execute_result"
    }
   ],
   "source": [
    "trace1=go.Scatter(\n",
    "    x=current_table[:,0],\n",
    "    y=current_table[:,1],\n",
    "    xaxis='x1',\n",
    "    yaxis='y1',\n",
    "    mode='lines',\n",
    "    line=dict(width=2, color='#9748a1'),\n",
    "    name='IdMeas_A vs Time'\n",
    ")\n",
    "\n",
    "trace2=go.Scatter(\n",
    "    x=current_table[:,0],\n",
    "    y=current_table[:,2],\n",
    "    xaxis='x2',\n",
    "    yaxis='y2',\n",
    "    mode='lines',\n",
    "    line=dict(width=2, color='#b04553'),\n",
    "    name='IqMeas_A vs Time'\n",
    ")\n",
    "\n",
    "trace3=go.Scatter(\n",
    "    x=current_table[:,0],\n",
    "    y=current_table[:,3],\n",
    "    xaxis='x3',\n",
    "    yaxis='y3',\n",
    "    mode='lines',\n",
    "    line=dict(width=2, color='#af7bbd'),\n",
    "    name='bb vs Time'\n",
    ")\n",
    "\n",
    "axis=dict(\n",
    "    showline=True,\n",
    "    zeroline=False,\n",
    "    showgrid=True,\n",
    "    mirror=True, \n",
    "    ticklen=4, \n",
    "    gridcolor='#ffffff',\n",
    "    tickfont=dict(size=10)\n",
    ")\n",
    "\n",
    "layout1 = dict(\n",
    "    autosize=False,\n",
    "    title='lm10hz: Current variable vs Time',\n",
    "    margin = dict(t=100),\n",
    "    showlegend=False,          \n",
    "    xaxis1=dict(axis, **dict(domain=[0, 1], anchor='y1')),\n",
    "    xaxis2=dict(axis, title='Time_I', **dict(domain=[0, 1], anchor='y2')),          \n",
    "    #xaxis3=dict(axis, **dict(domain=[0, 1], anchor='y3')), \n",
    "    yaxis1=dict(axis, title='IdMeas_A', **dict(domain=[0.64, 1], anchor='x1', ticksuffix='A', hoverformat='.2f')),  \n",
    "    yaxis2=dict(axis, title='IqMeas_A', **dict(domain=[0.22, 0.62], anchor='x2', ticksuffix='A', hoverformat='.2f')),\n",
    "    #yaxis3=dict(axis, **dict(domain=[0, 0.2], anchor='x3', hoverformat='.2f')),\n",
    "    plot_bgcolor='rgba(228, 222, 249, 0.65)'\n",
    ")\n",
    "\n",
    "fig2 = dict(data=[trace1, trace2], layout=layout1)\n",
    "py.iplot(fig2, filename='lm10hz-current-vs-time')\n",
    "#pio.write_image(fig2, '../docs/images/lm10hz_current_vs_time.pdf', height=600, width=1200)"
   ]
  },
  {
   "cell_type": "code",
   "execution_count": 62,
   "metadata": {},
   "outputs": [
    {
     "name": "stdout",
     "output_type": "stream",
     "text": [
      "The draw time for this plot will be slow for clients without much RAM.\n"
     ]
    },
    {
     "data": {
      "text/html": [
       "<iframe id=\"igraph\" scrolling=\"no\" style=\"border:none;\" seamless=\"seamless\" src=\"https://plot.ly/~versag/32.embed\" height=\"1200px\" width=\"100%\"></iframe>"
      ],
      "text/plain": [
       "<plotly.tools.PlotlyDisplay object>"
      ]
     },
     "execution_count": 62,
     "metadata": {},
     "output_type": "execute_result"
    }
   ],
   "source": [
    "#'Time_VSpdTq', 'VdRef_V', 'Speed_Hz', 'VqRef_V', 'Torque_PercTnom', 'aa']\n",
    "trace8=go.Scatter(\n",
    "    x=voltag_torque_table[:,0],\n",
    "    y=voltag_torque_table[:,1],\n",
    "    xaxis='x1',\n",
    "    yaxis='y1',\n",
    "    mode='lines',\n",
    "    line=dict(width=2, color='#9748a1'),\n",
    "    name='VdRef_V vs Time_VSpdTq'\n",
    ")\n",
    "\n",
    "trace9=go.Scatter(\n",
    "    x=voltag_torque_table[:,0],\n",
    "    y=voltag_torque_table[:,2],\n",
    "    xaxis='x2',\n",
    "    yaxis='y2',\n",
    "    mode='lines',\n",
    "    line=dict(width=2, color='#b04553'),\n",
    "    name='SpeedHz vs Time_VSpdTq'\n",
    ")\n",
    "\n",
    "trace10=go.Scatter(\n",
    "    x=voltag_torque_table[:,0],\n",
    "    y=voltag_torque_table[:,3],\n",
    "    xaxis='x3',\n",
    "    yaxis='y3',\n",
    "    mode='lines',\n",
    "    line=dict(width=2, color='#af7bbd'),\n",
    "    name='VqRef_V vs Time_VSpdTq'\n",
    ")\n",
    "\n",
    "trace11=go.Scatter(\n",
    "    x=voltag_torque_table[:,0],\n",
    "    y=voltag_torque_table[:,4],\n",
    "    xaxis='x4',\n",
    "    yaxis='y4',\n",
    "    mode='lines',\n",
    "    line=dict(width=2, color='#ff7bbd'),\n",
    "    name='Torque_PercTnom vs Time_VSpdTq'\n",
    ")\n",
    "\n",
    "trace12=go.Scatter(\n",
    "    x=voltag_torque_table[:,0],\n",
    "    y=voltag_torque_table[:,5],\n",
    "    xaxis='x5',\n",
    "    yaxis='y5',\n",
    "    mode='lines',\n",
    "    line=dict(width=2, color='#afaabd'),\n",
    "    name='aa vs Time_VSpdTq'\n",
    ")\n",
    "\n",
    "axis=dict(\n",
    "    showline=True,\n",
    "    zeroline=False,\n",
    "    showgrid=True,\n",
    "    mirror=True, \n",
    "    ticklen=4, \n",
    "    gridcolor='#ffffff',\n",
    "    tickfont=dict(size=10)\n",
    ")\n",
    "\n",
    "layout3 = dict(\n",
    "    height=1200,\n",
    "    autosize=False,\n",
    "    title='lm10hz: Voltage, Torque and Speed vs Time',\n",
    "    margin = dict(t=100),\n",
    "    showlegend=False,          \n",
    "    xaxis1=dict(axis, **dict(domain=[0, 1], anchor='y1')),\n",
    "    xaxis2=dict(axis, **dict(domain=[0, 1], anchor='y2')),          \n",
    "    xaxis3=dict(axis, **dict(domain=[0, 1], anchor='y3')),\n",
    "    xaxis4=dict(axis, title='Time_VSpdTq', **dict(domain=[0, 1], anchor='y4')),\n",
    "    #xaxis5=dict(axis, **dict(domain=[0, 1], anchor='y5')),\n",
    "    \n",
    "    yaxis1=dict(axis, title='VdRef_V', **dict(domain=[0.80, 1], anchor='x1', ticksuffix='V', hoverformat='.2f')),  \n",
    "    yaxis2=dict(axis, title='SpeedHz', **dict(domain=[0.60, 0.79], anchor='x2', ticksuffix='Hz', hoverformat='.2f')),\n",
    "    yaxis3=dict(axis, title='VqRef_V', **dict(domain=[0.40, 0.59], anchor='x2', ticksuffix='V', hoverformat='.2f')),\n",
    "    yaxis4=dict(axis, title='Torque_PercTnom', **dict(domain=[0.20, 0.39], anchor='x4', ticksuffix='N-m', hoverformat='.2f')),\n",
    "    #yaxis5=dict(axis, **dict(domain=[0, 0.19], anchor='x5', hoverformat='.2f')),\n",
    "    \n",
    "    plot_bgcolor='rgba(228, 222, 249, 0.65)'\n",
    ")\n",
    "\n",
    "fig2 = dict(data=[trace8, trace9, trace10, trace11], layout=layout3)\n",
    "py.iplot(fig2, filename='lm10hz-voltage-torque-speed-vs-time')\n",
    "#pio.write_image(fig2, '../docs/images/lm10hz_voltage_torque_speed_vs_time.pdf', height=1200, width=1200)"
   ]
  },
  {
   "cell_type": "code",
   "execution_count": 63,
   "metadata": {},
   "outputs": [],
   "source": [
    "current_table = np.hstack([data_map['lm30hz']['Time_I'], data_map['lm30hz']['IdMeas_A'], data_map['lm30hz']['IqMeas_A'], data_map['lm30hz']['bb']])\n",
    "variable_table = np.hstack([data_map['lm30hz']['Time'], data_map['lm30hz']['VariableSpd'], data_map['lm30hz']['VariableQ'], data_map['lm30hz']['VariableTq'], data_map['lm30hz']['VariableD']])\n",
    "voltag_torque_table = np.hstack([data_map['lm30hz']['Time_VSpdTq'], data_map['lm30hz']['VdRef_V'], data_map['lm30hz']['Speed_Hz'], data_map['lm30hz']['VqRef_V'], data_map['lm30hz']['Torque_PercTnom'], data_map['lm30hz']['aa']])"
   ]
  },
  {
   "cell_type": "code",
   "execution_count": 64,
   "metadata": {},
   "outputs": [
    {
     "data": {
      "text/html": [
       "<iframe id=\"igraph\" scrolling=\"no\" style=\"border:none;\" seamless=\"seamless\" src=\"https://plot.ly/~versag/34.embed\" height=\"525px\" width=\"100%\"></iframe>"
      ],
      "text/plain": [
       "<plotly.tools.PlotlyDisplay object>"
      ]
     },
     "execution_count": 64,
     "metadata": {},
     "output_type": "execute_result"
    }
   ],
   "source": [
    "trace1=go.Scatter(\n",
    "    x=current_table[:,0],\n",
    "    y=current_table[:,1],\n",
    "    xaxis='x1',\n",
    "    yaxis='y1',\n",
    "    mode='lines',\n",
    "    line=dict(width=2, color='#9748a1'),\n",
    "    name='IdMeas_A vs Time'\n",
    ")\n",
    "\n",
    "trace2=go.Scatter(\n",
    "    x=current_table[:,0],\n",
    "    y=current_table[:,2],\n",
    "    xaxis='x2',\n",
    "    yaxis='y2',\n",
    "    mode='lines',\n",
    "    line=dict(width=2, color='#b04553'),\n",
    "    name='IqMeas_A vs Time'\n",
    ")\n",
    "\n",
    "trace3=go.Scatter(\n",
    "    x=current_table[:,0],\n",
    "    y=current_table[:,3],\n",
    "    xaxis='x3',\n",
    "    yaxis='y3',\n",
    "    mode='lines',\n",
    "    line=dict(width=2, color='#af7bbd'),\n",
    "    name='bb vs Time'\n",
    ")\n",
    "\n",
    "axis=dict(\n",
    "    showline=True,\n",
    "    zeroline=False,\n",
    "    showgrid=True,\n",
    "    mirror=True, \n",
    "    ticklen=4, \n",
    "    gridcolor='#ffffff',\n",
    "    tickfont=dict(size=10)\n",
    ")\n",
    "\n",
    "layout1 = dict(\n",
    "    autosize=False,\n",
    "    title='lm30hz: Current variable vs Time',\n",
    "    margin = dict(t=100),\n",
    "    showlegend=False,          \n",
    "    xaxis1=dict(axis, **dict(domain=[0, 1], anchor='y1')),\n",
    "    xaxis2=dict(axis, title='Time_I', **dict(domain=[0, 1], anchor='y2')),          \n",
    "    #xaxis3=dict(axis, **dict(domain=[0, 1], anchor='y3')), \n",
    "    yaxis1=dict(axis, title='IdMeas_A', **dict(domain=[0.64, 1], anchor='x1', ticksuffix='A', hoverformat='.2f')),  \n",
    "    yaxis2=dict(axis, title='IqMeas_A', **dict(domain=[0.22, 0.62], anchor='x2', ticksuffix='A', hoverformat='.2f')),\n",
    "    #yaxis3=dict(axis, **dict(domain=[0, 0.2], anchor='x3', hoverformat='.2f')),\n",
    "    plot_bgcolor='rgba(228, 222, 249, 0.65)'\n",
    ")\n",
    "\n",
    "fig2 = dict(data=[trace1, trace2], layout=layout1)\n",
    "py.iplot(fig2, filename='lm30hz-current-vs-time')\n",
    "#pio.write_image(fig2, '../docs/images/lm30hz_current_vs_time.pdf', height=600, width=1200)"
   ]
  },
  {
   "cell_type": "code",
   "execution_count": 65,
   "metadata": {},
   "outputs": [
    {
     "name": "stdout",
     "output_type": "stream",
     "text": [
      "The draw time for this plot will be slow for clients without much RAM.\n"
     ]
    },
    {
     "data": {
      "text/html": [
       "<iframe id=\"igraph\" scrolling=\"no\" style=\"border:none;\" seamless=\"seamless\" src=\"https://plot.ly/~versag/36.embed\" height=\"1200px\" width=\"100%\"></iframe>"
      ],
      "text/plain": [
       "<plotly.tools.PlotlyDisplay object>"
      ]
     },
     "execution_count": 65,
     "metadata": {},
     "output_type": "execute_result"
    }
   ],
   "source": [
    "#'Time_VSpdTq', 'VdRef_V', 'Speed_Hz', 'VqRef_V', 'Torque_PercTnom', 'aa']\n",
    "trace8=go.Scatter(\n",
    "    x=voltag_torque_table[:,0],\n",
    "    y=voltag_torque_table[:,1],\n",
    "    xaxis='x1',\n",
    "    yaxis='y1',\n",
    "    mode='lines',\n",
    "    line=dict(width=2, color='#9748a1'),\n",
    "    name='VdRef_V vs Time_VSpdTq'\n",
    ")\n",
    "\n",
    "trace9=go.Scatter(\n",
    "    x=voltag_torque_table[:,0],\n",
    "    y=voltag_torque_table[:,2],\n",
    "    xaxis='x2',\n",
    "    yaxis='y2',\n",
    "    mode='lines',\n",
    "    line=dict(width=2, color='#b04553'),\n",
    "    name='SpeedHz vs Time_VSpdTq'\n",
    ")\n",
    "\n",
    "trace10=go.Scatter(\n",
    "    x=voltag_torque_table[:,0],\n",
    "    y=voltag_torque_table[:,3],\n",
    "    xaxis='x3',\n",
    "    yaxis='y3',\n",
    "    mode='lines',\n",
    "    line=dict(width=2, color='#af7bbd'),\n",
    "    name='VqRef_V vs Time_VSpdTq'\n",
    ")\n",
    "\n",
    "trace11=go.Scatter(\n",
    "    x=voltag_torque_table[:,0],\n",
    "    y=voltag_torque_table[:,4],\n",
    "    xaxis='x4',\n",
    "    yaxis='y4',\n",
    "    mode='lines',\n",
    "    line=dict(width=2, color='#ff7bbd'),\n",
    "    name='Torque_PercTnom vs Time_VSpdTq'\n",
    ")\n",
    "\n",
    "trace12=go.Scatter(\n",
    "    x=voltag_torque_table[:,0],\n",
    "    y=voltag_torque_table[:,5],\n",
    "    xaxis='x5',\n",
    "    yaxis='y5',\n",
    "    mode='lines',\n",
    "    line=dict(width=2, color='#afaabd'),\n",
    "    name='aa vs Time_VSpdTq'\n",
    ")\n",
    "\n",
    "axis=dict(\n",
    "    showline=True,\n",
    "    zeroline=False,\n",
    "    showgrid=True,\n",
    "    mirror=True, \n",
    "    ticklen=4, \n",
    "    gridcolor='#ffffff',\n",
    "    tickfont=dict(size=10)\n",
    ")\n",
    "\n",
    "layout3 = dict(\n",
    "    height=1200,\n",
    "    autosize=False,\n",
    "    title='lm30hz: Voltage, Torque and Speed vs Time',\n",
    "    margin = dict(t=100),\n",
    "    showlegend=False,          \n",
    "    xaxis1=dict(axis, **dict(domain=[0, 1], anchor='y1')),\n",
    "    xaxis2=dict(axis, **dict(domain=[0, 1], anchor='y2')),          \n",
    "    xaxis3=dict(axis, **dict(domain=[0, 1], anchor='y3')),\n",
    "    xaxis4=dict(axis, title='Time_VSpdTq', **dict(domain=[0, 1], anchor='y4')),\n",
    "    #xaxis5=dict(axis, **dict(domain=[0, 1], anchor='y5')),\n",
    "    \n",
    "    yaxis1=dict(axis, title='VdRef_V', **dict(domain=[0.80, 1], anchor='x1', ticksuffix='V', hoverformat='.2f')),  \n",
    "    yaxis2=dict(axis, title='SpeedHz', **dict(domain=[0.60, 0.79], anchor='x2', ticksuffix='Hz', hoverformat='.2f')),\n",
    "    yaxis3=dict(axis, title='VqRef_V', **dict(domain=[0.40, 0.59], anchor='x2', ticksuffix='V', hoverformat='.2f')),\n",
    "    yaxis4=dict(axis, title='Torque_PercTnom', **dict(domain=[0.20, 0.39], anchor='x4', ticksuffix='N-m', hoverformat='.2f')),\n",
    "    #yaxis5=dict(axis, **dict(domain=[0, 0.19], anchor='x5', hoverformat='.2f')),\n",
    "    plot_bgcolor='rgba(228, 222, 249, 0.65)'\n",
    ")\n",
    "\n",
    "fig2 = dict(data=[trace8, trace9, trace10, trace11], layout=layout3)\n",
    "py.iplot(fig2, filename='lm30hz-voltage-torque-speed-vs-time')\n",
    "#pio.write_image(fig2, '../docs/images/lm30hz_voltage_torque_speed_vs_time.pdf', height=1200, width=1200)"
   ]
  },
  {
   "cell_type": "code",
   "execution_count": 66,
   "metadata": {},
   "outputs": [],
   "source": [
    "current_table = np.hstack([data_map['lm50hz']['Time_I'], data_map['lm50hz']['IdMeas_A'], data_map['lm50hz']['IqMeas_A'], data_map['lm50hz']['bb']])\n",
    "variable_table = np.hstack([data_map['lm50hz']['Time'], data_map['lm50hz']['VariableSpd'], data_map['lm50hz']['VariableQ'], data_map['lm50hz']['VariableTq'], data_map['lm50hz']['VariableD']])\n",
    "voltag_torque_table = np.hstack([data_map['lm50hz']['Time_VSpdTq'], data_map['lm50hz']['VdRef_V'], data_map['lm50hz']['Speed_Hz'], data_map['lm50hz']['VqRef_V'], data_map['lm50hz']['Torque_PercTnom'], data_map['lm50hz']['aa']])"
   ]
  },
  {
   "cell_type": "code",
   "execution_count": 67,
   "metadata": {},
   "outputs": [
    {
     "data": {
      "text/html": [
       "<iframe id=\"igraph\" scrolling=\"no\" style=\"border:none;\" seamless=\"seamless\" src=\"https://plot.ly/~versag/38.embed\" height=\"525px\" width=\"100%\"></iframe>"
      ],
      "text/plain": [
       "<plotly.tools.PlotlyDisplay object>"
      ]
     },
     "execution_count": 67,
     "metadata": {},
     "output_type": "execute_result"
    }
   ],
   "source": [
    "trace1=go.Scatter(\n",
    "    x=current_table[:,0],\n",
    "    y=current_table[:,1],\n",
    "    xaxis='x1',\n",
    "    yaxis='y1',\n",
    "    mode='lines',\n",
    "    line=dict(width=2, color='#9748a1'),\n",
    "    name='IdMeas_A vs Time'\n",
    ")\n",
    "\n",
    "trace2=go.Scatter(\n",
    "    x=current_table[:,0],\n",
    "    y=current_table[:,2],\n",
    "    xaxis='x2',\n",
    "    yaxis='y2',\n",
    "    mode='lines',\n",
    "    line=dict(width=2, color='#b04553'),\n",
    "    name='IqMeas_A vs Time'\n",
    ")\n",
    "\n",
    "trace3=go.Scatter(\n",
    "    x=current_table[:,0],\n",
    "    y=current_table[:,3],\n",
    "    xaxis='x3',\n",
    "    yaxis='y3',\n",
    "    mode='lines',\n",
    "    line=dict(width=2, color='#af7bbd'),\n",
    "    name='bb vs Time'\n",
    ")\n",
    "\n",
    "axis=dict(\n",
    "    showline=True,\n",
    "    zeroline=False,\n",
    "    showgrid=True,\n",
    "    mirror=True, \n",
    "    ticklen=4, \n",
    "    gridcolor='#ffffff',\n",
    "    tickfont=dict(size=10)\n",
    ")\n",
    "\n",
    "layout1 = dict(\n",
    "    autosize=False,\n",
    "    title='lm50hz: Current variable vs Time',\n",
    "    margin = dict(t=100),\n",
    "    showlegend=False,          \n",
    "    xaxis1=dict(axis, **dict(domain=[0, 1], anchor='y1')),\n",
    "    xaxis2=dict(axis, title='Time_I', **dict(domain=[0, 1], anchor='y2')),          \n",
    "    #xaxis3=dict(axis, **dict(domain=[0, 1], anchor='y3')), \n",
    "    yaxis1=dict(axis, title='IdMeas_A', **dict(domain=[0.64, 1], anchor='x1', ticksuffix='A', hoverformat='.2f')),  \n",
    "    yaxis2=dict(axis, title='IqMeas_A', **dict(domain=[0.22, 0.62], anchor='x2', ticksuffix='A', hoverformat='.2f')),\n",
    "    #yaxis3=dict(axis, **dict(domain=[0, 0.2], anchor='x3', hoverformat='.2f')),\n",
    "    plot_bgcolor='rgba(228, 222, 249, 0.65)'\n",
    ")\n",
    "\n",
    "fig2 = dict(data=[trace1, trace2], layout=layout1)\n",
    "py.iplot(fig2, filename='lm50hz-current-vs-time')\n",
    "#pio.write_image(fig2, '../docs/images/lm50hz_current_vs_time.pdf', height=600, width=1200)"
   ]
  },
  {
   "cell_type": "code",
   "execution_count": 68,
   "metadata": {},
   "outputs": [
    {
     "name": "stdout",
     "output_type": "stream",
     "text": [
      "The draw time for this plot will be slow for clients without much RAM.\n"
     ]
    },
    {
     "data": {
      "text/html": [
       "<iframe id=\"igraph\" scrolling=\"no\" style=\"border:none;\" seamless=\"seamless\" src=\"https://plot.ly/~versag/40.embed\" height=\"1200px\" width=\"100%\"></iframe>"
      ],
      "text/plain": [
       "<plotly.tools.PlotlyDisplay object>"
      ]
     },
     "execution_count": 68,
     "metadata": {},
     "output_type": "execute_result"
    }
   ],
   "source": [
    "#'Time_VSpdTq', 'VdRef_V', 'Speed_Hz', 'VqRef_V', 'Torque_PercTnom', 'aa']\n",
    "trace8=go.Scatter(\n",
    "    x=voltag_torque_table[:,0],\n",
    "    y=voltag_torque_table[:,1],\n",
    "    xaxis='x1',\n",
    "    yaxis='y1',\n",
    "    mode='lines',\n",
    "    line=dict(width=2, color='#9748a1'),\n",
    "    name='VdRef_V vs Time_VSpdTq'\n",
    ")\n",
    "\n",
    "trace9=go.Scatter(\n",
    "    x=voltag_torque_table[:,0],\n",
    "    y=voltag_torque_table[:,2],\n",
    "    xaxis='x2',\n",
    "    yaxis='y2',\n",
    "    mode='lines',\n",
    "    line=dict(width=2, color='#b04553'),\n",
    "    name='SpeedHz vs Time_VSpdTq'\n",
    ")\n",
    "\n",
    "trace10=go.Scatter(\n",
    "    x=voltag_torque_table[:,0],\n",
    "    y=voltag_torque_table[:,3],\n",
    "    xaxis='x3',\n",
    "    yaxis='y3',\n",
    "    mode='lines',\n",
    "    line=dict(width=2, color='#af7bbd'),\n",
    "    name='VqRef_V vs Time_VSpdTq'\n",
    ")\n",
    "\n",
    "trace11=go.Scatter(\n",
    "    x=voltag_torque_table[:,0],\n",
    "    y=voltag_torque_table[:,4],\n",
    "    xaxis='x4',\n",
    "    yaxis='y4',\n",
    "    mode='lines',\n",
    "    line=dict(width=2, color='#ff7bbd'),\n",
    "    name='Torque_PercTnom vs Time_VSpdTq'\n",
    ")\n",
    "\n",
    "trace12=go.Scatter(\n",
    "    x=voltag_torque_table[:,0],\n",
    "    y=voltag_torque_table[:,5],\n",
    "    xaxis='x5',\n",
    "    yaxis='y5',\n",
    "    mode='lines',\n",
    "    line=dict(width=2, color='#afaabd'),\n",
    "    name='aa vs Time_VSpdTq'\n",
    ")\n",
    "\n",
    "axis=dict(\n",
    "    showline=True,\n",
    "    zeroline=False,\n",
    "    showgrid=True,\n",
    "    mirror=True, \n",
    "    ticklen=4, \n",
    "    gridcolor='#ffffff',\n",
    "    tickfont=dict(size=10)\n",
    ")\n",
    "\n",
    "layout3 = dict(\n",
    "    height=1200,\n",
    "    autosize=False,\n",
    "    title='lm50hz: Voltage, Torque and Speed vs Time',\n",
    "    margin = dict(t=100),\n",
    "    showlegend=False,          \n",
    "    xaxis1=dict(axis, **dict(domain=[0, 1], anchor='y1')),\n",
    "    xaxis2=dict(axis, **dict(domain=[0, 1], anchor='y2')),          \n",
    "    xaxis3=dict(axis, **dict(domain=[0, 1], anchor='y3')),\n",
    "    xaxis4=dict(axis, title='Time_VSpdTq', **dict(domain=[0, 1], anchor='y4')),\n",
    "    #xaxis5=dict(axis, **dict(domain=[0, 1], anchor='y5')),\n",
    "    \n",
    "    yaxis1=dict(axis, title='VdRef_V', **dict(domain=[0.80, 1], anchor='x1', ticksuffix='V', hoverformat='.2f')),  \n",
    "    yaxis2=dict(axis, title='SpeedHz', **dict(domain=[0.60, 0.79], anchor='x2', ticksuffix='Hz', hoverformat='.2f')),\n",
    "    yaxis3=dict(axis, title='VqRef_V', **dict(domain=[0.40, 0.59], anchor='x2', ticksuffix='V', hoverformat='.2f')),\n",
    "    yaxis4=dict(axis, title='Torque_PercTnom', **dict(domain=[0.20, 0.39], anchor='x4', ticksuffix='N-m', hoverformat='.2f')),\n",
    "    #yaxis5=dict(axis, **dict(domain=[0, 0.19], anchor='x5', hoverformat='.2f')),\n",
    "    \n",
    "    plot_bgcolor='rgba(228, 222, 249, 0.65)'\n",
    ")\n",
    "\n",
    "fig2 = dict(data=[trace8, trace9, trace10, trace11], layout=layout3)\n",
    "py.iplot(fig2, filename='lm50hz-voltage-torque-speed-vs-time')\n",
    "#pio.write_image(fig2, '../docs/images/lm50hz_voltage_torque_speed_vs_time.pdf', height=1200, width=1200)"
   ]
  },
  {
   "cell_type": "code",
   "execution_count": 69,
   "metadata": {},
   "outputs": [],
   "source": [
    "current_table = np.hstack([data_map['lm68hz']['Time_I'], data_map['lm68hz']['IdMeas_A'], data_map['lm68hz']['IqMeas_A'], data_map['lm68hz']['bb']])\n",
    "variable_table = np.hstack([data_map['lm68hz']['Time'], data_map['lm68hz']['VariableSpd'], data_map['lm68hz']['VariableQ'], data_map['lm68hz']['VariableTq'], data_map['lm68hz']['VariableD']])\n",
    "voltag_torque_table = np.hstack([data_map['lm68hz']['Time_VSpdTq'], data_map['lm68hz']['VdRef_V'], data_map['lm68hz']['Speed_Hz'], data_map['lm68hz']['VqRef_V'], data_map['lm68hz']['Torque_PercTnom'], data_map['lm68hz']['aa']])"
   ]
  },
  {
   "cell_type": "code",
   "execution_count": 70,
   "metadata": {},
   "outputs": [
    {
     "data": {
      "text/html": [
       "<iframe id=\"igraph\" scrolling=\"no\" style=\"border:none;\" seamless=\"seamless\" src=\"https://plot.ly/~versag/42.embed\" height=\"525px\" width=\"100%\"></iframe>"
      ],
      "text/plain": [
       "<plotly.tools.PlotlyDisplay object>"
      ]
     },
     "execution_count": 70,
     "metadata": {},
     "output_type": "execute_result"
    }
   ],
   "source": [
    "trace1=go.Scatter(\n",
    "    x=current_table[:,0],\n",
    "    y=current_table[:,1],\n",
    "    xaxis='x1',\n",
    "    yaxis='y1',\n",
    "    mode='lines',\n",
    "    line=dict(width=2, color='#9748a1'),\n",
    "    name='IdMeas_A vs Time'\n",
    ")\n",
    "\n",
    "trace2=go.Scatter(\n",
    "    x=current_table[:,0],\n",
    "    y=current_table[:,2],\n",
    "    xaxis='x2',\n",
    "    yaxis='y2',\n",
    "    mode='lines',\n",
    "    line=dict(width=2, color='#b04553'),\n",
    "    name='IqMeas_A vs Time'\n",
    ")\n",
    "\n",
    "trace3=go.Scatter(\n",
    "    x=current_table[:,0],\n",
    "    y=current_table[:,3],\n",
    "    xaxis='x3',\n",
    "    yaxis='y3',\n",
    "    mode='lines',\n",
    "    line=dict(width=2, color='#af7bbd'),\n",
    "    name='bb vs Time'\n",
    ")\n",
    "\n",
    "axis=dict(\n",
    "    showline=True,\n",
    "    zeroline=False,\n",
    "    showgrid=True,\n",
    "    mirror=True, \n",
    "    ticklen=4, \n",
    "    gridcolor='#ffffff',\n",
    "    tickfont=dict(size=10)\n",
    ")\n",
    "\n",
    "layout1 = dict(\n",
    "    autosize=False,\n",
    "    title='lm68hz: Current variable vs Time',\n",
    "    margin = dict(t=100),\n",
    "    showlegend=False,          \n",
    "    xaxis1=dict(axis, **dict(domain=[0, 1], anchor='y1')),\n",
    "    xaxis2=dict(axis, title='Time_I', **dict(domain=[0, 1], anchor='y2')),          \n",
    "    #xaxis3=dict(axis, **dict(domain=[0, 1], anchor='y3')), \n",
    "    yaxis1=dict(axis, title='IdMeas_A', **dict(domain=[0.64, 1], anchor='x1', ticksuffix='A', hoverformat='.2f')),  \n",
    "    yaxis2=dict(axis, title='IqMeas_A', **dict(domain=[0.22, 0.62], anchor='x2', ticksuffix='A', hoverformat='.2f')),\n",
    "    #yaxis3=dict(axis, **dict(domain=[0, 0.2], anchor='x3', hoverformat='.2f')),\n",
    "    plot_bgcolor='rgba(228, 222, 249, 0.65)'\n",
    ")\n",
    "\n",
    "fig2 = dict(data=[trace1, trace2], layout=layout1)\n",
    "py.iplot(fig2, filename='lm68hz-current-vs-time')\n",
    "#pio.write_image(fig2, '../docs/images/lm68hz_current_vs_time.pdf', height=600, width=1200)"
   ]
  },
  {
   "cell_type": "code",
   "execution_count": 71,
   "metadata": {},
   "outputs": [
    {
     "name": "stdout",
     "output_type": "stream",
     "text": [
      "The draw time for this plot will be slow for clients without much RAM.\n"
     ]
    },
    {
     "data": {
      "text/html": [
       "<iframe id=\"igraph\" scrolling=\"no\" style=\"border:none;\" seamless=\"seamless\" src=\"https://plot.ly/~versag/44.embed\" height=\"1200px\" width=\"100%\"></iframe>"
      ],
      "text/plain": [
       "<plotly.tools.PlotlyDisplay object>"
      ]
     },
     "execution_count": 71,
     "metadata": {},
     "output_type": "execute_result"
    }
   ],
   "source": [
    "#'Time_VSpdTq', 'VdRef_V', 'Speed_Hz', 'VqRef_V', 'Torque_PercTnom', 'aa']\n",
    "trace8=go.Scatter(\n",
    "    x=voltag_torque_table[:,0],\n",
    "    y=voltag_torque_table[:,1],\n",
    "    xaxis='x1',\n",
    "    yaxis='y1',\n",
    "    mode='lines',\n",
    "    line=dict(width=2, color='#9748a1'),\n",
    "    name='VdRef_V vs Time_VSpdTq'\n",
    ")\n",
    "\n",
    "trace9=go.Scatter(\n",
    "    x=voltag_torque_table[:,0],\n",
    "    y=voltag_torque_table[:,2],\n",
    "    xaxis='x2',\n",
    "    yaxis='y2',\n",
    "    mode='lines',\n",
    "    line=dict(width=2, color='#b04553'),\n",
    "    name='SpeedHz vs Time_VSpdTq'\n",
    ")\n",
    "\n",
    "trace10=go.Scatter(\n",
    "    x=voltag_torque_table[:,0],\n",
    "    y=voltag_torque_table[:,3],\n",
    "    xaxis='x3',\n",
    "    yaxis='y3',\n",
    "    mode='lines',\n",
    "    line=dict(width=2, color='#af7bbd'),\n",
    "    name='VqRef_V vs Time_VSpdTq'\n",
    ")\n",
    "\n",
    "trace11=go.Scatter(\n",
    "    x=voltag_torque_table[:,0],\n",
    "    y=voltag_torque_table[:,4],\n",
    "    xaxis='x4',\n",
    "    yaxis='y4',\n",
    "    mode='lines',\n",
    "    line=dict(width=2, color='#ff7bbd'),\n",
    "    name='Torque_PercTnom vs Time_VSpdTq'\n",
    ")\n",
    "\n",
    "trace12=go.Scatter(\n",
    "    x=voltag_torque_table[:,0],\n",
    "    y=voltag_torque_table[:,5],\n",
    "    xaxis='x5',\n",
    "    yaxis='y5',\n",
    "    mode='lines',\n",
    "    line=dict(width=2, color='#afaabd'),\n",
    "    name='aa vs Time_VSpdTq'\n",
    ")\n",
    "\n",
    "axis=dict(\n",
    "    showline=True,\n",
    "    zeroline=False,\n",
    "    showgrid=True,\n",
    "    mirror=True, \n",
    "    ticklen=4, \n",
    "    gridcolor='#ffffff',\n",
    "    tickfont=dict(size=10)\n",
    ")\n",
    "\n",
    "layout3 = dict(\n",
    "    height=1200,\n",
    "    autosize=False,\n",
    "    title='lm68hz: Voltage, Torque and Speed vs Time',\n",
    "    margin = dict(t=100),\n",
    "    showlegend=False,          \n",
    "    xaxis1=dict(axis, **dict(domain=[0, 1], anchor='y1')),\n",
    "    xaxis2=dict(axis, **dict(domain=[0, 1], anchor='y2')),          \n",
    "    xaxis3=dict(axis, **dict(domain=[0, 1], anchor='y3')),\n",
    "    xaxis4=dict(axis, title='Time_VSpdTq', **dict(domain=[0, 1], anchor='y4')),\n",
    "    #xaxis5=dict(axis, **dict(domain=[0, 1], anchor='y5')),\n",
    "    \n",
    "    yaxis1=dict(axis, title='VdRef_V', **dict(domain=[0.80, 1], anchor='x1', ticksuffix='V', hoverformat='.2f')),  \n",
    "    yaxis2=dict(axis, title='SpeedHz', **dict(domain=[0.60, 0.79], anchor='x2', ticksuffix='Hz', hoverformat='.2f')),\n",
    "    yaxis3=dict(axis, title='VqRef_V', **dict(domain=[0.40, 0.59], anchor='x2', ticksuffix='V', hoverformat='.2f')),\n",
    "    yaxis4=dict(axis, title='Torque_PercTnom', **dict(domain=[0.20, 0.39], anchor='x4', ticksuffix='N-m', hoverformat='.2f')),\n",
    "    #yaxis5=dict(axis, **dict(domain=[0, 0.19], anchor='x5', hoverformat='.2f')),\n",
    "    \n",
    "    plot_bgcolor='rgba(228, 222, 249, 0.65)'\n",
    ")\n",
    "\n",
    "fig2 = dict(data=[trace8, trace9, trace10, trace11], layout=layout3)\n",
    "py.iplot(fig2, filename='lm68hz-voltage-torque-speed-vs-time')\n",
    "#pio.write_image(fig2, '../docs/images/lm68hz_voltage_torque_speed_vs_time.pdf', height=1200, width=1200)"
   ]
  },
  {
   "cell_type": "code",
   "execution_count": 4,
   "metadata": {},
   "outputs": [],
   "source": [
    "d = sio.loadmat('../datasets/DATACSdet.mat')\n",
    "d2 = sio.loadmat('../datasets/DATACS2det.mat')"
   ]
  },
  {
   "cell_type": "code",
   "execution_count": 6,
   "metadata": {},
   "outputs": [
    {
     "data": {
      "text/plain": [
       "dict_keys(['__globals__', '__version__', 't', 'TorqueLoad', '__header__', 'Speed'])"
      ]
     },
     "execution_count": 6,
     "metadata": {},
     "output_type": "execute_result"
    }
   ],
   "source": [
    "d.keys()"
   ]
  },
  {
   "cell_type": "code",
   "execution_count": 7,
   "metadata": {},
   "outputs": [
    {
     "data": {
      "text/plain": [
       "[<matplotlib.lines.Line2D at 0x7f95cd88ab00>]"
      ]
     },
     "execution_count": 7,
     "metadata": {},
     "output_type": "execute_result"
    },
    {
     "data": {
      "image/png": "[encoded data removed]",
      "text/plain": [
       "<Figure size 432x288 with 1 Axes>"
      ]
     },
     "metadata": {
      "needs_background": "light"
     },
     "output_type": "display_data"
    }
   ],
   "source": [
    "plt.plot(d['t'])"
   ]
  },
  {
   "cell_type": "code",
   "execution_count": 23,
   "metadata": {},
   "outputs": [],
   "source": [
    "fout = open('../datasets/data1.txt','w')\n",
    "fout.write('[')\n",
    "for t in d['t']:\n",
    "    fout.write(str(t[0]) + ' ')\n",
    "\n",
    "fout.write(']\\n[')\n",
    "\n",
    "for torque in d['TorqueLoad']:\n",
    "    fout.write(str(torque[0]) + ' ')\n",
    "    \n",
    "fout.write(']\\n[')\n",
    "\n",
    "for speed in d['Speed']:\n",
    "    fout.write(str(speed[0]) + ' ')\n",
    "    \n",
    "fout.write(']\\n')\n",
    "\n",
    "fout.close()"
   ]
  },
  {
   "cell_type": "code",
   "execution_count": 9,
   "metadata": {},
   "outputs": [
    {
     "data": {
      "text/plain": [
       "[<matplotlib.lines.Line2D at 0x7f95ccef0588>]"
      ]
     },
     "execution_count": 9,
     "metadata": {},
     "output_type": "execute_result"
    },
    {
     "data": {
      "image/png": "[encoded data removed]",
      "text/plain": [
       "<Figure size 432x288 with 1 Axes>"
      ]
     },
     "metadata": {
      "needs_background": "light"
     },
     "output_type": "display_data"
    }
   ],
   "source": [
    "plt.plot(d['Speed'])"
   ]
  },
  {
   "cell_type": "code",
   "execution_count": 10,
   "metadata": {},
   "outputs": [
    {
     "data": {
      "text/plain": [
       "dict_keys(['__globals__', '__version__', 'Kvalv', 't', '__header__', 'Speed'])"
      ]
     },
     "execution_count": 10,
     "metadata": {},
     "output_type": "execute_result"
    }
   ],
   "source": [
    "d2.keys()"
   ]
  },
  {
   "cell_type": "code",
   "execution_count": 14,
   "metadata": {},
   "outputs": [
    {
     "data": {
      "text/plain": [
       "[<matplotlib.lines.Line2D at 0x7f95cceb0b70>]"
      ]
     },
     "execution_count": 14,
     "metadata": {},
     "output_type": "execute_result"
    },
    {
     "data": {
      "image/png": "[encoded data removed]",
      "text/plain": [
       "<Figure size 432x288 with 1 Axes>"
      ]
     },
     "metadata": {
      "needs_background": "light"
     },
     "output_type": "display_data"
    }
   ],
   "source": [
    "plt.plot(d2['Kvalv'])"
   ]
  },
  {
   "cell_type": "code",
   "execution_count": 15,
   "metadata": {},
   "outputs": [
    {
     "data": {
      "text/plain": [
       "[<matplotlib.lines.Line2D at 0x7f95cce71c50>]"
      ]
     },
     "execution_count": 15,
     "metadata": {},
     "output_type": "execute_result"
    },
    {
     "data": {
      "image/png": "[encoded data removed]",
      "text/plain": [
       "<Figure size 432x288 with 1 Axes>"
      ]
     },
     "metadata": {
      "needs_background": "light"
     },
     "output_type": "display_data"
    }
   ],
   "source": [
    "plt.plot(d2['t'])"
   ]
  },
  {
   "cell_type": "code",
   "execution_count": 16,
   "metadata": {},
   "outputs": [
    {
     "data": {
      "text/plain": [
       "[<matplotlib.lines.Line2D at 0x7f95cce31518>]"
      ]
     },
     "execution_count": 16,
     "metadata": {},
     "output_type": "execute_result"
    },
    {
     "data": {
      "image/png": "[encoded data removed]",
      "text/plain": [
       "<Figure size 432x288 with 1 Axes>"
      ]
     },
     "metadata": {
      "needs_background": "light"
     },
     "output_type": "display_data"
    }
   ],
   "source": [
    "plt.plot(d['Speed'])"
   ]
  },
  {
   "cell_type": "code",
   "execution_count": 24,
   "metadata": {},
   "outputs": [
    {
     "data": {
      "text/plain": [
       "array([1199.99899998])"
      ]
     },
     "execution_count": 24,
     "metadata": {},
     "output_type": "execute_result"
    }
   ],
   "source": [
    "d['t'][-1]"
   ]
  },
  {
   "cell_type": "code",
   "execution_count": 27,
   "metadata": {},
   "outputs": [],
   "source": [
    "new_speed = [d['Speed'][0][0]]\n",
    "new_time = [d['t'][0][0]]\n",
    "\n",
    "i = 0\n",
    "for j in range(1,d['Speed'].shape[0]):\n",
    "    if d['Speed'][j][0] != new_speed[i]:\n",
    "        new_speed.append(d['Speed'][j][0])\n",
    "        new_time.append(d['t'][j][0])\n",
    "        i += 1"
   ]
  },
  {
   "cell_type": "code",
   "execution_count": 28,
   "metadata": {},
   "outputs": [
    {
     "data": {
      "text/plain": [
       "(406395, 406395)"
      ]
     },
     "execution_count": 28,
     "metadata": {},
     "output_type": "execute_result"
    }
   ],
   "source": [
    "len(new_speed), len(new_time)"
   ]
  },
  {
   "cell_type": "code",
   "execution_count": 29,
   "metadata": {},
   "outputs": [],
   "source": [
    "new_torque = [d['TorqueLoad'][0][0]]\n",
    "new_ttime = [d['t'][0][0]]\n",
    "\n",
    "i = 0\n",
    "for j in range(1,d['TorqueLoad'].shape[0]):\n",
    "    if d['TorqueLoad'][j][0] != new_torque[i]:\n",
    "        new_torque.append(d['TorqueLoad'][j][0])\n",
    "        new_ttime.append(d['t'][j][0])\n",
    "        i += 1"
   ]
  },
  {
   "cell_type": "code",
   "execution_count": 30,
   "metadata": {},
   "outputs": [
    {
     "data": {
      "text/plain": [
       "(295400, 295400)"
      ]
     },
     "execution_count": 30,
     "metadata": {},
     "output_type": "execute_result"
    }
   ],
   "source": [
    "len(new_torque), len(new_ttime)"
   ]
  },
  {
   "cell_type": "code",
   "execution_count": 31,
   "metadata": {},
   "outputs": [
    {
     "data": {
      "text/plain": [
       "(1200000, 1)"
      ]
     },
     "execution_count": 31,
     "metadata": {},
     "output_type": "execute_result"
    }
   ],
   "source": [
    "d['TorqueLoad'].shape"
   ]
  },
  {
   "cell_type": "code",
   "execution_count": 32,
   "metadata": {},
   "outputs": [],
   "source": [
    "fout = open('../datasets/data1_compressed.txt','w')\n",
    "fout.write('[')\n",
    "for t in new_ttime:\n",
    "    fout.write(str(t) + ' ')\n",
    "\n",
    "fout.write(']\\n[')\n",
    "\n",
    "for torque in new_torque:\n",
    "    fout.write(str(torque) + ' ')\n",
    "    \n",
    "fout.write(']\\n[')\n",
    "\n",
    "for t in new_time:\n",
    "    fout.write(str(t) + ' ')\n",
    "\n",
    "fout.write(']\\n[')\n",
    "\n",
    "for speed in new_speed:\n",
    "    fout.write(str(speed) + ' ')\n",
    "    \n",
    "fout.write(']\\n')\n",
    "\n",
    "fout.close()"
   ]
  },
  {
   "cell_type": "code",
   "execution_count": 99,
   "metadata": {},
   "outputs": [],
   "source": [
    "current = sio.loadmat('../datasets/DATACSdet_simulink_current_dq.mat')\n",
    "voltage = sio.loadmat('../datasets/DATACSdet_simulink_voltage_dq.mat')\n",
    "stator_plus = sio.loadmat('../datasets/DATACSdet_simulink_statorplus_dq.mat')\n",
    "speed = sio.loadmat('../datasets/DATACSdet_simulink_speed_dq.mat')\n",
    "torque = sio.loadmat('../datasets/DATACSdet_simulink_torque_dq.mat')"
   ]
  },
  {
   "cell_type": "code",
   "execution_count": 125,
   "metadata": {},
   "outputs": [
    {
     "data": {
      "text/plain": [
       "(157470, 7)"
      ]
     },
     "execution_count": 125,
     "metadata": {},
     "output_type": "execute_result"
    }
   ],
   "source": [
    "dataset = np.hstack((voltage['Voltage'], stator_plus['StatorPuls'], speed['Speed'], current['Current'], torque['Torque']))\n",
    "dataset.shape"
   ]
  },
  {
   "cell_type": "code",
   "execution_count": 117,
   "metadata": {},
   "outputs": [
    {
     "data": {
      "text/plain": [
       "((157470, 2), (157470, 2), (157470, 1), (157470, 1), (157470, 1))"
      ]
     },
     "execution_count": 117,
     "metadata": {},
     "output_type": "execute_result"
    }
   ],
   "source": [
    "current['Current'].shape, voltage['Voltage'].shape, stator_plus['StatorPuls'].shape, speed['Speed'].shape, torque['Torque'].shape"
   ]
  },
  {
   "cell_type": "code",
   "execution_count": 137,
   "metadata": {},
   "outputs": [
    {
     "data": {
      "text/plain": [
       "[<matplotlib.lines.Line2D at 0x7f95c96b8550>]"
      ]
     },
     "execution_count": 137,
     "metadata": {},
     "output_type": "execute_result"
    },
    {
     "data": {
      "image/png": "[encoded data removed]",
      "text/plain": [
       "<Figure size 432x288 with 1 Axes>"
      ]
     },
     "metadata": {
      "needs_background": "light"
     },
     "output_type": "display_data"
    }
   ],
   "source": [
    "plt.plot(current['Current'][200:3000,0])\n",
    "plt.plot(current['Current'][200:3000,1])"
   ]
  },
  {
   "cell_type": "code",
   "execution_count": 138,
   "metadata": {},
   "outputs": [
    {
     "data": {
      "text/plain": [
       "[<matplotlib.lines.Line2D at 0x7f95c9674198>]"
      ]
     },
     "execution_count": 138,
     "metadata": {},
     "output_type": "execute_result"
    },
    {
     "data": {
      "image/png": "[encoded data removed]",
      "text/plain": [
       "<Figure size 432x288 with 1 Axes>"
      ]
     },
     "metadata": {
      "needs_background": "light"
     },
     "output_type": "display_data"
    }
   ],
   "source": [
    "plt.plot(voltage['Voltage'][200:3000,0])\n",
    "plt.plot(voltage['Voltage'][200:3000,1])"
   ]
  },
  {
   "cell_type": "code",
   "execution_count": 143,
   "metadata": {},
   "outputs": [
    {
     "data": {
      "text/plain": [
       "[<matplotlib.lines.Line2D at 0x7f95c9598ba8>]"
      ]
     },
     "execution_count": 143,
     "metadata": {},
     "output_type": "execute_result"
    },
    {
     "data": {
      "image/png": "[encoded data removed]",
      "text/plain": [
       "<Figure size 432x288 with 1 Axes>"
      ]
     },
     "metadata": {
      "needs_background": "light"
     },
     "output_type": "display_data"
    }
   ],
   "source": [
    "plt.plot(stator_plus['StatorPuls'][200:3000])"
   ]
  },
  {
   "cell_type": "code",
   "execution_count": 141,
   "metadata": {},
   "outputs": [
    {
     "data": {
      "text/plain": [
       "[<matplotlib.lines.Line2D at 0x7f95c9623860>]"
      ]
     },
     "execution_count": 141,
     "metadata": {},
     "output_type": "execute_result"
    },
    {
     "data": {
      "image/png": "[encoded data removed]",
      "text/plain": [
       "<Figure size 432x288 with 1 Axes>"
      ]
     },
     "metadata": {
      "needs_background": "light"
     },
     "output_type": "display_data"
    }
   ],
   "source": [
    "plt.plot(speed['Speed'][200:3000])"
   ]
  },
  {
   "cell_type": "code",
   "execution_count": 142,
   "metadata": {},
   "outputs": [
    {
     "data": {
      "text/plain": [
       "[<matplotlib.lines.Line2D at 0x7f95c95e2358>]"
      ]
     },
     "execution_count": 142,
     "metadata": {},
     "output_type": "execute_result"
    },
    {
     "data": {
      "image/png": "[encoded data removed]",
      "text/plain": [
       "<Figure size 432x288 with 1 Axes>"
      ]
     },
     "metadata": {
      "needs_background": "light"
     },
     "output_type": "display_data"
    }
   ],
   "source": [
    "plt.plot(torque['Torque'][200:3000])"
   ]
  },
  {
   "cell_type": "code",
   "execution_count": null,
   "metadata": {},
   "outputs": [],
   "source": []
  }
 ],
 "metadata": {
  "kernelspec": {
   "display_name": "Python 2",
   "language": "python",
   "name": "python2"
  },
  "language_info": {
   "codemirror_mode": {
    "name": "ipython",
    "version": 3
   },
   "file_extension": ".py",
   "mimetype": "text/x-python",
   "name": "python",
   "nbconvert_exporter": "python",
   "pygments_lexer": "ipython3",
   "version": "3.5.2"
  }
 },
 "nbformat": 4,
 "nbformat_minor": 2
}
